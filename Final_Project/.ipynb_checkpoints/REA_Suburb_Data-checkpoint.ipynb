{
 "cells": [
  {
   "cell_type": "markdown",
   "metadata": {},
   "source": [
    "Web Scraping 201: finding the API\n",
    "http://www.gregreda.com/2015/02/15/web-scraping-finding-the-api/"
   ]
  },
  {
   "cell_type": "code",
   "execution_count": 1,
   "metadata": {},
   "outputs": [],
   "source": [
    "import pandas as pd\n",
    "import numpy as np\n",
    "import requests\n",
    "import json\n",
    "import pprint\n",
    "from bs4 import BeautifulSoup"
   ]
  },
  {
   "cell_type": "markdown",
   "metadata": {
    "heading_collapsed": true
   },
   "source": [
    "# Get suburb median property price summary data"
   ]
  },
  {
   "cell_type": "code",
   "execution_count": 5,
   "metadata": {
    "hidden": true
   },
   "outputs": [],
   "source": [
    "# A list of suburb to scrape the house buy and rent data from realestate.com.au\n",
    "suburbs=['runcorn','sunnybank','sunnybank hills','eight mile plains', \n",
    "         'kuraby', 'upper mount gravatt', 'wishart', 'coopers plains','calamvale', 'algester']"
   ]
  },
  {
   "cell_type": "code",
   "execution_count": 6,
   "metadata": {
    "hidden": true,
    "scrolled": true
   },
   "outputs": [],
   "source": [
    "#Create a loop to collect the house buy and rent data from each suburb\n",
    "\n",
    "results=[]\n",
    "\n",
    "for s in suburbs:\n",
    "    #define API URL\n",
    "    url_part1='https://investor-api.realestate.com.au/v2/states/qld/suburbs/'\n",
    "    url_part2='.json?embed=suburb_geo'\n",
    "\n",
    "    url=url_part1+s+url_part2\n",
    "    \n",
    "    #Request the URL and parse the JSON data\n",
    "    response=requests.get(url) #request the url\n",
    "    response.raise_for_status() #raise exception if invaid response\n",
    "    #print('Response Code: ',response.status_code) #check the request code  \n",
    "\n",
    "    result=response.json() #create a json object ofthe results\n",
    "    results.append(result)"
   ]
  },
  {
   "cell_type": "code",
   "execution_count": 7,
   "metadata": {
    "hidden": true
   },
   "outputs": [
    {
     "name": "stdout",
     "output_type": "stream",
     "text": [
      "['RUNCORN-4113', 'SUNNYBANK-4109', 'SUNNYBANK HILLS-4109', 'EIGHT MILE PLAINS-4113', 'KURABY-4112', 'UPPER MOUNT GRAVATT-4122', 'WISHART-4122', 'COOPERS PLAINS-4108', 'CALAMVALE-4116', 'ALGESTER-4115']\n"
     ]
    }
   ],
   "source": [
    "#check if the results list has collected all 10 suburbs data from the json file\n",
    "suburb_keys=[list(r.keys())[0] for r in results] \n",
    "print(suburb_keys)"
   ]
  },
  {
   "cell_type": "code",
   "execution_count": 8,
   "metadata": {
    "hidden": true,
    "scrolled": false
   },
   "outputs": [],
   "source": [
    "#Preview a sample suburb \"Runcorn\" json data\n",
    "#pprint.pprint(results[1]) #print the result"
   ]
  },
  {
   "cell_type": "markdown",
   "metadata": {
    "hidden": true
   },
   "source": [
    "## Create a suburb based house price data frame"
   ]
  },
  {
   "cell_type": "code",
   "execution_count": 9,
   "metadata": {
    "hidden": true
   },
   "outputs": [
    {
     "name": "stdout",
     "output_type": "stream",
     "text": [
      "dict_keys(['HOUSE', 'UNIT'])\n"
     ]
    }
   ],
   "source": [
    "property_type=results[0]['RUNCORN-4113']['property_types'] #check what property types available in the listing\n",
    "print(property_type.keys()) #2 Types - House, Unit\n",
    "\n",
    "#We only look for bedrooms with 3+ bedrooms\n",
    "house_bed_num=['ALL', '3', '4', '5+']"
   ]
  },
  {
   "cell_type": "code",
   "execution_count": 10,
   "metadata": {
    "hidden": true,
    "scrolled": true
   },
   "outputs": [],
   "source": [
    "#Create a loop to access the house buy/rent data based on the num of bedrooms from each suburb\n",
    "house_bedrooms_data=[]\n",
    "\n",
    "for key in range(len(suburb_keys)):\n",
    "    \n",
    "    suburbs_pc=suburb_keys[key]  #suburb name + postal_code\n",
    "    suburb_data=results[key][suburbs_pc] #access the suburb dict\n",
    "    house_suburb_data=suburb_data['property_types']['HOUSE'] #access the house data in the dict\n",
    "    house_bedrooms=house_suburb_data['bedrooms'] #access the house bedrooms info in the dict\n",
    "    \n",
    "    hbk=list(house_bedrooms.keys()) #check if the suburb has house data with less than 3 bedrooms, if so, remove them\n",
    "    if '0' in hbk:  #remove record with bedroom num=0\n",
    "        house_bedrooms.pop('0')\n",
    "    elif '1' in hbk: #remove record with bedroom num=1\n",
    "        house_bedrooms.pop('1')\n",
    "    elif '2' in hbk:#remove record with bedroom num=2\n",
    "        house_bedrooms.pop('2')\n",
    "    else:\n",
    "        house_bedrooms\n",
    "    \n",
    "    house_bedrooms_data.append(house_bedrooms)    "
   ]
  },
  {
   "cell_type": "code",
   "execution_count": 11,
   "metadata": {
    "hidden": true,
    "scrolled": false
   },
   "outputs": [
    {
     "data": {
      "text/html": [
       "<div>\n",
       "<style scoped>\n",
       "    .dataframe tbody tr th:only-of-type {\n",
       "        vertical-align: middle;\n",
       "    }\n",
       "\n",
       "    .dataframe tbody tr th {\n",
       "        vertical-align: top;\n",
       "    }\n",
       "\n",
       "    .dataframe thead th {\n",
       "        text-align: right;\n",
       "    }\n",
       "</style>\n",
       "<table border=\"1\" class=\"dataframe\">\n",
       "  <thead>\n",
       "    <tr style=\"text-align: right;\">\n",
       "      <th></th>\n",
       "      <th>suburb</th>\n",
       "      <th>bedrooms</th>\n",
       "      <th>median_sold_price</th>\n",
       "      <th>median_sold_price_five_years_ago</th>\n",
       "      <th>median_rental_price</th>\n",
       "      <th>rental_yield</th>\n",
       "      <th>annual_growth</th>\n",
       "      <th>rental_demand</th>\n",
       "      <th>rental_properties</th>\n",
       "      <th>sold_properties</th>\n",
       "      <th>sold_properties_five_years_ago</th>\n",
       "      <th>property_type</th>\n",
       "    </tr>\n",
       "  </thead>\n",
       "  <tbody>\n",
       "    <tr>\n",
       "      <th>0</th>\n",
       "      <td>runcorn</td>\n",
       "      <td>ALL</td>\n",
       "      <td>569000.0</td>\n",
       "      <td>520000</td>\n",
       "      <td>417.5</td>\n",
       "      <td>0.038155</td>\n",
       "      <td>0.018</td>\n",
       "      <td>742.58</td>\n",
       "      <td>222</td>\n",
       "      <td>86</td>\n",
       "      <td>170</td>\n",
       "      <td>houses</td>\n",
       "    </tr>\n",
       "    <tr>\n",
       "      <th>1</th>\n",
       "      <td>runcorn</td>\n",
       "      <td>3</td>\n",
       "      <td>550000.0</td>\n",
       "      <td>478800</td>\n",
       "      <td>390.0</td>\n",
       "      <td>0.036873</td>\n",
       "      <td>0.028</td>\n",
       "      <td>821.38</td>\n",
       "      <td>108</td>\n",
       "      <td>35</td>\n",
       "      <td>81</td>\n",
       "      <td>houses</td>\n",
       "    </tr>\n",
       "    <tr>\n",
       "      <th>2</th>\n",
       "      <td>runcorn</td>\n",
       "      <td>4</td>\n",
       "      <td>605000.0</td>\n",
       "      <td>558500</td>\n",
       "      <td>470.0</td>\n",
       "      <td>0.040397</td>\n",
       "      <td>0.016</td>\n",
       "      <td>828.09</td>\n",
       "      <td>91</td>\n",
       "      <td>36</td>\n",
       "      <td>58</td>\n",
       "      <td>houses</td>\n",
       "    </tr>\n",
       "    <tr>\n",
       "      <th>3</th>\n",
       "      <td>runcorn</td>\n",
       "      <td>5+</td>\n",
       "      <td>777777.0</td>\n",
       "      <td>655000</td>\n",
       "      <td>530.0</td>\n",
       "      <td>0.035434</td>\n",
       "      <td>0.035</td>\n",
       "      <td>2015.98</td>\n",
       "      <td>17</td>\n",
       "      <td>7</td>\n",
       "      <td>14</td>\n",
       "      <td>houses</td>\n",
       "    </tr>\n",
       "    <tr>\n",
       "      <th>4</th>\n",
       "      <td>sunnybank</td>\n",
       "      <td>ALL</td>\n",
       "      <td>740000.0</td>\n",
       "      <td>686000</td>\n",
       "      <td>430.0</td>\n",
       "      <td>0.030216</td>\n",
       "      <td>0.015</td>\n",
       "      <td>597.14</td>\n",
       "      <td>257</td>\n",
       "      <td>66</td>\n",
       "      <td>145</td>\n",
       "      <td>houses</td>\n",
       "    </tr>\n",
       "  </tbody>\n",
       "</table>\n",
       "</div>"
      ],
      "text/plain": [
       "      suburb bedrooms  median_sold_price median_sold_price_five_years_ago  \\\n",
       "0    runcorn      ALL           569000.0                           520000   \n",
       "1    runcorn        3           550000.0                           478800   \n",
       "2    runcorn        4           605000.0                           558500   \n",
       "3    runcorn       5+           777777.0                           655000   \n",
       "4  sunnybank      ALL           740000.0                           686000   \n",
       "\n",
       "   median_rental_price  rental_yield annual_growth  rental_demand  \\\n",
       "0                417.5      0.038155         0.018         742.58   \n",
       "1                390.0      0.036873         0.028         821.38   \n",
       "2                470.0      0.040397         0.016         828.09   \n",
       "3                530.0      0.035434         0.035        2015.98   \n",
       "4                430.0      0.030216         0.015         597.14   \n",
       "\n",
       "   rental_properties  sold_properties  sold_properties_five_years_ago  \\\n",
       "0                222               86                             170   \n",
       "1                108               35                              81   \n",
       "2                 91               36                              58   \n",
       "3                 17                7                              14   \n",
       "4                257               66                             145   \n",
       "\n",
       "  property_type  \n",
       "0        houses  \n",
       "1        houses  \n",
       "2        houses  \n",
       "3        houses  \n",
       "4        houses  "
      ]
     },
     "execution_count": 11,
     "metadata": {},
     "output_type": "execute_result"
    }
   ],
   "source": [
    "# Buid a house buy and rent dataframe based on the num of bedrooms from each suburb\n",
    "\n",
    "df_houses_list=[]\n",
    "for i in range(10):\n",
    "    suburb=suburbs[i]\n",
    "    house_data=house_bedrooms_data[i]\n",
    "    \n",
    "    houses_data_list=[]\n",
    "    \n",
    "    for x in range(4): #use loop to return the house data based on the num of bedrooms (num=3,4, 5+ or ALL)\n",
    "        num=house_bed_num[x]\n",
    "        houses_data=house_data[num]['investor_metrics']\n",
    "            \n",
    "        houses_data['bedrooms']=num # add a new column to show the bedroom number\n",
    "        df_houses=pd.DataFrame(houses_data, index=np.arange(1))#store the house data in a dataframe\n",
    "        houses_data_list.append(df_houses) #append all house dfs for a suburb into a list\n",
    "\n",
    "\n",
    "    df_houses=pd.concat(houses_data_list,axis=0, ignore_index=True) #merge all dataframes in the list into 1 for each suburb\n",
    "\n",
    "    df_houses['suburb']=str(suburb) #add a new colum to show the suburb name\n",
    "\n",
    "    cols=df_houses.columns.to_list() # 10 columns\n",
    "    cols=cols[-1:]+cols[-2:-1]+cols[:-2] #move the last 2 colunns (\"suburb, bedrooms\") to the front of dataframe\n",
    "    df_houses=df_houses[cols]\n",
    "    df_houses_list.append(df_houses) #append all suburb unit dfs into a list\n",
    "    \n",
    "\n",
    "df_houses=pd.concat(df_houses_list,axis=0, ignore_index=True) #merge all suburb dataframes into 1\n",
    "df_houses['property_type']='houses'\n",
    "df_houses.head()    \n"
   ]
  },
  {
   "cell_type": "code",
   "execution_count": 12,
   "metadata": {
    "hidden": true
   },
   "outputs": [
    {
     "data": {
      "text/plain": [
       "suburb                               object\n",
       "bedrooms                             object\n",
       "median_sold_price                   float64\n",
       "median_sold_price_five_years_ago     object\n",
       "median_rental_price                 float64\n",
       "rental_yield                        float64\n",
       "annual_growth                        object\n",
       "rental_demand                       float64\n",
       "rental_properties                     int64\n",
       "sold_properties                       int64\n",
       "sold_properties_five_years_ago        int64\n",
       "property_type                        object\n",
       "dtype: object"
      ]
     },
     "execution_count": 12,
     "metadata": {},
     "output_type": "execute_result"
    }
   ],
   "source": [
    "df_houses.dtypes # we noticed that \"median_sold_price_five_years_ago\" and \"annual_growth\" are shown as string"
   ]
  },
  {
   "cell_type": "code",
   "execution_count": 13,
   "metadata": {
    "hidden": true
   },
   "outputs": [
    {
     "data": {
      "text/plain": [
       "suburb                              0\n",
       "bedrooms                            0\n",
       "median_sold_price                   0\n",
       "median_sold_price_five_years_ago    1\n",
       "median_rental_price                 0\n",
       "rental_yield                        0\n",
       "annual_growth                       1\n",
       "rental_demand                       0\n",
       "rental_properties                   0\n",
       "sold_properties                     0\n",
       "sold_properties_five_years_ago      0\n",
       "property_type                       0\n",
       "dtype: int64"
      ]
     },
     "execution_count": 13,
     "metadata": {},
     "output_type": "execute_result"
    }
   ],
   "source": [
    "df_houses.isnull().sum() #check if there are null values"
   ]
  },
  {
   "cell_type": "code",
   "execution_count": 14,
   "metadata": {
    "hidden": true
   },
   "outputs": [
    {
     "data": {
      "text/html": [
       "<div>\n",
       "<style scoped>\n",
       "    .dataframe tbody tr th:only-of-type {\n",
       "        vertical-align: middle;\n",
       "    }\n",
       "\n",
       "    .dataframe tbody tr th {\n",
       "        vertical-align: top;\n",
       "    }\n",
       "\n",
       "    .dataframe thead th {\n",
       "        text-align: right;\n",
       "    }\n",
       "</style>\n",
       "<table border=\"1\" class=\"dataframe\">\n",
       "  <thead>\n",
       "    <tr style=\"text-align: right;\">\n",
       "      <th></th>\n",
       "      <th>suburb</th>\n",
       "      <th>bedrooms</th>\n",
       "      <th>median_sold_price</th>\n",
       "      <th>median_sold_price_five_years_ago</th>\n",
       "      <th>median_rental_price</th>\n",
       "      <th>rental_yield</th>\n",
       "      <th>annual_growth</th>\n",
       "      <th>rental_demand</th>\n",
       "      <th>rental_properties</th>\n",
       "      <th>sold_properties</th>\n",
       "      <th>sold_properties_five_years_ago</th>\n",
       "      <th>property_type</th>\n",
       "    </tr>\n",
       "  </thead>\n",
       "  <tbody>\n",
       "    <tr>\n",
       "      <th>0</th>\n",
       "      <td>runcorn</td>\n",
       "      <td>ALL</td>\n",
       "      <td>569000.0</td>\n",
       "      <td>520000.0</td>\n",
       "      <td>417.5</td>\n",
       "      <td>0.038155</td>\n",
       "      <td>0.018</td>\n",
       "      <td>742.58</td>\n",
       "      <td>222</td>\n",
       "      <td>86</td>\n",
       "      <td>170</td>\n",
       "      <td>houses</td>\n",
       "    </tr>\n",
       "    <tr>\n",
       "      <th>1</th>\n",
       "      <td>runcorn</td>\n",
       "      <td>3</td>\n",
       "      <td>550000.0</td>\n",
       "      <td>478800.0</td>\n",
       "      <td>390.0</td>\n",
       "      <td>0.036873</td>\n",
       "      <td>0.028</td>\n",
       "      <td>821.38</td>\n",
       "      <td>108</td>\n",
       "      <td>35</td>\n",
       "      <td>81</td>\n",
       "      <td>houses</td>\n",
       "    </tr>\n",
       "    <tr>\n",
       "      <th>2</th>\n",
       "      <td>runcorn</td>\n",
       "      <td>4</td>\n",
       "      <td>605000.0</td>\n",
       "      <td>558500.0</td>\n",
       "      <td>470.0</td>\n",
       "      <td>0.040397</td>\n",
       "      <td>0.016</td>\n",
       "      <td>828.09</td>\n",
       "      <td>91</td>\n",
       "      <td>36</td>\n",
       "      <td>58</td>\n",
       "      <td>houses</td>\n",
       "    </tr>\n",
       "    <tr>\n",
       "      <th>3</th>\n",
       "      <td>runcorn</td>\n",
       "      <td>5+</td>\n",
       "      <td>777777.0</td>\n",
       "      <td>655000.0</td>\n",
       "      <td>530.0</td>\n",
       "      <td>0.035434</td>\n",
       "      <td>0.035</td>\n",
       "      <td>2015.98</td>\n",
       "      <td>17</td>\n",
       "      <td>7</td>\n",
       "      <td>14</td>\n",
       "      <td>houses</td>\n",
       "    </tr>\n",
       "    <tr>\n",
       "      <th>4</th>\n",
       "      <td>sunnybank</td>\n",
       "      <td>ALL</td>\n",
       "      <td>740000.0</td>\n",
       "      <td>686000.0</td>\n",
       "      <td>430.0</td>\n",
       "      <td>0.030216</td>\n",
       "      <td>0.015</td>\n",
       "      <td>597.14</td>\n",
       "      <td>257</td>\n",
       "      <td>66</td>\n",
       "      <td>145</td>\n",
       "      <td>houses</td>\n",
       "    </tr>\n",
       "  </tbody>\n",
       "</table>\n",
       "</div>"
      ],
      "text/plain": [
       "      suburb bedrooms  median_sold_price  median_sold_price_five_years_ago  \\\n",
       "0    runcorn      ALL           569000.0                          520000.0   \n",
       "1    runcorn        3           550000.0                          478800.0   \n",
       "2    runcorn        4           605000.0                          558500.0   \n",
       "3    runcorn       5+           777777.0                          655000.0   \n",
       "4  sunnybank      ALL           740000.0                          686000.0   \n",
       "\n",
       "   median_rental_price  rental_yield  annual_growth  rental_demand  \\\n",
       "0                417.5      0.038155          0.018         742.58   \n",
       "1                390.0      0.036873          0.028         821.38   \n",
       "2                470.0      0.040397          0.016         828.09   \n",
       "3                530.0      0.035434          0.035        2015.98   \n",
       "4                430.0      0.030216          0.015         597.14   \n",
       "\n",
       "   rental_properties  sold_properties  sold_properties_five_years_ago  \\\n",
       "0                222               86                             170   \n",
       "1                108               35                              81   \n",
       "2                 91               36                              58   \n",
       "3                 17                7                              14   \n",
       "4                257               66                             145   \n",
       "\n",
       "  property_type  \n",
       "0        houses  \n",
       "1        houses  \n",
       "2        houses  \n",
       "3        houses  \n",
       "4        houses  "
      ]
     },
     "execution_count": 14,
     "metadata": {},
     "output_type": "execute_result"
    }
   ],
   "source": [
    "df_houses.fillna(0, inplace=True) #replace null value with 0\n",
    "df_houses.head()"
   ]
  },
  {
   "cell_type": "code",
   "execution_count": 15,
   "metadata": {
    "hidden": true
   },
   "outputs": [],
   "source": [
    "#convert \"median_sold_price_five_years_ago\" and \"annual_growth\" into float data types\n",
    "dict={\"suburb\":str, \"bedrooms\":str,\n",
    "      \"median_sold_price\":np.float64,\n",
    "     \"median_sold_price_five_years_ago\":np.float64,\n",
    "     \"median_rental_price\":np.float64,\n",
    "      \"annual_growth\":np.float64,\n",
    "      \"rental_demand\":np.float64,\n",
    "      \"rental_properties\":np.int64,\n",
    "      \"sold_properties\":np.int64,\n",
    "      \"sold_properties_five_years_ago\":np.int64,\n",
    "      \"property_type\": str}"
   ]
  },
  {
   "cell_type": "code",
   "execution_count": 16,
   "metadata": {
    "hidden": true
   },
   "outputs": [
    {
     "data": {
      "text/plain": [
       "suburb                               object\n",
       "bedrooms                             object\n",
       "median_sold_price                   float64\n",
       "median_sold_price_five_years_ago    float64\n",
       "median_rental_price                 float64\n",
       "rental_yield                        float64\n",
       "annual_growth                       float64\n",
       "rental_demand                       float64\n",
       "rental_properties                     int64\n",
       "sold_properties                       int64\n",
       "sold_properties_five_years_ago        int64\n",
       "property_type                        object\n",
       "dtype: object"
      ]
     },
     "execution_count": 16,
     "metadata": {},
     "output_type": "execute_result"
    }
   ],
   "source": [
    "#check the data type again\n",
    "df_houses.apply(dict)\n",
    "df_houses.dtypes"
   ]
  },
  {
   "cell_type": "code",
   "execution_count": null,
   "metadata": {
    "hidden": true
   },
   "outputs": [],
   "source": []
  },
  {
   "cell_type": "markdown",
   "metadata": {
    "hidden": true
   },
   "source": [
    "## Create a suburb based unit price data frame"
   ]
  },
  {
   "cell_type": "code",
   "execution_count": 17,
   "metadata": {
    "hidden": true
   },
   "outputs": [],
   "source": [
    "unit_bed_num=['ALL', '1', '2', '3', '4'] #we don't look for units with bedrooms =0 or 5+"
   ]
  },
  {
   "cell_type": "code",
   "execution_count": 18,
   "metadata": {
    "hidden": true
   },
   "outputs": [],
   "source": [
    "#Create a loop to access the unit buy/rent data based on the num of bedrooms from each suburb\n",
    "unit_bedrooms_data=[]\n",
    "\n",
    "for key in range(len(suburb_keys)):\n",
    "    suburbs_pc=suburb_keys[key]  #suburb name + postal_code\n",
    "    suburb_data=results[key][suburbs_pc] #access the suburb dict\n",
    "    unit_suburb_data=suburb_data['property_types']['UNIT'] #access the unit data in the dict\n",
    "    unit_bedrooms=unit_suburb_data['bedrooms'] #access the unit bedrooms info in the dict\n",
    "    \n",
    "    ubk=list(unit_bedrooms.keys()) #check if the suburb has units with 0 or 5+ bedrooms data, if so, remove them\n",
    "\n",
    "    if '0' in ubk:  #remove record with bedroom num=0\n",
    "        unit_bedrooms.pop('0')\n",
    "        \n",
    "    elif '5+' in ubk:  #remove record with bedroom num=5+\n",
    "        unit_bedrooms.pop('5+')\n",
    "    else:\n",
    "        unit_bedrooms\n",
    "    \n",
    "    unit_bedrooms_data.append(unit_bedrooms)    \n"
   ]
  },
  {
   "cell_type": "code",
   "execution_count": 19,
   "metadata": {
    "hidden": true,
    "scrolled": false
   },
   "outputs": [
    {
     "data": {
      "text/html": [
       "<div>\n",
       "<style scoped>\n",
       "    .dataframe tbody tr th:only-of-type {\n",
       "        vertical-align: middle;\n",
       "    }\n",
       "\n",
       "    .dataframe tbody tr th {\n",
       "        vertical-align: top;\n",
       "    }\n",
       "\n",
       "    .dataframe thead th {\n",
       "        text-align: right;\n",
       "    }\n",
       "</style>\n",
       "<table border=\"1\" class=\"dataframe\">\n",
       "  <thead>\n",
       "    <tr style=\"text-align: right;\">\n",
       "      <th></th>\n",
       "      <th>suburb</th>\n",
       "      <th>bedrooms</th>\n",
       "      <th>median_sold_price</th>\n",
       "      <th>median_sold_price_five_years_ago</th>\n",
       "      <th>median_rental_price</th>\n",
       "      <th>rental_yield</th>\n",
       "      <th>annual_growth</th>\n",
       "      <th>rental_demand</th>\n",
       "      <th>rental_properties</th>\n",
       "      <th>sold_properties</th>\n",
       "      <th>sold_properties_five_years_ago</th>\n",
       "      <th>property_type</th>\n",
       "    </tr>\n",
       "  </thead>\n",
       "  <tbody>\n",
       "    <tr>\n",
       "      <th>0</th>\n",
       "      <td>runcorn</td>\n",
       "      <td>ALL</td>\n",
       "      <td>320000</td>\n",
       "      <td>355000</td>\n",
       "      <td>400.0</td>\n",
       "      <td>0.065</td>\n",
       "      <td>-0.021</td>\n",
       "      <td>342.26</td>\n",
       "      <td>112</td>\n",
       "      <td>61</td>\n",
       "      <td>141</td>\n",
       "      <td>units</td>\n",
       "    </tr>\n",
       "    <tr>\n",
       "      <th>1</th>\n",
       "      <td>runcorn</td>\n",
       "      <td>2</td>\n",
       "      <td>286000</td>\n",
       "      <td>306500</td>\n",
       "      <td>345.0</td>\n",
       "      <td>0.0627273</td>\n",
       "      <td>-0.014</td>\n",
       "      <td>573.64</td>\n",
       "      <td>12</td>\n",
       "      <td>7</td>\n",
       "      <td>12</td>\n",
       "      <td>units</td>\n",
       "    </tr>\n",
       "    <tr>\n",
       "      <th>2</th>\n",
       "      <td>runcorn</td>\n",
       "      <td>3</td>\n",
       "      <td>320000</td>\n",
       "      <td>350000</td>\n",
       "      <td>400.0</td>\n",
       "      <td>0.065</td>\n",
       "      <td>-0.018</td>\n",
       "      <td>331.29</td>\n",
       "      <td>97</td>\n",
       "      <td>52</td>\n",
       "      <td>106</td>\n",
       "      <td>units</td>\n",
       "    </tr>\n",
       "    <tr>\n",
       "      <th>3</th>\n",
       "      <td>runcorn</td>\n",
       "      <td>1</td>\n",
       "      <td>None</td>\n",
       "      <td>None</td>\n",
       "      <td>280.0</td>\n",
       "      <td>None</td>\n",
       "      <td>None</td>\n",
       "      <td>1059.62</td>\n",
       "      <td>1</td>\n",
       "      <td>None</td>\n",
       "      <td>None</td>\n",
       "      <td>units</td>\n",
       "    </tr>\n",
       "    <tr>\n",
       "      <th>4</th>\n",
       "      <td>runcorn</td>\n",
       "      <td>4</td>\n",
       "      <td>None</td>\n",
       "      <td>None</td>\n",
       "      <td>505.0</td>\n",
       "      <td>None</td>\n",
       "      <td>None</td>\n",
       "      <td>886.13</td>\n",
       "      <td>2</td>\n",
       "      <td>None</td>\n",
       "      <td>None</td>\n",
       "      <td>units</td>\n",
       "    </tr>\n",
       "  </tbody>\n",
       "</table>\n",
       "</div>"
      ],
      "text/plain": [
       "    suburb bedrooms median_sold_price median_sold_price_five_years_ago  \\\n",
       "0  runcorn      ALL            320000                           355000   \n",
       "1  runcorn        2            286000                           306500   \n",
       "2  runcorn        3            320000                           350000   \n",
       "3  runcorn        1              None                             None   \n",
       "4  runcorn        4              None                             None   \n",
       "\n",
       "   median_rental_price rental_yield annual_growth  rental_demand  \\\n",
       "0                400.0        0.065        -0.021         342.26   \n",
       "1                345.0    0.0627273        -0.014         573.64   \n",
       "2                400.0        0.065        -0.018         331.29   \n",
       "3                280.0         None          None        1059.62   \n",
       "4                505.0         None          None         886.13   \n",
       "\n",
       "   rental_properties sold_properties sold_properties_five_years_ago  \\\n",
       "0                112              61                            141   \n",
       "1                 12               7                             12   \n",
       "2                 97              52                            106   \n",
       "3                  1            None                           None   \n",
       "4                  2            None                           None   \n",
       "\n",
       "  property_type  \n",
       "0         units  \n",
       "1         units  \n",
       "2         units  \n",
       "3         units  \n",
       "4         units  "
      ]
     },
     "execution_count": 19,
     "metadata": {},
     "output_type": "execute_result"
    }
   ],
   "source": [
    "# Buid a unit buy and rent dataframe based on the num of bedrooms from each suburb\n",
    "\n",
    "df_units_list=[]\n",
    "\n",
    "for i in range(10): #10 suburbs\n",
    "    suburb=suburbs[i]\n",
    "    unit_data=unit_bedrooms_data[i]\n",
    "    udk=list(unit_data.keys())\n",
    "        \n",
    "    units_data_list=[]\n",
    "    \n",
    "    for u in udk: #use loop to return the unit data based on the num of bedrooms (num=1,2,3,4 or ALL)\n",
    "        units_data=unit_data[u]['investor_metrics']\n",
    "            \n",
    "        units_data['bedrooms']=u # add a new column to show the bedroom number\n",
    "        df_units=pd.DataFrame(units_data, index=np.arange(1)) #store the unit data in a dataframe\n",
    "        units_data_list.append(df_units) #append all unit dfs for a suburb into a list\n",
    "\n",
    "    df_units=pd.concat(units_data_list,axis=0, ignore_index=True) #merge all dataframes in the list into 1 for each suburb\n",
    "\n",
    "    df_units['suburb']=str(suburb) #add a new colum to show the suburb name\n",
    "\n",
    "    cols=df_units.columns.to_list() # 10 columns\n",
    "    cols=cols[-1:]+cols[-2:-1]+cols[:-2] #move the last 2 colunns (\"suburb, bedrooms\") to the front of dataframe\n",
    "    df_units=df_units[cols]\n",
    "    df_units_list.append(df_units)  #append all suburb unit dfs into a list\n",
    "\n",
    "df_units=pd.concat(df_units_list,axis=0, ignore_index=True) #merge all suburb dataframes into 1\n",
    "df_units['property_type']='units'\n",
    "df_units.head()\n"
   ]
  },
  {
   "cell_type": "code",
   "execution_count": 20,
   "metadata": {
    "hidden": true,
    "scrolled": true
   },
   "outputs": [
    {
     "data": {
      "text/plain": [
       "suburb                               object\n",
       "bedrooms                             object\n",
       "median_sold_price                    object\n",
       "median_sold_price_five_years_ago     object\n",
       "median_rental_price                 float64\n",
       "rental_yield                         object\n",
       "annual_growth                        object\n",
       "rental_demand                       float64\n",
       "rental_properties                     int64\n",
       "sold_properties                      object\n",
       "sold_properties_five_years_ago       object\n",
       "property_type                        object\n",
       "dtype: object"
      ]
     },
     "execution_count": 20,
     "metadata": {},
     "output_type": "execute_result"
    }
   ],
   "source": [
    "# we noticed that \"median_sold_price_five_years_ago\" and \"annual_growth\", \"median_sold_price_five_years_ago\"\n",
    "#\"sold_properties\",\"sold_properties_five_years_ago\" are shown strings\n",
    "df_units.dtypes"
   ]
  },
  {
   "cell_type": "code",
   "execution_count": 21,
   "metadata": {
    "hidden": true,
    "scrolled": true
   },
   "outputs": [
    {
     "data": {
      "text/plain": [
       "suburb                               0\n",
       "bedrooms                             0\n",
       "median_sold_price                   20\n",
       "median_sold_price_five_years_ago    20\n",
       "median_rental_price                  0\n",
       "rental_yield                        20\n",
       "annual_growth                       20\n",
       "rental_demand                        0\n",
       "rental_properties                    0\n",
       "sold_properties                     20\n",
       "sold_properties_five_years_ago      20\n",
       "property_type                        0\n",
       "dtype: int64"
      ]
     },
     "execution_count": 21,
     "metadata": {},
     "output_type": "execute_result"
    }
   ],
   "source": [
    "df_units.isnull().sum() #check if there are null values"
   ]
  },
  {
   "cell_type": "code",
   "execution_count": 24,
   "metadata": {
    "hidden": true
   },
   "outputs": [
    {
     "data": {
      "text/html": [
       "<div>\n",
       "<style scoped>\n",
       "    .dataframe tbody tr th:only-of-type {\n",
       "        vertical-align: middle;\n",
       "    }\n",
       "\n",
       "    .dataframe tbody tr th {\n",
       "        vertical-align: top;\n",
       "    }\n",
       "\n",
       "    .dataframe thead th {\n",
       "        text-align: right;\n",
       "    }\n",
       "</style>\n",
       "<table border=\"1\" class=\"dataframe\">\n",
       "  <thead>\n",
       "    <tr style=\"text-align: right;\">\n",
       "      <th></th>\n",
       "      <th>suburb</th>\n",
       "      <th>bedrooms</th>\n",
       "      <th>median_sold_price</th>\n",
       "      <th>median_sold_price_five_years_ago</th>\n",
       "      <th>median_rental_price</th>\n",
       "      <th>rental_yield</th>\n",
       "      <th>annual_growth</th>\n",
       "      <th>rental_demand</th>\n",
       "      <th>rental_properties</th>\n",
       "      <th>sold_properties</th>\n",
       "      <th>sold_properties_five_years_ago</th>\n",
       "      <th>property_type</th>\n",
       "    </tr>\n",
       "  </thead>\n",
       "  <tbody>\n",
       "    <tr>\n",
       "      <th>0</th>\n",
       "      <td>runcorn</td>\n",
       "      <td>ALL</td>\n",
       "      <td>320000.0</td>\n",
       "      <td>355000.0</td>\n",
       "      <td>400.0</td>\n",
       "      <td>0.065000</td>\n",
       "      <td>-0.021</td>\n",
       "      <td>342.26</td>\n",
       "      <td>112</td>\n",
       "      <td>61</td>\n",
       "      <td>141</td>\n",
       "      <td>units</td>\n",
       "    </tr>\n",
       "    <tr>\n",
       "      <th>1</th>\n",
       "      <td>runcorn</td>\n",
       "      <td>2</td>\n",
       "      <td>286000.0</td>\n",
       "      <td>306500.0</td>\n",
       "      <td>345.0</td>\n",
       "      <td>0.062727</td>\n",
       "      <td>-0.014</td>\n",
       "      <td>573.64</td>\n",
       "      <td>12</td>\n",
       "      <td>7</td>\n",
       "      <td>12</td>\n",
       "      <td>units</td>\n",
       "    </tr>\n",
       "    <tr>\n",
       "      <th>2</th>\n",
       "      <td>runcorn</td>\n",
       "      <td>3</td>\n",
       "      <td>320000.0</td>\n",
       "      <td>350000.0</td>\n",
       "      <td>400.0</td>\n",
       "      <td>0.065000</td>\n",
       "      <td>-0.018</td>\n",
       "      <td>331.29</td>\n",
       "      <td>97</td>\n",
       "      <td>52</td>\n",
       "      <td>106</td>\n",
       "      <td>units</td>\n",
       "    </tr>\n",
       "    <tr>\n",
       "      <th>3</th>\n",
       "      <td>runcorn</td>\n",
       "      <td>1</td>\n",
       "      <td>0.0</td>\n",
       "      <td>0.0</td>\n",
       "      <td>280.0</td>\n",
       "      <td>0.000000</td>\n",
       "      <td>0.000</td>\n",
       "      <td>1059.62</td>\n",
       "      <td>1</td>\n",
       "      <td>0</td>\n",
       "      <td>0</td>\n",
       "      <td>units</td>\n",
       "    </tr>\n",
       "    <tr>\n",
       "      <th>4</th>\n",
       "      <td>runcorn</td>\n",
       "      <td>4</td>\n",
       "      <td>0.0</td>\n",
       "      <td>0.0</td>\n",
       "      <td>505.0</td>\n",
       "      <td>0.000000</td>\n",
       "      <td>0.000</td>\n",
       "      <td>886.13</td>\n",
       "      <td>2</td>\n",
       "      <td>0</td>\n",
       "      <td>0</td>\n",
       "      <td>units</td>\n",
       "    </tr>\n",
       "  </tbody>\n",
       "</table>\n",
       "</div>"
      ],
      "text/plain": [
       "    suburb bedrooms  median_sold_price  median_sold_price_five_years_ago  \\\n",
       "0  runcorn      ALL           320000.0                          355000.0   \n",
       "1  runcorn        2           286000.0                          306500.0   \n",
       "2  runcorn        3           320000.0                          350000.0   \n",
       "3  runcorn        1                0.0                               0.0   \n",
       "4  runcorn        4                0.0                               0.0   \n",
       "\n",
       "   median_rental_price  rental_yield  annual_growth  rental_demand  \\\n",
       "0                400.0      0.065000         -0.021         342.26   \n",
       "1                345.0      0.062727         -0.014         573.64   \n",
       "2                400.0      0.065000         -0.018         331.29   \n",
       "3                280.0      0.000000          0.000        1059.62   \n",
       "4                505.0      0.000000          0.000         886.13   \n",
       "\n",
       "   rental_properties  sold_properties  sold_properties_five_years_ago  \\\n",
       "0                112               61                             141   \n",
       "1                 12                7                              12   \n",
       "2                 97               52                             106   \n",
       "3                  1                0                               0   \n",
       "4                  2                0                               0   \n",
       "\n",
       "  property_type  \n",
       "0         units  \n",
       "1         units  \n",
       "2         units  \n",
       "3         units  \n",
       "4         units  "
      ]
     },
     "execution_count": 24,
     "metadata": {},
     "output_type": "execute_result"
    }
   ],
   "source": [
    "df_units.fillna(0, inplace=True) #replace null value with 0\n",
    "df_units.head()"
   ]
  },
  {
   "cell_type": "code",
   "execution_count": 25,
   "metadata": {
    "hidden": true
   },
   "outputs": [],
   "source": [
    "#convert \"median_sold_price_five_years_ago\" and \"annual_growth\", \"median_sold_price_five_years_ago\"\n",
    "#\"sold_properties\",\"sold_properties_five_years_ago\" into numerical data types\n",
    "\n",
    "dict1={\"suburb\":str, \"bedrooms\":str,\n",
    "      \"median_sold_price\":np.float64,\n",
    "     \"median_sold_price_five_years_ago\":np.float64,\n",
    "     \"median_rental_price\":np.float64,\n",
    "      \"annual_growth\":np.float64,\n",
    "      \"rental_demand\":np.float64,\n",
    "      \"rental_properties\":np.int64,\n",
    "      \"sold_properties\":np.int64,\n",
    "      \"sold_properties_five_years_ago\":np.int64,\n",
    "       \"property_type\": str}"
   ]
  },
  {
   "cell_type": "code",
   "execution_count": 26,
   "metadata": {
    "hidden": true
   },
   "outputs": [
    {
     "data": {
      "text/plain": [
       "suburb                               object\n",
       "bedrooms                             object\n",
       "median_sold_price                   float64\n",
       "median_sold_price_five_years_ago    float64\n",
       "median_rental_price                 float64\n",
       "rental_yield                        float64\n",
       "annual_growth                       float64\n",
       "rental_demand                       float64\n",
       "rental_properties                     int64\n",
       "sold_properties                       int64\n",
       "sold_properties_five_years_ago        int64\n",
       "property_type                        object\n",
       "dtype: object"
      ]
     },
     "execution_count": 26,
     "metadata": {},
     "output_type": "execute_result"
    }
   ],
   "source": [
    "#check the data type again\n",
    "df_units.apply(dict1)\n",
    "df_units.dtypes"
   ]
  },
  {
   "cell_type": "code",
   "execution_count": 27,
   "metadata": {
    "hidden": true
   },
   "outputs": [
    {
     "data": {
      "text/html": [
       "<div>\n",
       "<style scoped>\n",
       "    .dataframe tbody tr th:only-of-type {\n",
       "        vertical-align: middle;\n",
       "    }\n",
       "\n",
       "    .dataframe tbody tr th {\n",
       "        vertical-align: top;\n",
       "    }\n",
       "\n",
       "    .dataframe thead th {\n",
       "        text-align: right;\n",
       "    }\n",
       "</style>\n",
       "<table border=\"1\" class=\"dataframe\">\n",
       "  <thead>\n",
       "    <tr style=\"text-align: right;\">\n",
       "      <th></th>\n",
       "      <th>suburb</th>\n",
       "      <th>bedrooms</th>\n",
       "      <th>median_sold_price</th>\n",
       "      <th>median_sold_price_five_years_ago</th>\n",
       "      <th>median_rental_price</th>\n",
       "      <th>rental_yield</th>\n",
       "      <th>annual_growth</th>\n",
       "      <th>rental_demand</th>\n",
       "      <th>rental_properties</th>\n",
       "      <th>sold_properties</th>\n",
       "      <th>sold_properties_five_years_ago</th>\n",
       "      <th>property_type</th>\n",
       "    </tr>\n",
       "  </thead>\n",
       "  <tbody>\n",
       "    <tr>\n",
       "      <th>0</th>\n",
       "      <td>runcorn</td>\n",
       "      <td>ALL</td>\n",
       "      <td>320000.0</td>\n",
       "      <td>355000.0</td>\n",
       "      <td>400.0</td>\n",
       "      <td>0.065000</td>\n",
       "      <td>-0.021</td>\n",
       "      <td>342.26</td>\n",
       "      <td>112</td>\n",
       "      <td>61</td>\n",
       "      <td>141</td>\n",
       "      <td>units</td>\n",
       "    </tr>\n",
       "    <tr>\n",
       "      <th>1</th>\n",
       "      <td>runcorn</td>\n",
       "      <td>2</td>\n",
       "      <td>286000.0</td>\n",
       "      <td>306500.0</td>\n",
       "      <td>345.0</td>\n",
       "      <td>0.062727</td>\n",
       "      <td>-0.014</td>\n",
       "      <td>573.64</td>\n",
       "      <td>12</td>\n",
       "      <td>7</td>\n",
       "      <td>12</td>\n",
       "      <td>units</td>\n",
       "    </tr>\n",
       "    <tr>\n",
       "      <th>2</th>\n",
       "      <td>runcorn</td>\n",
       "      <td>3</td>\n",
       "      <td>320000.0</td>\n",
       "      <td>350000.0</td>\n",
       "      <td>400.0</td>\n",
       "      <td>0.065000</td>\n",
       "      <td>-0.018</td>\n",
       "      <td>331.29</td>\n",
       "      <td>97</td>\n",
       "      <td>52</td>\n",
       "      <td>106</td>\n",
       "      <td>units</td>\n",
       "    </tr>\n",
       "    <tr>\n",
       "      <th>3</th>\n",
       "      <td>runcorn</td>\n",
       "      <td>1</td>\n",
       "      <td>0.0</td>\n",
       "      <td>0.0</td>\n",
       "      <td>280.0</td>\n",
       "      <td>0.000000</td>\n",
       "      <td>0.000</td>\n",
       "      <td>1059.62</td>\n",
       "      <td>1</td>\n",
       "      <td>0</td>\n",
       "      <td>0</td>\n",
       "      <td>units</td>\n",
       "    </tr>\n",
       "    <tr>\n",
       "      <th>4</th>\n",
       "      <td>runcorn</td>\n",
       "      <td>4</td>\n",
       "      <td>0.0</td>\n",
       "      <td>0.0</td>\n",
       "      <td>505.0</td>\n",
       "      <td>0.000000</td>\n",
       "      <td>0.000</td>\n",
       "      <td>886.13</td>\n",
       "      <td>2</td>\n",
       "      <td>0</td>\n",
       "      <td>0</td>\n",
       "      <td>units</td>\n",
       "    </tr>\n",
       "  </tbody>\n",
       "</table>\n",
       "</div>"
      ],
      "text/plain": [
       "    suburb bedrooms  median_sold_price  median_sold_price_five_years_ago  \\\n",
       "0  runcorn      ALL           320000.0                          355000.0   \n",
       "1  runcorn        2           286000.0                          306500.0   \n",
       "2  runcorn        3           320000.0                          350000.0   \n",
       "3  runcorn        1                0.0                               0.0   \n",
       "4  runcorn        4                0.0                               0.0   \n",
       "\n",
       "   median_rental_price  rental_yield  annual_growth  rental_demand  \\\n",
       "0                400.0      0.065000         -0.021         342.26   \n",
       "1                345.0      0.062727         -0.014         573.64   \n",
       "2                400.0      0.065000         -0.018         331.29   \n",
       "3                280.0      0.000000          0.000        1059.62   \n",
       "4                505.0      0.000000          0.000         886.13   \n",
       "\n",
       "   rental_properties  sold_properties  sold_properties_five_years_ago  \\\n",
       "0                112               61                             141   \n",
       "1                 12                7                              12   \n",
       "2                 97               52                             106   \n",
       "3                  1                0                               0   \n",
       "4                  2                0                               0   \n",
       "\n",
       "  property_type  \n",
       "0         units  \n",
       "1         units  \n",
       "2         units  \n",
       "3         units  \n",
       "4         units  "
      ]
     },
     "execution_count": 27,
     "metadata": {},
     "output_type": "execute_result"
    }
   ],
   "source": [
    "df_units.head()"
   ]
  },
  {
   "cell_type": "code",
   "execution_count": 29,
   "metadata": {
    "hidden": true
   },
   "outputs": [
    {
     "data": {
      "text/html": [
       "<div>\n",
       "<style scoped>\n",
       "    .dataframe tbody tr th:only-of-type {\n",
       "        vertical-align: middle;\n",
       "    }\n",
       "\n",
       "    .dataframe tbody tr th {\n",
       "        vertical-align: top;\n",
       "    }\n",
       "\n",
       "    .dataframe thead th {\n",
       "        text-align: right;\n",
       "    }\n",
       "</style>\n",
       "<table border=\"1\" class=\"dataframe\">\n",
       "  <thead>\n",
       "    <tr style=\"text-align: right;\">\n",
       "      <th></th>\n",
       "      <th>suburb</th>\n",
       "      <th>bedrooms</th>\n",
       "      <th>median_sold_price</th>\n",
       "      <th>median_sold_price_five_years_ago</th>\n",
       "      <th>median_rental_price</th>\n",
       "      <th>rental_yield</th>\n",
       "      <th>annual_growth</th>\n",
       "      <th>rental_demand</th>\n",
       "      <th>rental_properties</th>\n",
       "      <th>sold_properties</th>\n",
       "      <th>sold_properties_five_years_ago</th>\n",
       "      <th>property_type</th>\n",
       "    </tr>\n",
       "  </thead>\n",
       "  <tbody>\n",
       "    <tr>\n",
       "      <th>0</th>\n",
       "      <td>runcorn</td>\n",
       "      <td>ALL</td>\n",
       "      <td>569000.0</td>\n",
       "      <td>520000.0</td>\n",
       "      <td>417.5</td>\n",
       "      <td>0.038155</td>\n",
       "      <td>0.018</td>\n",
       "      <td>742.58</td>\n",
       "      <td>222</td>\n",
       "      <td>86</td>\n",
       "      <td>170</td>\n",
       "      <td>houses</td>\n",
       "    </tr>\n",
       "    <tr>\n",
       "      <th>1</th>\n",
       "      <td>runcorn</td>\n",
       "      <td>3</td>\n",
       "      <td>550000.0</td>\n",
       "      <td>478800.0</td>\n",
       "      <td>390.0</td>\n",
       "      <td>0.036873</td>\n",
       "      <td>0.028</td>\n",
       "      <td>821.38</td>\n",
       "      <td>108</td>\n",
       "      <td>35</td>\n",
       "      <td>81</td>\n",
       "      <td>houses</td>\n",
       "    </tr>\n",
       "    <tr>\n",
       "      <th>2</th>\n",
       "      <td>runcorn</td>\n",
       "      <td>4</td>\n",
       "      <td>605000.0</td>\n",
       "      <td>558500.0</td>\n",
       "      <td>470.0</td>\n",
       "      <td>0.040397</td>\n",
       "      <td>0.016</td>\n",
       "      <td>828.09</td>\n",
       "      <td>91</td>\n",
       "      <td>36</td>\n",
       "      <td>58</td>\n",
       "      <td>houses</td>\n",
       "    </tr>\n",
       "    <tr>\n",
       "      <th>3</th>\n",
       "      <td>runcorn</td>\n",
       "      <td>5+</td>\n",
       "      <td>777777.0</td>\n",
       "      <td>655000.0</td>\n",
       "      <td>530.0</td>\n",
       "      <td>0.035434</td>\n",
       "      <td>0.035</td>\n",
       "      <td>2015.98</td>\n",
       "      <td>17</td>\n",
       "      <td>7</td>\n",
       "      <td>14</td>\n",
       "      <td>houses</td>\n",
       "    </tr>\n",
       "    <tr>\n",
       "      <th>4</th>\n",
       "      <td>sunnybank</td>\n",
       "      <td>ALL</td>\n",
       "      <td>740000.0</td>\n",
       "      <td>686000.0</td>\n",
       "      <td>430.0</td>\n",
       "      <td>0.030216</td>\n",
       "      <td>0.015</td>\n",
       "      <td>597.14</td>\n",
       "      <td>257</td>\n",
       "      <td>66</td>\n",
       "      <td>145</td>\n",
       "      <td>houses</td>\n",
       "    </tr>\n",
       "  </tbody>\n",
       "</table>\n",
       "</div>"
      ],
      "text/plain": [
       "      suburb bedrooms  median_sold_price  median_sold_price_five_years_ago  \\\n",
       "0    runcorn      ALL           569000.0                          520000.0   \n",
       "1    runcorn        3           550000.0                          478800.0   \n",
       "2    runcorn        4           605000.0                          558500.0   \n",
       "3    runcorn       5+           777777.0                          655000.0   \n",
       "4  sunnybank      ALL           740000.0                          686000.0   \n",
       "\n",
       "   median_rental_price  rental_yield  annual_growth  rental_demand  \\\n",
       "0                417.5      0.038155          0.018         742.58   \n",
       "1                390.0      0.036873          0.028         821.38   \n",
       "2                470.0      0.040397          0.016         828.09   \n",
       "3                530.0      0.035434          0.035        2015.98   \n",
       "4                430.0      0.030216          0.015         597.14   \n",
       "\n",
       "   rental_properties  sold_properties  sold_properties_five_years_ago  \\\n",
       "0                222               86                             170   \n",
       "1                108               35                              81   \n",
       "2                 91               36                              58   \n",
       "3                 17                7                              14   \n",
       "4                257               66                             145   \n",
       "\n",
       "  property_type  \n",
       "0        houses  \n",
       "1        houses  \n",
       "2        houses  \n",
       "3        houses  \n",
       "4        houses  "
      ]
     },
     "execution_count": 29,
     "metadata": {},
     "output_type": "execute_result"
    }
   ],
   "source": [
    "df_median_price=pd.concat([df_houses,df_units], axis=0, ignore_index=True)\n",
    "df_median_price.head()"
   ]
  },
  {
   "cell_type": "code",
   "execution_count": null,
   "metadata": {
    "hidden": true
   },
   "outputs": [],
   "source": []
  },
  {
   "cell_type": "code",
   "execution_count": null,
   "metadata": {
    "hidden": true
   },
   "outputs": [],
   "source": []
  },
  {
   "cell_type": "code",
   "execution_count": null,
   "metadata": {
    "hidden": true
   },
   "outputs": [],
   "source": []
  },
  {
   "cell_type": "code",
   "execution_count": null,
   "metadata": {
    "hidden": true
   },
   "outputs": [],
   "source": []
  },
  {
   "cell_type": "markdown",
   "metadata": {
    "heading_collapsed": true
   },
   "source": [
    "# Get supply and demand data"
   ]
  },
  {
   "cell_type": "code",
   "execution_count": null,
   "metadata": {
    "hidden": true
   },
   "outputs": [],
   "source": [
    "#define API URL\n",
    "url_demand=r'https://investor-api.realestate.com.au/v2/states/qld/suburbs/runcorn/postcodes/4113/supply_demand.json'\n",
    "\n",
    "#Request the URL and parse the JSON data\n",
    "response_demand=requests.get(url_demand) #request the url\n",
    "response_demand.raise_for_status() #raise exception if invaid response\n",
    "print('Response Code: ',response.status_code) #check the request code \n",
    "\n",
    "result_demand=response_demand.json() #create a json object ofthe results\n",
    "pprint.pprint(result_demand) #pretty print the result for easy viewing"
   ]
  },
  {
   "cell_type": "code",
   "execution_count": null,
   "metadata": {
    "hidden": true
   },
   "outputs": [],
   "source": [
    "# result_demand.pop('end_date') #drop start and end dates\n",
    "# result_demand.pop('start_date')\n",
    "print(result_demand)"
   ]
  },
  {
   "cell_type": "code",
   "execution_count": null,
   "metadata": {
    "hidden": true
   },
   "outputs": [],
   "source": [
    "df_demand=pd.DataFrame(result_demand, index=np.arange(1)) #create a dataframe to store the suburb demand data\n",
    "df_demand #print dataframe"
   ]
  },
  {
   "cell_type": "code",
   "execution_count": null,
   "metadata": {
    "hidden": true
   },
   "outputs": [],
   "source": []
  },
  {
   "cell_type": "markdown",
   "metadata": {
    "heading_collapsed": true
   },
   "source": [
    "# Get suburb lifestyle and people data? - DONE"
   ]
  },
  {
   "cell_type": "code",
   "execution_count": null,
   "metadata": {
    "hidden": true
   },
   "outputs": [],
   "source": [
    "url_life=r'https://www.realestate.com.au/neighbourhoods/runcorn-4113-qld'\n",
    "page = requests.get(url_life)\n",
    "soup = BeautifulSoup(page.content, 'html.parser')"
   ]
  },
  {
   "cell_type": "markdown",
   "metadata": {
    "hidden": true
   },
   "source": [
    "UNSURE how to get the 2nd tabbed demo data out"
   ]
  },
  {
   "cell_type": "markdown",
   "metadata": {
    "heading_collapsed": true
   },
   "source": [
    "# Age group, occupancy, schools, nearby suburbs? Total population"
   ]
  },
  {
   "cell_type": "markdown",
   "metadata": {
    "heading_collapsed": true
   },
   "source": [
    "# Get Trend Dynamic Line chart with Selanium?"
   ]
  },
  {
   "cell_type": "code",
   "execution_count": null,
   "metadata": {
    "hidden": true
   },
   "outputs": [],
   "source": []
  },
  {
   "cell_type": "code",
   "execution_count": null,
   "metadata": {
    "hidden": true
   },
   "outputs": [],
   "source": []
  },
  {
   "cell_type": "code",
   "execution_count": null,
   "metadata": {
    "hidden": true
   },
   "outputs": [],
   "source": [
    "#define API URL\n",
    "url=r'https://investor-api.realestate.com.au/v2/states/qld/suburbs/runcorn.json?embed=suburb_geo'\n",
    "\n",
    "#Request the URL and parse the JSON data\n",
    "response=requests.get(url) #request the url\n",
    "response.raise_for_status() #raise exception if invaid response\n",
    "print('Response Code: ',response.status_code) #check the request code  \n",
    "\n",
    "result=response.json() #create a json object ofthe results\n",
    "#pprint.pprint(result) #pretty print the result for easy viewing"
   ]
  },
  {
   "cell_type": "code",
   "execution_count": null,
   "metadata": {
    "hidden": true
   },
   "outputs": [],
   "source": [
    "#get suburb name from the result- runcorn\n",
    "\n",
    "def suburb_name(result):\n",
    "    suburb_pc=list(result.keys())\n",
    "    suburb=suburb_pc[0].split(\"-\")[0].title()\n",
    "    return suburb \n",
    "\n",
    "suburb_name(result)"
   ]
  },
  {
   "cell_type": "code",
   "execution_count": null,
   "metadata": {
    "hidden": true
   },
   "outputs": [],
   "source": []
  },
  {
   "cell_type": "code",
   "execution_count": null,
   "metadata": {
    "hidden": true
   },
   "outputs": [],
   "source": []
  },
  {
   "cell_type": "code",
   "execution_count": null,
   "metadata": {
    "hidden": true
   },
   "outputs": [],
   "source": []
  },
  {
   "cell_type": "code",
   "execution_count": null,
   "metadata": {
    "hidden": true
   },
   "outputs": [],
   "source": []
  }
 ],
 "metadata": {
  "hide_input": false,
  "kernelspec": {
   "display_name": "Python 3",
   "language": "python",
   "name": "python3"
  },
  "language_info": {
   "codemirror_mode": {
    "name": "ipython",
    "version": 3
   },
   "file_extension": ".py",
   "mimetype": "text/x-python",
   "name": "python",
   "nbconvert_exporter": "python",
   "pygments_lexer": "ipython3",
   "version": "3.7.3"
  },
  "toc": {
   "base_numbering": 1,
   "nav_menu": {},
   "number_sections": true,
   "sideBar": true,
   "skip_h1_title": false,
   "title_cell": "Table of Contents",
   "title_sidebar": "Contents",
   "toc_cell": false,
   "toc_position": {},
   "toc_section_display": true,
   "toc_window_display": false
  },
  "varInspector": {
   "cols": {
    "lenName": 16,
    "lenType": 16,
    "lenVar": 40
   },
   "kernels_config": {
    "python": {
     "delete_cmd_postfix": "",
     "delete_cmd_prefix": "del ",
     "library": "var_list.py",
     "varRefreshCmd": "print(var_dic_list())"
    },
    "r": {
     "delete_cmd_postfix": ") ",
     "delete_cmd_prefix": "rm(",
     "library": "var_list.r",
     "varRefreshCmd": "cat(var_dic_list()) "
    }
   },
   "types_to_exclude": [
    "module",
    "function",
    "builtin_function_or_method",
    "instance",
    "_Feature"
   ],
   "window_display": false
  }
 },
 "nbformat": 4,
 "nbformat_minor": 4
}
