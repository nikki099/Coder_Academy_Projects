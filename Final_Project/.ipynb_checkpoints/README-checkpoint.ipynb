{
 "cells": [
  {
   "cell_type": "markdown",
   "metadata": {},
   "source": [
    "# Table of Contents\n",
    "______________________________________________________________________________________________________________\n",
    "\n",
    "* [Project Title](#Project-Title)\n",
    "* [Project Synopsis](#Project-Synopsis)\n",
    "  * [Key Questions Answered through Analysis](#Key-Questions-Answered-through-Analysis)\n",
    "  * [Project Scope](#Project-Scope)\n",
    "  * [Project Analysis Files](#Project-Analysis-Files)\n",
    "* [Data Sets](#Data-Sets)\n",
    "* [Result](#Result)\n",
    "\n",
    "\n",
    "\n",
    "## Project Title \n",
    "* “Finding the Affordable Suburbs to Buy in SE Brisbane Area”\n",
    "\n",
    "## Project Synopsis \n",
    "This project aims to help a young couple, who is planning to purchase a 3-4 bedroom house in the South Eastern area of Brisbane based on an analysis of the historical house prices sold in 10 selected suburbs over the last decade but mainly between 2017-2020.\n",
    "\n",
    "### Key Questions Answered through Data Analysis \n",
    "1.\tOver the last 10 years (2011-2020), how many properties are sold yearly by the top 3 property types?\n",
    "2.\tOver the last 4 years (2017-2020), how many houses were sold by bedroom numbers? And what's the overall trend among these suburbs?\n",
    "3.\tWhat is the min, max and median sold price for House with 3 or 4 bedrooms in each suburb?\n",
    "4.\tWhat's the trend of the number of houses sold and the sold median price for 3 and 4 bedroom houses?\n",
    "5.\tAre there any correlations between the house sold price and other factors?\n",
    "\n",
    "### Project Scope\n",
    "* Compared the summary median price data of the sold houses from each suburb between Nov 2019-Dec 2020 on [REA](https://www.realestate.com.au/sold/) and [Domain](https://www.domain.com.au/) to understand the price differences between these 2 sites.\n",
    "* Compared with the website traffic and [Canstar domain ratings](https://www.canstarblue.com.au/stores-services/real-estate-vs-domain/) between the 2 sites, to decide which site to pull the sold property listing details for in-depth analysis.<br>\n",
    "* Upon selecting REA as the data source, we dived deeper to analyze the total number of properties sold between 2006-2020.<br>\n",
    "* However, due to some of the key suburbs, which the clients is interested in, doesn't have data captured before 2017, we focused on analyzing the number of sold properties and the median price for 3-4 bedroom houses between 2017-2020.<br>\n",
    "* Next we switched back to examine all data collected over past 14 years, to explore what factors may have a (linear) correlation with the house price.<br>\n",
    "* Finally, based on the above analysis, a selection of suburbs is recommended to the couple, to assist them make an informed decision on which suburb(s) they should focus on exploring for their house purchase next year.<br>\n",
    "</font>\n",
    "\n",
    "### Project Analysis Files\n",
    "* The analysis script and the related data visualizations can be found in the **\"Analysis\"** folder in this Github Repository.\n",
    "* The data cleaning and prep script can be found in the **\"Data_Cleaning\"** folder in this Github Repository.\n",
    "\n",
    "## Data Sets\n",
    "\n",
    "This project collected 4 sets of data for analysis purpose:<br>\n",
    "1. REA - Suburb based median house price (summary data)<br>\n",
    " * Direct data access from a Jason file through [REA](https://realestate.com.au) API\n",
    " * How to access: the API query script is included in the Jupyter Notebook stored in the **\"Data_Cleaning\"** folder in this Github Repository.\n",
    "\n",
    "\n",
    "2.\tDomain - Suburb based median house price (summary data)<br>\n",
    " * Data scraped from [Domain.com.au](https://www.domain.com.au/) to compare with REA data\n",
    " * How to access: this data is stored in the Excel file \"[domain_market_trend.xlsx](https://docs.google.com/spreadsheets/d/1Bp3Ufrkx_YNkrzFG0Fo8glmVHHkjc6rOXsNbw13BJds/edit?usp=sharing)\" in the [Google Drive “Data” folder](https://drive.google.com/drive/folders/12qFycpdnDk8_SrNtqTyAVV8o0O0o-wPf?usp=sharing).\n",
    "\n",
    "\n",
    "3.\tWebsite Traffic and Overall Domain Rating Data<br>\n",
    " * Web traffic data (REA vs Domain) collected from [SEMRUSH](https://www.semrush.com/)\n",
    " * Overall Domain Rating (REA vs Domain) collected from [Canstar](https://www.canstarblue.com.au/stores-services/real-estate-vs-domain/)\n",
    " * Through comparing the summary house median prices, web traffic and overall domain rating data between these 2 sites, the project finally chose REA as the source to explore the detailed sold house listing information for project analysis. \n",
    " * How to access: this data is stored in the Excel file “[Traffic_Rating.xlsx](https://docs.google.com/spreadsheets/d/1XQYlDbTnuqz_YNu0iszhu9sh3PqkX1u9778QthOYeAI/edit?usp=sharing)\" in the [Google Drive “Data” folder](https://drive.google.com/drive/folders/12qFycpdnDk8_SrNtqTyAVV8o0O0o-wPf?usp=sharing).\n",
    "\n",
    "\n",
    "4.\tREA – Sold Houses Price Data (2011-2020, mainly focusing on 2017-2020)<br>\n",
    " * Sold house data scraped from the [Sold section on realestate.com.au](https://www.realestate.com.au/sold/) from 10 SE Brisbane Suburbs.\n",
    " * The collected data includes fields such as the property address, property size, sold prices, sold date, bedroom, bathroom and car park number and etc..\n",
    " * How to access: this data is stored the following csv files (one file for each suburb), in the [Google Drive “Data” folder](https://drive.google.com/drive/folders/12qFycpdnDk8_SrNtqTyAVV8o0O0o-wPf?usp=sharing).\n",
    ":<br>\n",
    "\n",
    "         *[realestate.com.au_SOLD_Algester.csv](https://docs.google.com/spreadsheets/d/1TPHdKGY-VXani8OVQuFE-68Gg6mc06Hc_gTsltQXpjw/edit?usp=sharing)*<br>\n",
    "         *[realestate.com.au_SOLD_Calamvale.csv](https://docs.google.com/spreadsheets/d/1KRQfJ4rNB-3YFZOW1glmdcAWQ0d7PBmtGiZGp1lA_RY/edit?usp=sharing)*<br>\n",
    "         *…*<br>\n",
    "         *[realestate.com.au_SOLD_Wishart.csv](https://docs.google.com/spreadsheets/d/1mbTzczhl0dZ9_6XDZ8KXy4O219DF9tDMFNwb0Pn-snk/edit?usp=sharing)*<br>\n",
    "\n",
    "## Result\n",
    "\n",
    "Through analyzing the number of sold houses and the median prices of 3 and 4 bedrooms across 10 suburbs between 2017-2020, the project provided answers to the 5 questions listed in the Project Synopsis section, and also recommended a list of suburbs for the couple to consider for their next house purchase.\n",
    "\n",
    "**Note**: This analysis conclusion is only a preliminary inference by observing the trend with limited sets of data, and will need to examine further factors (such as the number of houses on sale, the average days on the market, the council development plan, investment policies etc.) to make a proper conclusion.\n",
    "   \n"
   ]
  }
 ],
 "metadata": {
  "hide_input": false,
  "kernelspec": {
   "display_name": "Python 3",
   "language": "python",
   "name": "python3"
  },
  "language_info": {
   "codemirror_mode": {
    "name": "ipython",
    "version": 3
   },
   "file_extension": ".py",
   "mimetype": "text/x-python",
   "name": "python",
   "nbconvert_exporter": "python",
   "pygments_lexer": "ipython3",
   "version": "3.7.3"
  },
  "toc": {
   "base_numbering": 1,
   "nav_menu": {},
   "number_sections": true,
   "sideBar": true,
   "skip_h1_title": false,
   "title_cell": "Table of Contents",
   "title_sidebar": "Contents",
   "toc_cell": false,
   "toc_position": {},
   "toc_section_display": true,
   "toc_window_display": false
  },
  "varInspector": {
   "cols": {
    "lenName": 16,
    "lenType": 16,
    "lenVar": 40
   },
   "kernels_config": {
    "python": {
     "delete_cmd_postfix": "",
     "delete_cmd_prefix": "del ",
     "library": "var_list.py",
     "varRefreshCmd": "print(var_dic_list())"
    },
    "r": {
     "delete_cmd_postfix": ") ",
     "delete_cmd_prefix": "rm(",
     "library": "var_list.r",
     "varRefreshCmd": "cat(var_dic_list()) "
    }
   },
   "types_to_exclude": [
    "module",
    "function",
    "builtin_function_or_method",
    "instance",
    "_Feature"
   ],
   "window_display": false
  }
 },
 "nbformat": 4,
 "nbformat_minor": 2
}
