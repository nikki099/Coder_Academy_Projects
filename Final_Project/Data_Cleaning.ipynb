{
 "cells": [
  {
   "cell_type": "code",
   "execution_count": 1,
   "metadata": {},
   "outputs": [],
   "source": [
    "import pandas as pd\n",
    "import numpy as np\n",
    "import requests\n",
    "import json\n",
    "import pprint\n",
    "from collections import defaultdict\n",
    "import glob"
   ]
  },
  {
   "cell_type": "markdown",
   "metadata": {},
   "source": [
    "# <font color='#0366d6'> REA realestate.com.au | suburb | property median price data <font>\n",
    "- Access API data "
   ]
  },
  {
   "cell_type": "code",
   "execution_count": 2,
   "metadata": {},
   "outputs": [],
   "source": [
    "# A list of suburb to scrape the house buy and rent data from realestate.com.au\n",
    "suburbs=['runcorn','sunnybank','sunnybank hills','eight mile plains', \n",
    "         'kuraby', 'upper mount gravatt', 'wishart', 'coopers plains','calamvale', 'algester']"
   ]
  },
  {
   "cell_type": "code",
   "execution_count": 3,
   "metadata": {
    "scrolled": true
   },
   "outputs": [],
   "source": [
    "#Create a loop to collect the house buy and rent data from each suburb\n",
    "\n",
    "results=[]\n",
    "\n",
    "for s in suburbs:\n",
    "    #define API URL\n",
    "    url_part1='https://investor-api.realestate.com.au/v2/states/qld/suburbs/'\n",
    "    url_part2='.json?embed=suburb_geo'\n",
    "\n",
    "    url=url_part1+s+url_part2\n",
    "    \n",
    "    #Request the URL and parse the JSON data\n",
    "    response=requests.get(url) #request the url\n",
    "    response.raise_for_status() #raise exception if invaid response\n",
    "    #print('Response Code: ',response.status_code) #check the request code  \n",
    "\n",
    "    result=response.json() #create a json object ofthe results\n",
    "    results.append(result)"
   ]
  },
  {
   "cell_type": "code",
   "execution_count": 4,
   "metadata": {},
   "outputs": [
    {
     "name": "stdout",
     "output_type": "stream",
     "text": [
      "['RUNCORN-4113', 'SUNNYBANK-4109', 'SUNNYBANK HILLS-4109', 'EIGHT MILE PLAINS-4113', 'KURABY-4112', 'UPPER MOUNT GRAVATT-4122', 'WISHART-4122', 'COOPERS PLAINS-4108', 'CALAMVALE-4116', 'ALGESTER-4115']\n"
     ]
    }
   ],
   "source": [
    "#check if the results list has collected all 10 suburbs data from the json file\n",
    "suburb_keys=[list(r.keys())[0] for r in results] \n",
    "print(suburb_keys)"
   ]
  },
  {
   "cell_type": "code",
   "execution_count": 5,
   "metadata": {},
   "outputs": [],
   "source": [
    "#Preview a sample suburb \"Runcorn\" json data\n",
    "#pprint.pprint(results[1]) #print the result"
   ]
  },
  {
   "cell_type": "markdown",
   "metadata": {},
   "source": [
    "## Create a suburb based house price data frame"
   ]
  },
  {
   "cell_type": "code",
   "execution_count": 6,
   "metadata": {},
   "outputs": [
    {
     "name": "stdout",
     "output_type": "stream",
     "text": [
      "dict_keys(['HOUSE', 'UNIT'])\n"
     ]
    }
   ],
   "source": [
    "property_type=results[0]['RUNCORN-4113']['property_types'] #check what property types available in the listing\n",
    "print(property_type.keys()) #2 Types - House, Unit\n",
    "\n",
    "#We only look for bedrooms with 3+ bedrooms\n",
    "house_bed_num=['ALL', '3', '4', '5+']"
   ]
  },
  {
   "cell_type": "code",
   "execution_count": 7,
   "metadata": {
    "scrolled": true
   },
   "outputs": [],
   "source": [
    "#Create a loop to access the house buy/rent data based on the num of bedrooms from each suburb\n",
    "house_bedrooms_data=[]\n",
    "\n",
    "for key in range(len(suburb_keys)):\n",
    "    \n",
    "    suburbs_pc=suburb_keys[key]  #suburb name + postal_code\n",
    "    suburb_data=results[key][suburbs_pc] #access the suburb dict\n",
    "    house_suburb_data=suburb_data['property_types']['HOUSE'] #access the house data in the dict\n",
    "    house_bedrooms=house_suburb_data['bedrooms'] #access the house bedrooms info in the dict\n",
    "    \n",
    "    hbk=list(house_bedrooms.keys()) #check if the suburb has house data with less than 3 bedrooms, if so, remove them\n",
    "    if '0' in hbk:  #remove record with bedroom num=0\n",
    "        house_bedrooms.pop('0')\n",
    "    elif '1' in hbk: #remove record with bedroom num=1\n",
    "        house_bedrooms.pop('1')\n",
    "    elif '2' in hbk:#remove record with bedroom num=2\n",
    "        house_bedrooms.pop('2')\n",
    "    else:\n",
    "        house_bedrooms\n",
    "    \n",
    "    house_bedrooms_data.append(house_bedrooms)    "
   ]
  },
  {
   "cell_type": "code",
   "execution_count": 8,
   "metadata": {},
   "outputs": [
    {
     "data": {
      "text/html": [
       "<div>\n",
       "<style scoped>\n",
       "    .dataframe tbody tr th:only-of-type {\n",
       "        vertical-align: middle;\n",
       "    }\n",
       "\n",
       "    .dataframe tbody tr th {\n",
       "        vertical-align: top;\n",
       "    }\n",
       "\n",
       "    .dataframe thead th {\n",
       "        text-align: right;\n",
       "    }\n",
       "</style>\n",
       "<table border=\"1\" class=\"dataframe\">\n",
       "  <thead>\n",
       "    <tr style=\"text-align: right;\">\n",
       "      <th></th>\n",
       "      <th>suburb</th>\n",
       "      <th>bedrooms</th>\n",
       "      <th>median_sold_price</th>\n",
       "      <th>median_sold_price_five_years_ago</th>\n",
       "      <th>median_rental_price</th>\n",
       "      <th>rental_yield</th>\n",
       "      <th>annual_growth</th>\n",
       "      <th>rental_demand</th>\n",
       "      <th>rental_properties</th>\n",
       "      <th>sold_properties</th>\n",
       "      <th>sold_properties_five_years_ago</th>\n",
       "      <th>property_type</th>\n",
       "    </tr>\n",
       "  </thead>\n",
       "  <tbody>\n",
       "    <tr>\n",
       "      <th>0</th>\n",
       "      <td>runcorn</td>\n",
       "      <td>ALL</td>\n",
       "      <td>569000.0</td>\n",
       "      <td>523500</td>\n",
       "      <td>420.0</td>\n",
       "      <td>0.038383</td>\n",
       "      <td>0.017</td>\n",
       "      <td>742.58</td>\n",
       "      <td>220</td>\n",
       "      <td>78</td>\n",
       "      <td>174</td>\n",
       "      <td>house</td>\n",
       "    </tr>\n",
       "    <tr>\n",
       "      <th>1</th>\n",
       "      <td>runcorn</td>\n",
       "      <td>3</td>\n",
       "      <td>552000.0</td>\n",
       "      <td>485000</td>\n",
       "      <td>390.0</td>\n",
       "      <td>0.036739</td>\n",
       "      <td>0.026</td>\n",
       "      <td>821.38</td>\n",
       "      <td>105</td>\n",
       "      <td>31</td>\n",
       "      <td>86</td>\n",
       "      <td>house</td>\n",
       "    </tr>\n",
       "    <tr>\n",
       "      <th>2</th>\n",
       "      <td>runcorn</td>\n",
       "      <td>4</td>\n",
       "      <td>615000.0</td>\n",
       "      <td>550000</td>\n",
       "      <td>467.5</td>\n",
       "      <td>0.039529</td>\n",
       "      <td>0.023</td>\n",
       "      <td>828.09</td>\n",
       "      <td>90</td>\n",
       "      <td>33</td>\n",
       "      <td>58</td>\n",
       "      <td>house</td>\n",
       "    </tr>\n",
       "    <tr>\n",
       "      <th>3</th>\n",
       "      <td>runcorn</td>\n",
       "      <td>5+</td>\n",
       "      <td>766500.0</td>\n",
       "      <td>640000</td>\n",
       "      <td>530.0</td>\n",
       "      <td>0.035956</td>\n",
       "      <td>0.037</td>\n",
       "      <td>2015.98</td>\n",
       "      <td>18</td>\n",
       "      <td>6</td>\n",
       "      <td>14</td>\n",
       "      <td>house</td>\n",
       "    </tr>\n",
       "    <tr>\n",
       "      <th>4</th>\n",
       "      <td>sunnybank</td>\n",
       "      <td>ALL</td>\n",
       "      <td>755000.0</td>\n",
       "      <td>690000</td>\n",
       "      <td>430.0</td>\n",
       "      <td>0.029616</td>\n",
       "      <td>0.018</td>\n",
       "      <td>597.14</td>\n",
       "      <td>260</td>\n",
       "      <td>59</td>\n",
       "      <td>147</td>\n",
       "      <td>house</td>\n",
       "    </tr>\n",
       "  </tbody>\n",
       "</table>\n",
       "</div>"
      ],
      "text/plain": [
       "      suburb bedrooms  median_sold_price median_sold_price_five_years_ago  \\\n",
       "0    runcorn      ALL           569000.0                           523500   \n",
       "1    runcorn        3           552000.0                           485000   \n",
       "2    runcorn        4           615000.0                           550000   \n",
       "3    runcorn       5+           766500.0                           640000   \n",
       "4  sunnybank      ALL           755000.0                           690000   \n",
       "\n",
       "   median_rental_price  rental_yield annual_growth  rental_demand  \\\n",
       "0                420.0      0.038383         0.017         742.58   \n",
       "1                390.0      0.036739         0.026         821.38   \n",
       "2                467.5      0.039529         0.023         828.09   \n",
       "3                530.0      0.035956         0.037        2015.98   \n",
       "4                430.0      0.029616         0.018         597.14   \n",
       "\n",
       "   rental_properties  sold_properties  sold_properties_five_years_ago  \\\n",
       "0                220               78                             174   \n",
       "1                105               31                              86   \n",
       "2                 90               33                              58   \n",
       "3                 18                6                              14   \n",
       "4                260               59                             147   \n",
       "\n",
       "  property_type  \n",
       "0         house  \n",
       "1         house  \n",
       "2         house  \n",
       "3         house  \n",
       "4         house  "
      ]
     },
     "execution_count": 8,
     "metadata": {},
     "output_type": "execute_result"
    }
   ],
   "source": [
    "# Buid a house buy and rent dataframe based on the num of bedrooms from each suburb\n",
    "\n",
    "df_houses_list=[]\n",
    "for i in range(10):\n",
    "    suburb=suburbs[i]\n",
    "    house_data=house_bedrooms_data[i]\n",
    "    \n",
    "    houses_data_list=[]\n",
    "    \n",
    "    for x in range(4): #use loop to return the house data based on the num of bedrooms (num=3,4, 5+ or ALL)\n",
    "        num=house_bed_num[x]\n",
    "        houses_data=house_data[num]['investor_metrics']\n",
    "            \n",
    "        houses_data['bedrooms']=num # add a new column to show the bedroom number\n",
    "        df_houses=pd.DataFrame(houses_data, index=np.arange(1))#store the house data in a dataframe\n",
    "        houses_data_list.append(df_houses) #append all house dfs for a suburb into a list\n",
    "\n",
    "\n",
    "    df_houses=pd.concat(houses_data_list,axis=0, ignore_index=True) #merge all dataframes in the list into 1 for each suburb\n",
    "\n",
    "    df_houses['suburb']=str(suburb) #add a new colum to show the suburb name\n",
    "\n",
    "    cols=df_houses.columns.to_list() # 10 columns\n",
    "    cols=cols[-1:]+cols[-2:-1]+cols[:-2] #move the last 2 colunns (\"suburb, bedrooms\") to the front of dataframe\n",
    "    df_houses=df_houses[cols]\n",
    "    df_houses_list.append(df_houses) #append all suburb unit dfs into a list\n",
    "    \n",
    "\n",
    "df_houses=pd.concat(df_houses_list,axis=0, ignore_index=True) #merge all suburb dataframes into 1\n",
    "df_houses['property_type']='house'\n",
    "df_houses.head()    \n"
   ]
  },
  {
   "cell_type": "code",
   "execution_count": 9,
   "metadata": {},
   "outputs": [
    {
     "data": {
      "text/plain": [
       "suburb                               object\n",
       "bedrooms                             object\n",
       "median_sold_price                   float64\n",
       "median_sold_price_five_years_ago     object\n",
       "median_rental_price                 float64\n",
       "rental_yield                        float64\n",
       "annual_growth                        object\n",
       "rental_demand                       float64\n",
       "rental_properties                     int64\n",
       "sold_properties                       int64\n",
       "sold_properties_five_years_ago        int64\n",
       "property_type                        object\n",
       "dtype: object"
      ]
     },
     "execution_count": 9,
     "metadata": {},
     "output_type": "execute_result"
    }
   ],
   "source": [
    "df_houses.dtypes # we noticed that \"median_sold_price_five_years_ago\" and \"annual_growth\" are shown as string"
   ]
  },
  {
   "cell_type": "code",
   "execution_count": 10,
   "metadata": {},
   "outputs": [
    {
     "data": {
      "text/plain": [
       "suburb                              0\n",
       "bedrooms                            0\n",
       "median_sold_price                   0\n",
       "median_sold_price_five_years_ago    1\n",
       "median_rental_price                 0\n",
       "rental_yield                        0\n",
       "annual_growth                       1\n",
       "rental_demand                       0\n",
       "rental_properties                   0\n",
       "sold_properties                     0\n",
       "sold_properties_five_years_ago      0\n",
       "property_type                       0\n",
       "dtype: int64"
      ]
     },
     "execution_count": 10,
     "metadata": {},
     "output_type": "execute_result"
    }
   ],
   "source": [
    "df_houses.isnull().sum() #check if there are null values"
   ]
  },
  {
   "cell_type": "code",
   "execution_count": 11,
   "metadata": {},
   "outputs": [
    {
     "data": {
      "text/html": [
       "<div>\n",
       "<style scoped>\n",
       "    .dataframe tbody tr th:only-of-type {\n",
       "        vertical-align: middle;\n",
       "    }\n",
       "\n",
       "    .dataframe tbody tr th {\n",
       "        vertical-align: top;\n",
       "    }\n",
       "\n",
       "    .dataframe thead th {\n",
       "        text-align: right;\n",
       "    }\n",
       "</style>\n",
       "<table border=\"1\" class=\"dataframe\">\n",
       "  <thead>\n",
       "    <tr style=\"text-align: right;\">\n",
       "      <th></th>\n",
       "      <th>suburb</th>\n",
       "      <th>bedrooms</th>\n",
       "      <th>median_sold_price</th>\n",
       "      <th>median_sold_price_five_years_ago</th>\n",
       "      <th>median_rental_price</th>\n",
       "      <th>rental_yield</th>\n",
       "      <th>annual_growth</th>\n",
       "      <th>rental_demand</th>\n",
       "      <th>rental_properties</th>\n",
       "      <th>sold_properties</th>\n",
       "      <th>sold_properties_five_years_ago</th>\n",
       "      <th>property_type</th>\n",
       "    </tr>\n",
       "  </thead>\n",
       "  <tbody>\n",
       "    <tr>\n",
       "      <th>0</th>\n",
       "      <td>runcorn</td>\n",
       "      <td>ALL</td>\n",
       "      <td>569000.0</td>\n",
       "      <td>523500.0</td>\n",
       "      <td>420.0</td>\n",
       "      <td>0.038383</td>\n",
       "      <td>0.017</td>\n",
       "      <td>742.58</td>\n",
       "      <td>220</td>\n",
       "      <td>78</td>\n",
       "      <td>174</td>\n",
       "      <td>house</td>\n",
       "    </tr>\n",
       "    <tr>\n",
       "      <th>1</th>\n",
       "      <td>runcorn</td>\n",
       "      <td>3</td>\n",
       "      <td>552000.0</td>\n",
       "      <td>485000.0</td>\n",
       "      <td>390.0</td>\n",
       "      <td>0.036739</td>\n",
       "      <td>0.026</td>\n",
       "      <td>821.38</td>\n",
       "      <td>105</td>\n",
       "      <td>31</td>\n",
       "      <td>86</td>\n",
       "      <td>house</td>\n",
       "    </tr>\n",
       "    <tr>\n",
       "      <th>2</th>\n",
       "      <td>runcorn</td>\n",
       "      <td>4</td>\n",
       "      <td>615000.0</td>\n",
       "      <td>550000.0</td>\n",
       "      <td>467.5</td>\n",
       "      <td>0.039529</td>\n",
       "      <td>0.023</td>\n",
       "      <td>828.09</td>\n",
       "      <td>90</td>\n",
       "      <td>33</td>\n",
       "      <td>58</td>\n",
       "      <td>house</td>\n",
       "    </tr>\n",
       "    <tr>\n",
       "      <th>3</th>\n",
       "      <td>runcorn</td>\n",
       "      <td>5+</td>\n",
       "      <td>766500.0</td>\n",
       "      <td>640000.0</td>\n",
       "      <td>530.0</td>\n",
       "      <td>0.035956</td>\n",
       "      <td>0.037</td>\n",
       "      <td>2015.98</td>\n",
       "      <td>18</td>\n",
       "      <td>6</td>\n",
       "      <td>14</td>\n",
       "      <td>house</td>\n",
       "    </tr>\n",
       "    <tr>\n",
       "      <th>4</th>\n",
       "      <td>sunnybank</td>\n",
       "      <td>ALL</td>\n",
       "      <td>755000.0</td>\n",
       "      <td>690000.0</td>\n",
       "      <td>430.0</td>\n",
       "      <td>0.029616</td>\n",
       "      <td>0.018</td>\n",
       "      <td>597.14</td>\n",
       "      <td>260</td>\n",
       "      <td>59</td>\n",
       "      <td>147</td>\n",
       "      <td>house</td>\n",
       "    </tr>\n",
       "  </tbody>\n",
       "</table>\n",
       "</div>"
      ],
      "text/plain": [
       "      suburb bedrooms  median_sold_price  median_sold_price_five_years_ago  \\\n",
       "0    runcorn      ALL           569000.0                          523500.0   \n",
       "1    runcorn        3           552000.0                          485000.0   \n",
       "2    runcorn        4           615000.0                          550000.0   \n",
       "3    runcorn       5+           766500.0                          640000.0   \n",
       "4  sunnybank      ALL           755000.0                          690000.0   \n",
       "\n",
       "   median_rental_price  rental_yield  annual_growth  rental_demand  \\\n",
       "0                420.0      0.038383          0.017         742.58   \n",
       "1                390.0      0.036739          0.026         821.38   \n",
       "2                467.5      0.039529          0.023         828.09   \n",
       "3                530.0      0.035956          0.037        2015.98   \n",
       "4                430.0      0.029616          0.018         597.14   \n",
       "\n",
       "   rental_properties  sold_properties  sold_properties_five_years_ago  \\\n",
       "0                220               78                             174   \n",
       "1                105               31                              86   \n",
       "2                 90               33                              58   \n",
       "3                 18                6                              14   \n",
       "4                260               59                             147   \n",
       "\n",
       "  property_type  \n",
       "0         house  \n",
       "1         house  \n",
       "2         house  \n",
       "3         house  \n",
       "4         house  "
      ]
     },
     "execution_count": 11,
     "metadata": {},
     "output_type": "execute_result"
    }
   ],
   "source": [
    "df_houses.fillna(0, inplace=True) #replace null value with 0\n",
    "df_houses.head()"
   ]
  },
  {
   "cell_type": "code",
   "execution_count": 12,
   "metadata": {},
   "outputs": [],
   "source": [
    "#convert \"median_sold_price_five_years_ago\" and \"annual_growth\" into float data types\n",
    "dict={\"suburb\":str, \"bedrooms\":str,\n",
    "      \"median_sold_price\":np.float64,\n",
    "     \"median_sold_price_five_years_ago\":np.float64,\n",
    "     \"median_rental_price\":np.float64,\n",
    "      \"annual_growth\":np.float64,\n",
    "      \"rental_demand\":np.float64,\n",
    "      \"rental_properties\":np.int64,\n",
    "      \"sold_properties\":np.int64,\n",
    "      \"sold_properties_five_years_ago\":np.int64,\n",
    "      \"property_type\": str}"
   ]
  },
  {
   "cell_type": "code",
   "execution_count": 13,
   "metadata": {
    "scrolled": true
   },
   "outputs": [
    {
     "data": {
      "text/plain": [
       "suburb                               object\n",
       "bedrooms                             object\n",
       "median_sold_price                   float64\n",
       "median_sold_price_five_years_ago    float64\n",
       "median_rental_price                 float64\n",
       "rental_yield                        float64\n",
       "annual_growth                       float64\n",
       "rental_demand                       float64\n",
       "rental_properties                     int64\n",
       "sold_properties                       int64\n",
       "sold_properties_five_years_ago        int64\n",
       "property_type                        object\n",
       "dtype: object"
      ]
     },
     "execution_count": 13,
     "metadata": {},
     "output_type": "execute_result"
    }
   ],
   "source": [
    "#check the data type again\n",
    "df_houses.apply(dict)\n",
    "df_houses.dtypes"
   ]
  },
  {
   "cell_type": "code",
   "execution_count": 14,
   "metadata": {},
   "outputs": [
    {
     "data": {
      "text/html": [
       "<div>\n",
       "<style scoped>\n",
       "    .dataframe tbody tr th:only-of-type {\n",
       "        vertical-align: middle;\n",
       "    }\n",
       "\n",
       "    .dataframe tbody tr th {\n",
       "        vertical-align: top;\n",
       "    }\n",
       "\n",
       "    .dataframe thead th {\n",
       "        text-align: right;\n",
       "    }\n",
       "</style>\n",
       "<table border=\"1\" class=\"dataframe\">\n",
       "  <thead>\n",
       "    <tr style=\"text-align: right;\">\n",
       "      <th></th>\n",
       "      <th>suburb</th>\n",
       "      <th>bedrooms</th>\n",
       "      <th>median_sold_price</th>\n",
       "      <th>median_sold_price_five_years_ago</th>\n",
       "      <th>median_rental_price</th>\n",
       "      <th>rental_yield</th>\n",
       "      <th>annual_growth</th>\n",
       "      <th>rental_demand</th>\n",
       "      <th>rental_properties</th>\n",
       "      <th>sold_properties</th>\n",
       "      <th>sold_properties_five_years_ago</th>\n",
       "      <th>type</th>\n",
       "    </tr>\n",
       "  </thead>\n",
       "  <tbody>\n",
       "    <tr>\n",
       "      <th>0</th>\n",
       "      <td>runcorn</td>\n",
       "      <td>ALL</td>\n",
       "      <td>569000.0</td>\n",
       "      <td>523500.0</td>\n",
       "      <td>420.0</td>\n",
       "      <td>0.038383</td>\n",
       "      <td>0.017</td>\n",
       "      <td>742.58</td>\n",
       "      <td>220</td>\n",
       "      <td>78</td>\n",
       "      <td>174</td>\n",
       "      <td>house</td>\n",
       "    </tr>\n",
       "    <tr>\n",
       "      <th>1</th>\n",
       "      <td>runcorn</td>\n",
       "      <td>3</td>\n",
       "      <td>552000.0</td>\n",
       "      <td>485000.0</td>\n",
       "      <td>390.0</td>\n",
       "      <td>0.036739</td>\n",
       "      <td>0.026</td>\n",
       "      <td>821.38</td>\n",
       "      <td>105</td>\n",
       "      <td>31</td>\n",
       "      <td>86</td>\n",
       "      <td>house</td>\n",
       "    </tr>\n",
       "    <tr>\n",
       "      <th>2</th>\n",
       "      <td>runcorn</td>\n",
       "      <td>4</td>\n",
       "      <td>615000.0</td>\n",
       "      <td>550000.0</td>\n",
       "      <td>467.5</td>\n",
       "      <td>0.039529</td>\n",
       "      <td>0.023</td>\n",
       "      <td>828.09</td>\n",
       "      <td>90</td>\n",
       "      <td>33</td>\n",
       "      <td>58</td>\n",
       "      <td>house</td>\n",
       "    </tr>\n",
       "    <tr>\n",
       "      <th>3</th>\n",
       "      <td>runcorn</td>\n",
       "      <td>5+</td>\n",
       "      <td>766500.0</td>\n",
       "      <td>640000.0</td>\n",
       "      <td>530.0</td>\n",
       "      <td>0.035956</td>\n",
       "      <td>0.037</td>\n",
       "      <td>2015.98</td>\n",
       "      <td>18</td>\n",
       "      <td>6</td>\n",
       "      <td>14</td>\n",
       "      <td>house</td>\n",
       "    </tr>\n",
       "    <tr>\n",
       "      <th>4</th>\n",
       "      <td>sunnybank</td>\n",
       "      <td>ALL</td>\n",
       "      <td>755000.0</td>\n",
       "      <td>690000.0</td>\n",
       "      <td>430.0</td>\n",
       "      <td>0.029616</td>\n",
       "      <td>0.018</td>\n",
       "      <td>597.14</td>\n",
       "      <td>260</td>\n",
       "      <td>59</td>\n",
       "      <td>147</td>\n",
       "      <td>house</td>\n",
       "    </tr>\n",
       "  </tbody>\n",
       "</table>\n",
       "</div>"
      ],
      "text/plain": [
       "      suburb bedrooms  median_sold_price  median_sold_price_five_years_ago  \\\n",
       "0    runcorn      ALL           569000.0                          523500.0   \n",
       "1    runcorn        3           552000.0                          485000.0   \n",
       "2    runcorn        4           615000.0                          550000.0   \n",
       "3    runcorn       5+           766500.0                          640000.0   \n",
       "4  sunnybank      ALL           755000.0                          690000.0   \n",
       "\n",
       "   median_rental_price  rental_yield  annual_growth  rental_demand  \\\n",
       "0                420.0      0.038383          0.017         742.58   \n",
       "1                390.0      0.036739          0.026         821.38   \n",
       "2                467.5      0.039529          0.023         828.09   \n",
       "3                530.0      0.035956          0.037        2015.98   \n",
       "4                430.0      0.029616          0.018         597.14   \n",
       "\n",
       "   rental_properties  sold_properties  sold_properties_five_years_ago   type  \n",
       "0                220               78                             174  house  \n",
       "1                105               31                              86  house  \n",
       "2                 90               33                              58  house  \n",
       "3                 18                6                              14  house  \n",
       "4                260               59                             147  house  "
      ]
     },
     "execution_count": 14,
     "metadata": {},
     "output_type": "execute_result"
    }
   ],
   "source": [
    "df_rea_data=df_houses\n",
    "df_rea_data.rename({'property_type':'type'},axis=1, inplace=True)\n",
    "df_rea_data.head()"
   ]
  },
  {
   "cell_type": "code",
   "execution_count": null,
   "metadata": {},
   "outputs": [],
   "source": []
  },
  {
   "cell_type": "markdown",
   "metadata": {},
   "source": [
    "# <font color='#0366d6'> Domain.com.au | suburb | property median price data </font>\n",
    "- Access data collected by using a web scraper \n",
    "\n",
    "Note: Unlike **REA** (https://www.realestate.com.au), where the median price can be accessed directly from the page or API, <br>**Domain.com.au** (https://www.domain.com.au) shows some of the detailed property data (such as yearly median price trend) in a folded menu, which is more difficult and time consuming to scrape using Python. \n",
    "\n",
    "Hence I used a web scraping tool to obtain the property data only from 10 suburbs to speed up the process.<br>\n",
    "Let's import the data from domain.com.au and have a preview."
   ]
  },
  {
   "cell_type": "code",
   "execution_count": 15,
   "metadata": {},
   "outputs": [],
   "source": [
    "#1. Market Trend Data"
   ]
  },
  {
   "cell_type": "code",
   "execution_count": 16,
   "metadata": {
    "scrolled": true
   },
   "outputs": [
    {
     "data": {
      "text/html": [
       "<div>\n",
       "<style scoped>\n",
       "    .dataframe tbody tr th:only-of-type {\n",
       "        vertical-align: middle;\n",
       "    }\n",
       "\n",
       "    .dataframe tbody tr th {\n",
       "        vertical-align: top;\n",
       "    }\n",
       "\n",
       "    .dataframe thead th {\n",
       "        text-align: right;\n",
       "    }\n",
       "</style>\n",
       "<table border=\"1\" class=\"dataframe\">\n",
       "  <thead>\n",
       "    <tr style=\"text-align: right;\">\n",
       "      <th></th>\n",
       "      <th>suburb</th>\n",
       "      <th>bedrooms</th>\n",
       "      <th>type</th>\n",
       "      <th>median_sold_price</th>\n",
       "      <th>Avg days on market</th>\n",
       "      <th>Clearance rate</th>\n",
       "      <th>sold_properties</th>\n",
       "    </tr>\n",
       "  </thead>\n",
       "  <tbody>\n",
       "    <tr>\n",
       "      <th>0</th>\n",
       "      <td>runcorn</td>\n",
       "      <td>2</td>\n",
       "      <td>house</td>\n",
       "      <td>-</td>\n",
       "      <td>-</td>\n",
       "      <td>-</td>\n",
       "      <td>5</td>\n",
       "    </tr>\n",
       "    <tr>\n",
       "      <th>1</th>\n",
       "      <td>runcorn</td>\n",
       "      <td>3</td>\n",
       "      <td>house</td>\n",
       "      <td>$455k</td>\n",
       "      <td>67 days</td>\n",
       "      <td>0.5</td>\n",
       "      <td>58</td>\n",
       "    </tr>\n",
       "    <tr>\n",
       "      <th>2</th>\n",
       "      <td>runcorn</td>\n",
       "      <td>4</td>\n",
       "      <td>house</td>\n",
       "      <td>$611k</td>\n",
       "      <td>50 days</td>\n",
       "      <td>0.41</td>\n",
       "      <td>48</td>\n",
       "    </tr>\n",
       "    <tr>\n",
       "      <th>3</th>\n",
       "      <td>runcorn</td>\n",
       "      <td>5</td>\n",
       "      <td>house</td>\n",
       "      <td>-</td>\n",
       "      <td>-</td>\n",
       "      <td>-</td>\n",
       "      <td>8</td>\n",
       "    </tr>\n",
       "    <tr>\n",
       "      <th>4</th>\n",
       "      <td>runcorn</td>\n",
       "      <td>2</td>\n",
       "      <td>unit</td>\n",
       "      <td>-</td>\n",
       "      <td>-</td>\n",
       "      <td>-</td>\n",
       "      <td>3</td>\n",
       "    </tr>\n",
       "  </tbody>\n",
       "</table>\n",
       "</div>"
      ],
      "text/plain": [
       "    suburb  bedrooms   type median_sold_price Avg days on market  \\\n",
       "0  runcorn         2  house                 -                  -   \n",
       "1  runcorn         3  house             $455k            67 days   \n",
       "2  runcorn         4  house             $611k            50 days   \n",
       "3  runcorn         5  house                 -                  -   \n",
       "4  runcorn         2   unit                 -                  -   \n",
       "\n",
       "  Clearance rate  sold_properties  \n",
       "0              -                5  \n",
       "1            0.5               58  \n",
       "2           0.41               48  \n",
       "3              -                8  \n",
       "4              -                3  "
      ]
     },
     "execution_count": 16,
     "metadata": {},
     "output_type": "execute_result"
    }
   ],
   "source": [
    "domain_url=r\"data\\domain_market_trend.xlsx\"\n",
    "df_domain_data=pd.read_excel(domain_url,sheet_name='mkt_trend_all')\n",
    "df_domain_data.head(5)"
   ]
  },
  {
   "cell_type": "markdown",
   "metadata": {},
   "source": [
    "Let's drop rows where the \"Median price\", \"Avg days on market\", and \"Clearance rate\" are missing. <br>\n",
    "As most of them are from the property type (Unit) and bedrooms (less than 3 or greater than 5) that we are not interested."
   ]
  },
  {
   "cell_type": "code",
   "execution_count": 17,
   "metadata": {},
   "outputs": [
    {
     "data": {
      "text/html": [
       "<div>\n",
       "<style scoped>\n",
       "    .dataframe tbody tr th:only-of-type {\n",
       "        vertical-align: middle;\n",
       "    }\n",
       "\n",
       "    .dataframe tbody tr th {\n",
       "        vertical-align: top;\n",
       "    }\n",
       "\n",
       "    .dataframe thead th {\n",
       "        text-align: right;\n",
       "    }\n",
       "</style>\n",
       "<table border=\"1\" class=\"dataframe\">\n",
       "  <thead>\n",
       "    <tr style=\"text-align: right;\">\n",
       "      <th></th>\n",
       "      <th>suburb</th>\n",
       "      <th>bedrooms</th>\n",
       "      <th>type</th>\n",
       "      <th>median_sold_price</th>\n",
       "      <th>Avg days on market</th>\n",
       "      <th>Clearance rate</th>\n",
       "      <th>sold_properties</th>\n",
       "    </tr>\n",
       "  </thead>\n",
       "  <tbody>\n",
       "    <tr>\n",
       "      <th>0</th>\n",
       "      <td>runcorn</td>\n",
       "      <td>2</td>\n",
       "      <td>house</td>\n",
       "      <td>NaN</td>\n",
       "      <td>NaN</td>\n",
       "      <td>NaN</td>\n",
       "      <td>5</td>\n",
       "    </tr>\n",
       "    <tr>\n",
       "      <th>1</th>\n",
       "      <td>runcorn</td>\n",
       "      <td>3</td>\n",
       "      <td>house</td>\n",
       "      <td>$455k</td>\n",
       "      <td>67 days</td>\n",
       "      <td>0.50</td>\n",
       "      <td>58</td>\n",
       "    </tr>\n",
       "    <tr>\n",
       "      <th>2</th>\n",
       "      <td>runcorn</td>\n",
       "      <td>4</td>\n",
       "      <td>house</td>\n",
       "      <td>$611k</td>\n",
       "      <td>50 days</td>\n",
       "      <td>0.41</td>\n",
       "      <td>48</td>\n",
       "    </tr>\n",
       "    <tr>\n",
       "      <th>3</th>\n",
       "      <td>runcorn</td>\n",
       "      <td>5</td>\n",
       "      <td>house</td>\n",
       "      <td>NaN</td>\n",
       "      <td>NaN</td>\n",
       "      <td>NaN</td>\n",
       "      <td>8</td>\n",
       "    </tr>\n",
       "    <tr>\n",
       "      <th>4</th>\n",
       "      <td>runcorn</td>\n",
       "      <td>2</td>\n",
       "      <td>unit</td>\n",
       "      <td>NaN</td>\n",
       "      <td>NaN</td>\n",
       "      <td>NaN</td>\n",
       "      <td>3</td>\n",
       "    </tr>\n",
       "  </tbody>\n",
       "</table>\n",
       "</div>"
      ],
      "text/plain": [
       "    suburb  bedrooms   type median_sold_price Avg days on market  \\\n",
       "0  runcorn         2  house               NaN                NaN   \n",
       "1  runcorn         3  house             $455k            67 days   \n",
       "2  runcorn         4  house             $611k            50 days   \n",
       "3  runcorn         5  house               NaN                NaN   \n",
       "4  runcorn         2   unit               NaN                NaN   \n",
       "\n",
       "   Clearance rate  sold_properties  \n",
       "0             NaN                5  \n",
       "1            0.50               58  \n",
       "2            0.41               48  \n",
       "3             NaN                8  \n",
       "4             NaN                3  "
      ]
     },
     "execution_count": 17,
     "metadata": {},
     "output_type": "execute_result"
    }
   ],
   "source": [
    "#First, replace any cells containing \"-\" in these 3 columns with NaN value\n",
    "\n",
    "cols_with_dash=[\"median_sold_price\", \"Avg days on market\", \"Clearance rate\"]\n",
    "\n",
    "for x in cols_with_dash:\n",
    "    df_domain_data[x]=df_domain_data[x].replace(\"-\", np.nan)\n",
    "    \n",
    "df_domain_data.head()"
   ]
  },
  {
   "cell_type": "code",
   "execution_count": 18,
   "metadata": {},
   "outputs": [
    {
     "data": {
      "text/html": [
       "<div>\n",
       "<style scoped>\n",
       "    .dataframe tbody tr th:only-of-type {\n",
       "        vertical-align: middle;\n",
       "    }\n",
       "\n",
       "    .dataframe tbody tr th {\n",
       "        vertical-align: top;\n",
       "    }\n",
       "\n",
       "    .dataframe thead th {\n",
       "        text-align: right;\n",
       "    }\n",
       "</style>\n",
       "<table border=\"1\" class=\"dataframe\">\n",
       "  <thead>\n",
       "    <tr style=\"text-align: right;\">\n",
       "      <th></th>\n",
       "      <th>suburb</th>\n",
       "      <th>bedrooms</th>\n",
       "      <th>type</th>\n",
       "      <th>median_sold_price</th>\n",
       "      <th>Avg days on market</th>\n",
       "      <th>Clearance rate</th>\n",
       "      <th>sold_properties</th>\n",
       "    </tr>\n",
       "  </thead>\n",
       "  <tbody>\n",
       "    <tr>\n",
       "      <th>0</th>\n",
       "      <td>runcorn</td>\n",
       "      <td>3</td>\n",
       "      <td>house</td>\n",
       "      <td>$455k</td>\n",
       "      <td>67 days</td>\n",
       "      <td>0.50</td>\n",
       "      <td>58</td>\n",
       "    </tr>\n",
       "    <tr>\n",
       "      <th>1</th>\n",
       "      <td>runcorn</td>\n",
       "      <td>4</td>\n",
       "      <td>house</td>\n",
       "      <td>$611k</td>\n",
       "      <td>50 days</td>\n",
       "      <td>0.41</td>\n",
       "      <td>48</td>\n",
       "    </tr>\n",
       "    <tr>\n",
       "      <th>2</th>\n",
       "      <td>eight mile plains</td>\n",
       "      <td>4</td>\n",
       "      <td>house</td>\n",
       "      <td>$750k</td>\n",
       "      <td>54 days</td>\n",
       "      <td>0.43</td>\n",
       "      <td>31</td>\n",
       "    </tr>\n",
       "    <tr>\n",
       "      <th>3</th>\n",
       "      <td>eight mile plains</td>\n",
       "      <td>5</td>\n",
       "      <td>house</td>\n",
       "      <td>$852k</td>\n",
       "      <td>70 days</td>\n",
       "      <td>0.06</td>\n",
       "      <td>30</td>\n",
       "    </tr>\n",
       "    <tr>\n",
       "      <th>4</th>\n",
       "      <td>sunnybank</td>\n",
       "      <td>3</td>\n",
       "      <td>house</td>\n",
       "      <td>$655k</td>\n",
       "      <td>169 days</td>\n",
       "      <td>0.08</td>\n",
       "      <td>27</td>\n",
       "    </tr>\n",
       "  </tbody>\n",
       "</table>\n",
       "</div>"
      ],
      "text/plain": [
       "              suburb  bedrooms   type median_sold_price Avg days on market  \\\n",
       "0            runcorn         3  house             $455k            67 days   \n",
       "1            runcorn         4  house             $611k            50 days   \n",
       "2  eight mile plains         4  house             $750k            54 days   \n",
       "3  eight mile plains         5  house             $852k            70 days   \n",
       "4          sunnybank         3  house             $655k           169 days   \n",
       "\n",
       "   Clearance rate  sold_properties  \n",
       "0            0.50               58  \n",
       "1            0.41               48  \n",
       "2            0.43               31  \n",
       "3            0.06               30  \n",
       "4            0.08               27  "
      ]
     },
     "execution_count": 18,
     "metadata": {},
     "output_type": "execute_result"
    }
   ],
   "source": [
    "#Second, drop all rows where NaN values are found in the 3 columns\n",
    "df_domain_data.dropna(subset=[\"median_sold_price\", \"Avg days on market\",\"Clearance rate\"], how='any', inplace=True)\n",
    "df_domain_data=df_domain_data.reset_index(drop=True)\n",
    "df_domain_data.head()"
   ]
  },
  {
   "cell_type": "code",
   "execution_count": 19,
   "metadata": {},
   "outputs": [
    {
     "data": {
      "text/plain": [
       "suburb                 object\n",
       "bedrooms                int64\n",
       "type                   object\n",
       "median_sold_price      object\n",
       "Avg days on market     object\n",
       "Clearance rate        float64\n",
       "sold_properties         int64\n",
       "dtype: object"
      ]
     },
     "execution_count": 19,
     "metadata": {},
     "output_type": "execute_result"
    }
   ],
   "source": [
    "#check data types\n",
    "#We noticed that \"median_sold_price\", \"Avg days on market\" need to updated to numeric values.\n",
    "df_domain_data.dtypes"
   ]
  },
  {
   "cell_type": "code",
   "execution_count": 20,
   "metadata": {},
   "outputs": [
    {
     "name": "stdout",
     "output_type": "stream",
     "text": [
      "0123456789.\n"
     ]
    }
   ],
   "source": [
    "#remove the dollar $, texts such as days, so wecan convert these 2 cols into numeric values\n",
    "from string import digits\n",
    "digits+=\".\"\n",
    "print(digits)"
   ]
  },
  {
   "cell_type": "code",
   "execution_count": 21,
   "metadata": {},
   "outputs": [],
   "source": [
    "def remove_puncs(string_piece):\n",
    "    if string_piece:\n",
    "        string=str(string_piece).strip()\n",
    "        string =''.join([num for num in string if num in digits])\n",
    "        return string"
   ]
  },
  {
   "cell_type": "code",
   "execution_count": 22,
   "metadata": {},
   "outputs": [],
   "source": [
    "string_cols=[\"median_sold_price\", \"Avg days on market\"]\n",
    "numeric_cols = defaultdict(pd.Series)\n",
    "\n",
    "for col in string_cols:\n",
    "    numeric_cols[col]=df_domain_data[col].apply(lambda x: pd.to_numeric(remove_puncs(x), 'coerce')).astype(np.float64)"
   ]
  },
  {
   "cell_type": "code",
   "execution_count": 23,
   "metadata": {},
   "outputs": [
    {
     "data": {
      "text/plain": [
       "dict_keys(['median_sold_price', 'Avg days on market'])"
      ]
     },
     "execution_count": 23,
     "metadata": {},
     "output_type": "execute_result"
    }
   ],
   "source": [
    "numeric_cols.keys()    "
   ]
  },
  {
   "cell_type": "code",
   "execution_count": 24,
   "metadata": {},
   "outputs": [
    {
     "data": {
      "text/html": [
       "<div>\n",
       "<style scoped>\n",
       "    .dataframe tbody tr th:only-of-type {\n",
       "        vertical-align: middle;\n",
       "    }\n",
       "\n",
       "    .dataframe tbody tr th {\n",
       "        vertical-align: top;\n",
       "    }\n",
       "\n",
       "    .dataframe thead th {\n",
       "        text-align: right;\n",
       "    }\n",
       "</style>\n",
       "<table border=\"1\" class=\"dataframe\">\n",
       "  <thead>\n",
       "    <tr style=\"text-align: right;\">\n",
       "      <th></th>\n",
       "      <th>suburb</th>\n",
       "      <th>bedrooms</th>\n",
       "      <th>type</th>\n",
       "      <th>Clearance rate</th>\n",
       "      <th>sold_properties</th>\n",
       "    </tr>\n",
       "  </thead>\n",
       "  <tbody>\n",
       "    <tr>\n",
       "      <th>0</th>\n",
       "      <td>runcorn</td>\n",
       "      <td>3</td>\n",
       "      <td>house</td>\n",
       "      <td>0.50</td>\n",
       "      <td>58</td>\n",
       "    </tr>\n",
       "    <tr>\n",
       "      <th>1</th>\n",
       "      <td>runcorn</td>\n",
       "      <td>4</td>\n",
       "      <td>house</td>\n",
       "      <td>0.41</td>\n",
       "      <td>48</td>\n",
       "    </tr>\n",
       "    <tr>\n",
       "      <th>2</th>\n",
       "      <td>eight mile plains</td>\n",
       "      <td>4</td>\n",
       "      <td>house</td>\n",
       "      <td>0.43</td>\n",
       "      <td>31</td>\n",
       "    </tr>\n",
       "    <tr>\n",
       "      <th>3</th>\n",
       "      <td>eight mile plains</td>\n",
       "      <td>5</td>\n",
       "      <td>house</td>\n",
       "      <td>0.06</td>\n",
       "      <td>30</td>\n",
       "    </tr>\n",
       "    <tr>\n",
       "      <th>4</th>\n",
       "      <td>sunnybank</td>\n",
       "      <td>3</td>\n",
       "      <td>house</td>\n",
       "      <td>0.08</td>\n",
       "      <td>27</td>\n",
       "    </tr>\n",
       "  </tbody>\n",
       "</table>\n",
       "</div>"
      ],
      "text/plain": [
       "              suburb  bedrooms   type  Clearance rate  sold_properties\n",
       "0            runcorn         3  house            0.50               58\n",
       "1            runcorn         4  house            0.41               48\n",
       "2  eight mile plains         4  house            0.43               31\n",
       "3  eight mile plains         5  house            0.06               30\n",
       "4          sunnybank         3  house            0.08               27"
      ]
     },
     "execution_count": 24,
     "metadata": {},
     "output_type": "execute_result"
    }
   ],
   "source": [
    "df_domain_data=df_domain_data.drop(list(numeric_cols.keys()), axis=1)\n",
    "df_domain_data.head()"
   ]
  },
  {
   "cell_type": "code",
   "execution_count": 25,
   "metadata": {},
   "outputs": [],
   "source": [
    "df_domain_data=df_domain_data.assign(**numeric_cols)\n",
    "df_domain_data['median_sold_price']=df_domain_data['median_sold_price']*1000 \n",
    "df_domain_data.iloc[6,5]=df_domain_data.iloc[6,5]*1000 #this is a house type with 1.2M as meidan price"
   ]
  },
  {
   "cell_type": "code",
   "execution_count": 26,
   "metadata": {
    "scrolled": true
   },
   "outputs": [
    {
     "data": {
      "text/html": [
       "<div>\n",
       "<style scoped>\n",
       "    .dataframe tbody tr th:only-of-type {\n",
       "        vertical-align: middle;\n",
       "    }\n",
       "\n",
       "    .dataframe tbody tr th {\n",
       "        vertical-align: top;\n",
       "    }\n",
       "\n",
       "    .dataframe thead th {\n",
       "        text-align: right;\n",
       "    }\n",
       "</style>\n",
       "<table border=\"1\" class=\"dataframe\">\n",
       "  <thead>\n",
       "    <tr style=\"text-align: right;\">\n",
       "      <th></th>\n",
       "      <th>suburb</th>\n",
       "      <th>bedrooms</th>\n",
       "      <th>type</th>\n",
       "      <th>Clearance rate</th>\n",
       "      <th>sold_properties</th>\n",
       "      <th>median_sold_price</th>\n",
       "      <th>Avg days on market</th>\n",
       "    </tr>\n",
       "  </thead>\n",
       "  <tbody>\n",
       "    <tr>\n",
       "      <th>0</th>\n",
       "      <td>runcorn</td>\n",
       "      <td>3</td>\n",
       "      <td>house</td>\n",
       "      <td>0.50</td>\n",
       "      <td>58</td>\n",
       "      <td>455000.0</td>\n",
       "      <td>67.0</td>\n",
       "    </tr>\n",
       "    <tr>\n",
       "      <th>1</th>\n",
       "      <td>runcorn</td>\n",
       "      <td>4</td>\n",
       "      <td>house</td>\n",
       "      <td>0.41</td>\n",
       "      <td>48</td>\n",
       "      <td>611000.0</td>\n",
       "      <td>50.0</td>\n",
       "    </tr>\n",
       "    <tr>\n",
       "      <th>2</th>\n",
       "      <td>eight mile plains</td>\n",
       "      <td>4</td>\n",
       "      <td>house</td>\n",
       "      <td>0.43</td>\n",
       "      <td>31</td>\n",
       "      <td>750000.0</td>\n",
       "      <td>54.0</td>\n",
       "    </tr>\n",
       "    <tr>\n",
       "      <th>3</th>\n",
       "      <td>eight mile plains</td>\n",
       "      <td>5</td>\n",
       "      <td>house</td>\n",
       "      <td>0.06</td>\n",
       "      <td>30</td>\n",
       "      <td>852000.0</td>\n",
       "      <td>70.0</td>\n",
       "    </tr>\n",
       "    <tr>\n",
       "      <th>4</th>\n",
       "      <td>sunnybank</td>\n",
       "      <td>3</td>\n",
       "      <td>house</td>\n",
       "      <td>0.08</td>\n",
       "      <td>27</td>\n",
       "      <td>655000.0</td>\n",
       "      <td>169.0</td>\n",
       "    </tr>\n",
       "    <tr>\n",
       "      <th>5</th>\n",
       "      <td>sunnybank</td>\n",
       "      <td>4</td>\n",
       "      <td>house</td>\n",
       "      <td>0.41</td>\n",
       "      <td>28</td>\n",
       "      <td>725000.0</td>\n",
       "      <td>96.0</td>\n",
       "    </tr>\n",
       "    <tr>\n",
       "      <th>6</th>\n",
       "      <td>sunnybank</td>\n",
       "      <td>5</td>\n",
       "      <td>house</td>\n",
       "      <td>0.20</td>\n",
       "      <td>14</td>\n",
       "      <td>1020000.0</td>\n",
       "      <td>151.0</td>\n",
       "    </tr>\n",
       "  </tbody>\n",
       "</table>\n",
       "</div>"
      ],
      "text/plain": [
       "              suburb  bedrooms   type  Clearance rate  sold_properties  \\\n",
       "0            runcorn         3  house            0.50               58   \n",
       "1            runcorn         4  house            0.41               48   \n",
       "2  eight mile plains         4  house            0.43               31   \n",
       "3  eight mile plains         5  house            0.06               30   \n",
       "4          sunnybank         3  house            0.08               27   \n",
       "5          sunnybank         4  house            0.41               28   \n",
       "6          sunnybank         5  house            0.20               14   \n",
       "\n",
       "   median_sold_price  Avg days on market  \n",
       "0           455000.0                67.0  \n",
       "1           611000.0                50.0  \n",
       "2           750000.0                54.0  \n",
       "3           852000.0                70.0  \n",
       "4           655000.0               169.0  \n",
       "5           725000.0                96.0  \n",
       "6          1020000.0               151.0  "
      ]
     },
     "execution_count": 26,
     "metadata": {},
     "output_type": "execute_result"
    }
   ],
   "source": [
    "df_domain_data.head(7)"
   ]
  },
  {
   "cell_type": "markdown",
   "metadata": {},
   "source": [
    "# <font color='#0366d6'> Which sites should we rely on? REA vs DOMAIN </font>"
   ]
  },
  {
   "cell_type": "markdown",
   "metadata": {},
   "source": [
    "Through a quick check on the median house prices collected from REA and Domain, we noticed there's a big difference between the median sold price for Runcorn (3 bedroom house) from these 2 sites.<br>\n",
    "-  REA | Runcorn | House | 3 Bedrooms | Median House Price - 550K <br> \n",
    "-  Domain | Runcorn | House |3 Bedrooms | Median House Price - 455K <br> \t\n",
    "\n",
    "So let's compare the median sold price differences between REA and Domain for houses (w/ 3-4 bedrooms), which is what our clients are most intersted in.\n",
    "Then decide which site we should rely on in the future to check more detailed property info.<br>"
   ]
  },
  {
   "cell_type": "markdown",
   "metadata": {},
   "source": [
    "### Compare Median Price of House with 3 and 4 bedrooms  "
   ]
  },
  {
   "cell_type": "code",
   "execution_count": 27,
   "metadata": {},
   "outputs": [],
   "source": [
    "# REA data"
   ]
  },
  {
   "cell_type": "code",
   "execution_count": 28,
   "metadata": {},
   "outputs": [
    {
     "data": {
      "text/html": [
       "<div>\n",
       "<style scoped>\n",
       "    .dataframe tbody tr th:only-of-type {\n",
       "        vertical-align: middle;\n",
       "    }\n",
       "\n",
       "    .dataframe tbody tr th {\n",
       "        vertical-align: top;\n",
       "    }\n",
       "\n",
       "    .dataframe thead th {\n",
       "        text-align: right;\n",
       "    }\n",
       "</style>\n",
       "<table border=\"1\" class=\"dataframe\">\n",
       "  <thead>\n",
       "    <tr style=\"text-align: right;\">\n",
       "      <th></th>\n",
       "      <th>suburb</th>\n",
       "      <th>bedrooms</th>\n",
       "      <th>median_sold_price</th>\n",
       "      <th>median_sold_price_five_years_ago</th>\n",
       "      <th>median_rental_price</th>\n",
       "      <th>rental_yield</th>\n",
       "      <th>annual_growth</th>\n",
       "      <th>rental_demand</th>\n",
       "      <th>rental_properties</th>\n",
       "      <th>sold_properties</th>\n",
       "      <th>sold_properties_five_years_ago</th>\n",
       "      <th>type</th>\n",
       "    </tr>\n",
       "  </thead>\n",
       "  <tbody>\n",
       "    <tr>\n",
       "      <th>0</th>\n",
       "      <td>runcorn</td>\n",
       "      <td>ALL</td>\n",
       "      <td>569000.0</td>\n",
       "      <td>523500.0</td>\n",
       "      <td>420.0</td>\n",
       "      <td>0.038383</td>\n",
       "      <td>0.017</td>\n",
       "      <td>742.58</td>\n",
       "      <td>220</td>\n",
       "      <td>78</td>\n",
       "      <td>174</td>\n",
       "      <td>house</td>\n",
       "    </tr>\n",
       "    <tr>\n",
       "      <th>1</th>\n",
       "      <td>runcorn</td>\n",
       "      <td>3</td>\n",
       "      <td>552000.0</td>\n",
       "      <td>485000.0</td>\n",
       "      <td>390.0</td>\n",
       "      <td>0.036739</td>\n",
       "      <td>0.026</td>\n",
       "      <td>821.38</td>\n",
       "      <td>105</td>\n",
       "      <td>31</td>\n",
       "      <td>86</td>\n",
       "      <td>house</td>\n",
       "    </tr>\n",
       "    <tr>\n",
       "      <th>2</th>\n",
       "      <td>runcorn</td>\n",
       "      <td>4</td>\n",
       "      <td>615000.0</td>\n",
       "      <td>550000.0</td>\n",
       "      <td>467.5</td>\n",
       "      <td>0.039529</td>\n",
       "      <td>0.023</td>\n",
       "      <td>828.09</td>\n",
       "      <td>90</td>\n",
       "      <td>33</td>\n",
       "      <td>58</td>\n",
       "      <td>house</td>\n",
       "    </tr>\n",
       "    <tr>\n",
       "      <th>3</th>\n",
       "      <td>runcorn</td>\n",
       "      <td>5+</td>\n",
       "      <td>766500.0</td>\n",
       "      <td>640000.0</td>\n",
       "      <td>530.0</td>\n",
       "      <td>0.035956</td>\n",
       "      <td>0.037</td>\n",
       "      <td>2015.98</td>\n",
       "      <td>18</td>\n",
       "      <td>6</td>\n",
       "      <td>14</td>\n",
       "      <td>house</td>\n",
       "    </tr>\n",
       "    <tr>\n",
       "      <th>4</th>\n",
       "      <td>sunnybank</td>\n",
       "      <td>ALL</td>\n",
       "      <td>755000.0</td>\n",
       "      <td>690000.0</td>\n",
       "      <td>430.0</td>\n",
       "      <td>0.029616</td>\n",
       "      <td>0.018</td>\n",
       "      <td>597.14</td>\n",
       "      <td>260</td>\n",
       "      <td>59</td>\n",
       "      <td>147</td>\n",
       "      <td>house</td>\n",
       "    </tr>\n",
       "  </tbody>\n",
       "</table>\n",
       "</div>"
      ],
      "text/plain": [
       "      suburb bedrooms  median_sold_price  median_sold_price_five_years_ago  \\\n",
       "0    runcorn      ALL           569000.0                          523500.0   \n",
       "1    runcorn        3           552000.0                          485000.0   \n",
       "2    runcorn        4           615000.0                          550000.0   \n",
       "3    runcorn       5+           766500.0                          640000.0   \n",
       "4  sunnybank      ALL           755000.0                          690000.0   \n",
       "\n",
       "   median_rental_price  rental_yield  annual_growth  rental_demand  \\\n",
       "0                420.0      0.038383          0.017         742.58   \n",
       "1                390.0      0.036739          0.026         821.38   \n",
       "2                467.5      0.039529          0.023         828.09   \n",
       "3                530.0      0.035956          0.037        2015.98   \n",
       "4                430.0      0.029616          0.018         597.14   \n",
       "\n",
       "   rental_properties  sold_properties  sold_properties_five_years_ago   type  \n",
       "0                220               78                             174  house  \n",
       "1                105               31                              86  house  \n",
       "2                 90               33                              58  house  \n",
       "3                 18                6                              14  house  \n",
       "4                260               59                             147  house  "
      ]
     },
     "execution_count": 28,
     "metadata": {},
     "output_type": "execute_result"
    }
   ],
   "source": [
    "#First, read in the REA data again\n",
    "df_rea_data.head()"
   ]
  },
  {
   "cell_type": "code",
   "execution_count": 29,
   "metadata": {},
   "outputs": [
    {
     "data": {
      "text/plain": [
       "type   bedrooms  suburb             \n",
       "house  3         algester                491000.0\n",
       "                 calamvale               554750.0\n",
       "                 coopers plains          550000.0\n",
       "                 eight mile plains       607550.0\n",
       "                 kuraby                  427750.0\n",
       "                 runcorn                 552000.0\n",
       "                 sunnybank               655000.0\n",
       "                 sunnybank hills         554000.0\n",
       "                 upper mount gravatt     630000.0\n",
       "                 wishart                 637500.0\n",
       "       4         algester                560500.0\n",
       "                 calamvale               650000.0\n",
       "                 coopers plains          668000.0\n",
       "                 eight mile plains       754000.0\n",
       "                 kuraby                  681000.0\n",
       "                 runcorn                 615000.0\n",
       "                 sunnybank               765000.0\n",
       "                 sunnybank hills         658000.0\n",
       "                 upper mount gravatt     695000.0\n",
       "                 wishart                 810000.0\n",
       "       5+        algester                555000.0\n",
       "                 calamvale               782900.0\n",
       "                 coopers plains          723000.0\n",
       "                 eight mile plains       870600.0\n",
       "                 kuraby                  866000.0\n",
       "                 runcorn                 766500.0\n",
       "                 sunnybank              1100000.0\n",
       "                 sunnybank hills         950000.0\n",
       "                 upper mount gravatt     795000.0\n",
       "                 wishart                 985000.0\n",
       "       ALL       algester                525000.0\n",
       "                 calamvale               666500.0\n",
       "                 coopers plains          592500.0\n",
       "                 eight mile plains       800250.0\n",
       "                 kuraby                  685000.0\n",
       "                 runcorn                 569000.0\n",
       "                 sunnybank               755000.0\n",
       "                 sunnybank hills         640000.0\n",
       "                 upper mount gravatt     652500.0\n",
       "                 wishart                 750000.0\n",
       "Name: median_sold_price, dtype: float64"
      ]
     },
     "execution_count": 29,
     "metadata": {},
     "output_type": "execute_result"
    }
   ],
   "source": [
    "#group the rea data by 3 cols to view the house median_sold_price from each suburb\n",
    "groups_rea=df_rea_data.groupby(['type','bedrooms','suburb'])['median_sold_price'].mean()\n",
    "groups_rea"
   ]
  },
  {
   "cell_type": "markdown",
   "metadata": {},
   "source": [
    "Because our clients are most interested in houses with 3 or 4 bedrooms, let's extract the data from the grouped view."
   ]
  },
  {
   "cell_type": "code",
   "execution_count": 30,
   "metadata": {},
   "outputs": [
    {
     "data": {
      "text/plain": [
       "type   bedrooms  suburb             \n",
       "house  3         algester               491000.0\n",
       "                 calamvale              554750.0\n",
       "                 coopers plains         550000.0\n",
       "                 eight mile plains      607550.0\n",
       "                 kuraby                 427750.0\n",
       "                 runcorn                552000.0\n",
       "                 sunnybank              655000.0\n",
       "                 sunnybank hills        554000.0\n",
       "                 upper mount gravatt    630000.0\n",
       "                 wishart                637500.0\n",
       "       4         algester               560500.0\n",
       "                 calamvale              650000.0\n",
       "                 coopers plains         668000.0\n",
       "                 eight mile plains      754000.0\n",
       "                 kuraby                 681000.0\n",
       "                 runcorn                615000.0\n",
       "                 sunnybank              765000.0\n",
       "                 sunnybank hills        658000.0\n",
       "                 upper mount gravatt    695000.0\n",
       "                 wishart                810000.0\n",
       "Name: median_sold_price, dtype: float64"
      ]
     },
     "execution_count": 30,
     "metadata": {},
     "output_type": "execute_result"
    }
   ],
   "source": [
    "# REA House Median Price - 3 or 4 bedroms\n",
    "\n",
    "rea_bdrs=groups_rea.loc[('house',('3','4'))] #select property type=house,bedrooms =3 or 4\n",
    "rea_bdrs=rea_bdrs.sort_index(level=(0,1,2)) #sort the multi-index series by ascending order for calculation later\n",
    "rea_bdrs"
   ]
  },
  {
   "cell_type": "code",
   "execution_count": 31,
   "metadata": {},
   "outputs": [],
   "source": [
    "#Domain data"
   ]
  },
  {
   "cell_type": "code",
   "execution_count": 32,
   "metadata": {},
   "outputs": [
    {
     "data": {
      "text/html": [
       "<div>\n",
       "<style scoped>\n",
       "    .dataframe tbody tr th:only-of-type {\n",
       "        vertical-align: middle;\n",
       "    }\n",
       "\n",
       "    .dataframe tbody tr th {\n",
       "        vertical-align: top;\n",
       "    }\n",
       "\n",
       "    .dataframe thead th {\n",
       "        text-align: right;\n",
       "    }\n",
       "</style>\n",
       "<table border=\"1\" class=\"dataframe\">\n",
       "  <thead>\n",
       "    <tr style=\"text-align: right;\">\n",
       "      <th></th>\n",
       "      <th>suburb</th>\n",
       "      <th>bedrooms</th>\n",
       "      <th>type</th>\n",
       "      <th>Clearance rate</th>\n",
       "      <th>sold_properties</th>\n",
       "      <th>median_sold_price</th>\n",
       "      <th>Avg days on market</th>\n",
       "    </tr>\n",
       "  </thead>\n",
       "  <tbody>\n",
       "    <tr>\n",
       "      <th>0</th>\n",
       "      <td>runcorn</td>\n",
       "      <td>3</td>\n",
       "      <td>house</td>\n",
       "      <td>0.50</td>\n",
       "      <td>58</td>\n",
       "      <td>455000.0</td>\n",
       "      <td>67.0</td>\n",
       "    </tr>\n",
       "    <tr>\n",
       "      <th>1</th>\n",
       "      <td>runcorn</td>\n",
       "      <td>4</td>\n",
       "      <td>house</td>\n",
       "      <td>0.41</td>\n",
       "      <td>48</td>\n",
       "      <td>611000.0</td>\n",
       "      <td>50.0</td>\n",
       "    </tr>\n",
       "    <tr>\n",
       "      <th>2</th>\n",
       "      <td>eight mile plains</td>\n",
       "      <td>4</td>\n",
       "      <td>house</td>\n",
       "      <td>0.43</td>\n",
       "      <td>31</td>\n",
       "      <td>750000.0</td>\n",
       "      <td>54.0</td>\n",
       "    </tr>\n",
       "    <tr>\n",
       "      <th>3</th>\n",
       "      <td>eight mile plains</td>\n",
       "      <td>5</td>\n",
       "      <td>house</td>\n",
       "      <td>0.06</td>\n",
       "      <td>30</td>\n",
       "      <td>852000.0</td>\n",
       "      <td>70.0</td>\n",
       "    </tr>\n",
       "    <tr>\n",
       "      <th>4</th>\n",
       "      <td>sunnybank</td>\n",
       "      <td>3</td>\n",
       "      <td>house</td>\n",
       "      <td>0.08</td>\n",
       "      <td>27</td>\n",
       "      <td>655000.0</td>\n",
       "      <td>169.0</td>\n",
       "    </tr>\n",
       "  </tbody>\n",
       "</table>\n",
       "</div>"
      ],
      "text/plain": [
       "              suburb  bedrooms   type  Clearance rate  sold_properties  \\\n",
       "0            runcorn         3  house            0.50               58   \n",
       "1            runcorn         4  house            0.41               48   \n",
       "2  eight mile plains         4  house            0.43               31   \n",
       "3  eight mile plains         5  house            0.06               30   \n",
       "4          sunnybank         3  house            0.08               27   \n",
       "\n",
       "   median_sold_price  Avg days on market  \n",
       "0           455000.0                67.0  \n",
       "1           611000.0                50.0  \n",
       "2           750000.0                54.0  \n",
       "3           852000.0                70.0  \n",
       "4           655000.0               169.0  "
      ]
     },
     "execution_count": 32,
     "metadata": {},
     "output_type": "execute_result"
    }
   ],
   "source": [
    "#Read in domain data again\n",
    "df_domain_data.head()"
   ]
  },
  {
   "cell_type": "code",
   "execution_count": 33,
   "metadata": {
    "scrolled": true
   },
   "outputs": [
    {
     "data": {
      "text/plain": [
       "type   bedrooms  suburb             \n",
       "house  3         algester                477000.0\n",
       "                 runcorn                 455000.0\n",
       "                 sunnybank               655000.0\n",
       "                 sunnybank hills         550000.0\n",
       "                 upper mount gravatt     600000.0\n",
       "                 wishart                 652000.0\n",
       "       4         calamvale               641000.0\n",
       "                 eight mile plains       750000.0\n",
       "                 kuraby                  653000.0\n",
       "                 runcorn                 611000.0\n",
       "                 sunnybank               725000.0\n",
       "                 sunnybank hills         660000.0\n",
       "                 upper mount gravatt     709000.0\n",
       "                 wishart                 789000.0\n",
       "       5         calamvale               775000.0\n",
       "                 eight mile plains       852000.0\n",
       "                 sunnybank              1020000.0\n",
       "                 sunnybank hills         873000.0\n",
       "                 wishart                 958000.0\n",
       "Name: median_sold_price, dtype: float64"
      ]
     },
     "execution_count": 33,
     "metadata": {},
     "output_type": "execute_result"
    }
   ],
   "source": [
    "#group the rea data by 3 cols to view the house median_sold_price from each suburb\n",
    "groups_domain=df_domain_data.groupby(['type','bedrooms','suburb'])['median_sold_price'].mean()\n",
    "groups_domain"
   ]
  },
  {
   "cell_type": "markdown",
   "metadata": {},
   "source": [
    "Because our clients are most interested in houses with 3 or 4 bedrooms, let's extract the data from Domain as well"
   ]
  },
  {
   "cell_type": "code",
   "execution_count": 34,
   "metadata": {},
   "outputs": [
    {
     "data": {
      "text/plain": [
       "type   bedrooms  suburb             \n",
       "house  3         algester               477000.0\n",
       "                 runcorn                455000.0\n",
       "                 sunnybank              655000.0\n",
       "                 sunnybank hills        550000.0\n",
       "                 upper mount gravatt    600000.0\n",
       "                 wishart                652000.0\n",
       "       4         calamvale              641000.0\n",
       "                 eight mile plains      750000.0\n",
       "                 kuraby                 653000.0\n",
       "                 runcorn                611000.0\n",
       "                 sunnybank              725000.0\n",
       "                 sunnybank hills        660000.0\n",
       "                 upper mount gravatt    709000.0\n",
       "                 wishart                789000.0\n",
       "Name: median_sold_price, dtype: float64"
      ]
     },
     "execution_count": 34,
     "metadata": {},
     "output_type": "execute_result"
    }
   ],
   "source": [
    "# Domain House Median Price - 3 or 4 bedroms\n",
    "\n",
    "domain_bdrs=groups_domain.loc[('house',(3,4))]  #select property type=house,bedrooms =3 or 4\n",
    "domain_bdrs=domain_bdrs.sort_index(level=(0,1,2))  #select property type=house,bedrooms =3 or 4\n",
    "domain_bdrs"
   ]
  },
  {
   "cell_type": "markdown",
   "metadata": {},
   "source": [
    "<font color='blue'>Summary - house median price - 3 bedrooms (see horizontal bar chart below)<br>\n",
    "- In general, REA price is much higher than Domain price\n",
    "- Also, Domain don't have median price data for 4 suburbs (calamvale, coopers plains and eight mile plans, kuraby)</font>"
   ]
  },
  {
   "cell_type": "code",
   "execution_count": 35,
   "metadata": {},
   "outputs": [
    {
     "data": {
      "text/plain": [
       "<AxesSubplot:ylabel='suburb'>"
      ]
     },
     "execution_count": 35,
     "metadata": {},
     "output_type": "execute_result"
    }
   ],
   "source": [
    "#REA House Median Price \n",
    "rea_bdr3=rea_bdrs.loc[('house','3')]\n",
    "\n",
    "#Domain House Median Price - 3 bedroms\n",
    "domain_bdr3=domain_bdrs.loc[('house',3)]\n",
    "\n",
    "#compare the House Median Price between 3 bedroms (REA vs Domain)\n",
    "median_price_diff3=rea_bdr3-domain_bdr3\n",
    "median_price_diff3.plot(kind='barh')"
   ]
  },
  {
   "cell_type": "markdown",
   "metadata": {},
   "source": [
    "<font color='blue'>Summary - house median price - 4 bedrooms (see horizontal bar chart below) <br>\n",
    "- In general, REA price is again much higher than Domain price\n",
    "- Also, domain doesn't have median price data for 2 suburb (algester, coopers plains)</font>"
   ]
  },
  {
   "cell_type": "code",
   "execution_count": 36,
   "metadata": {},
   "outputs": [
    {
     "data": {
      "text/plain": [
       "<AxesSubplot:ylabel='suburb'>"
      ]
     },
     "execution_count": 36,
     "metadata": {},
     "output_type": "execute_result"
    },
    {
     "data": {
      "image/png": "[encoded data removed]",
      "text/plain": [
       "<Figure size 432x288 with 1 Axes>"
      ]
     },
     "metadata": {
      "needs_background": "light"
     },
     "output_type": "display_data"
    }
   ],
   "source": [
    "#REA House Median Price - 4 bedroms\n",
    "rea_bdr4=rea_bdrs.loc[('house','4')]\n",
    "\n",
    "#Domain House Median Price - 4 bedroms\n",
    "domain_bdr4=domain_bdrs.loc[('house', 4)]\n",
    "\n",
    "#compare the House Median Price between 4 bedrooms (REA vs Domain)\n",
    "median_price_diff4=rea_bdr4-domain_bdr4\n",
    "median_price_diff4.plot(kind='barh')"
   ]
  },
  {
   "cell_type": "markdown",
   "metadata": {},
   "source": [
    "### Compare Website Traffic and Overall Rating\n",
    "<font color='blue'>We will quickly compare these 2 sites on the following metrics to help us make an informed decision:</font>\n",
    "\n",
    "-- 1 Website Traffic & Other KPIs (Unique Visitors, Visits, Time Spent per Visit, Bounce Rate) -SEMRUSH www.semrush.com<br>\n",
    "-- 2 Overall site rating - Canstar https://www.canstarblue.com.au/stores-services/real-estate-vs-domain/\n",
    "\n",
    "Other info: https://community.cubbi.com.au/blog/realestate-com-au-versus-domain-which-site-is-best-to-advertise-my-property"
   ]
  },
  {
   "cell_type": "markdown",
   "metadata": {},
   "source": [
    "**1) <font color='blue'>Traffic Comparison<font>**"
   ]
  },
  {
   "cell_type": "code",
   "execution_count": 37,
   "metadata": {},
   "outputs": [
    {
     "data": {
      "text/html": [
       "<div>\n",
       "<style scoped>\n",
       "    .dataframe tbody tr th:only-of-type {\n",
       "        vertical-align: middle;\n",
       "    }\n",
       "\n",
       "    .dataframe tbody tr th {\n",
       "        vertical-align: top;\n",
       "    }\n",
       "\n",
       "    .dataframe thead th {\n",
       "        text-align: right;\n",
       "    }\n",
       "</style>\n",
       "<table border=\"1\" class=\"dataframe\">\n",
       "  <thead>\n",
       "    <tr style=\"text-align: right;\">\n",
       "      <th></th>\n",
       "      <th>Domain</th>\n",
       "      <th>Visits (M)</th>\n",
       "      <th>Unique Visitors (M)</th>\n",
       "      <th>Pages / Visit</th>\n",
       "      <th>Avg. Visit Duration (Mins)</th>\n",
       "      <th>Bounce Rate</th>\n",
       "    </tr>\n",
       "  </thead>\n",
       "  <tbody>\n",
       "    <tr>\n",
       "      <th>0</th>\n",
       "      <td>realestate.com.au</td>\n",
       "      <td>50.5</td>\n",
       "      <td>12.3</td>\n",
       "      <td>4.26</td>\n",
       "      <td>10.30</td>\n",
       "      <td>0.3754</td>\n",
       "    </tr>\n",
       "    <tr>\n",
       "      <th>1</th>\n",
       "      <td>domain.com.au</td>\n",
       "      <td>16.3</td>\n",
       "      <td>5.8</td>\n",
       "      <td>3.73</td>\n",
       "      <td>12.27</td>\n",
       "      <td>0.5398</td>\n",
       "    </tr>\n",
       "  </tbody>\n",
       "</table>\n",
       "</div>"
      ],
      "text/plain": [
       "              Domain  Visits (M)  Unique Visitors (M)  Pages / Visit  \\\n",
       "0  realestate.com.au        50.5                 12.3           4.26   \n",
       "1      domain.com.au        16.3                  5.8           3.73   \n",
       "\n",
       "   Avg. Visit Duration (Mins)  Bounce Rate  \n",
       "0                       10.30       0.3754  \n",
       "1                       12.27       0.5398  "
      ]
     },
     "execution_count": 37,
     "metadata": {},
     "output_type": "execute_result"
    }
   ],
   "source": [
    "#1. Website Traffic & Other KPI\n",
    "\n",
    "web_url=r'data\\Traffic_Rating.xlsx'\n",
    "\n",
    "df_web=pd.read_excel(web_url, sheet_name='SEMRUSH_traffic')\n",
    "df_web"
   ]
  },
  {
   "cell_type": "code",
   "execution_count": 38,
   "metadata": {
    "scrolled": true
   },
   "outputs": [
    {
     "data": {
      "text/plain": [
       "<AxesSubplot:>"
      ]
     },
     "execution_count": 38,
     "metadata": {},
     "output_type": "execute_result"
    },
    {
     "data": {
      "image/png": "[encoded data removed]",
      "text/plain": [
       "<Figure size 432x288 with 1 Axes>"
      ]
     },
     "metadata": {
      "needs_background": "light"
     },
     "output_type": "display_data"
    }
   ],
   "source": [
    "df_web.plot(kind='bar')"
   ]
  },
  {
   "cell_type": "markdown",
   "metadata": {},
   "source": [
    "**<font color='blue'>Summary<font>**\n",
    "    \n",
    "- By comparing the web traffic KPIs, we can see **REA (realestate.com.au) has 8X more traffic** than Domain by **Visits**.\n",
    "- **REA** also has **2X more traffic** than Domain by **Unique Visitors**.\n",
    "- Though Domain has slightly higher Avg. Visit Duration length (12 mins) than REA (10 mins), **REA** showed **much lower bounce rate (38%) than Domain (54%)**. This indicates visitors are more likely to stay around and view more than 1 pages on REA.\n",
    "    \n",
    "<font color='blue'>In summary - REA has much stronger traffic and also better user engagement than Domain.</font>"
   ]
  },
  {
   "cell_type": "markdown",
   "metadata": {},
   "source": [
    "**2) <font color='blue'>Site Overall Ratings<font>**"
   ]
  },
  {
   "cell_type": "code",
   "execution_count": 39,
   "metadata": {},
   "outputs": [
    {
     "data": {
      "text/html": [
       "<div>\n",
       "<style scoped>\n",
       "    .dataframe tbody tr th:only-of-type {\n",
       "        vertical-align: middle;\n",
       "    }\n",
       "\n",
       "    .dataframe tbody tr th {\n",
       "        vertical-align: top;\n",
       "    }\n",
       "\n",
       "    .dataframe thead th {\n",
       "        text-align: right;\n",
       "    }\n",
       "</style>\n",
       "<table border=\"1\" class=\"dataframe\">\n",
       "  <thead>\n",
       "    <tr style=\"text-align: right;\">\n",
       "      <th></th>\n",
       "      <th>Rated brands</th>\n",
       "      <th>Overall satisfaction</th>\n",
       "      <th>Range of properties</th>\n",
       "      <th>Ease of site navigation</th>\n",
       "      <th>Quality of information available</th>\n",
       "      <th>Image accuracy</th>\n",
       "      <th>Tools and calculators</th>\n",
       "      <th>Total Score</th>\n",
       "    </tr>\n",
       "  </thead>\n",
       "  <tbody>\n",
       "    <tr>\n",
       "      <th>0</th>\n",
       "      <td>realestate.com.au</td>\n",
       "      <td>5</td>\n",
       "      <td>5</td>\n",
       "      <td>5</td>\n",
       "      <td>5</td>\n",
       "      <td>4</td>\n",
       "      <td>5</td>\n",
       "      <td>29</td>\n",
       "    </tr>\n",
       "    <tr>\n",
       "      <th>1</th>\n",
       "      <td>domain.com.au</td>\n",
       "      <td>4</td>\n",
       "      <td>4</td>\n",
       "      <td>4</td>\n",
       "      <td>4</td>\n",
       "      <td>4</td>\n",
       "      <td>4</td>\n",
       "      <td>24</td>\n",
       "    </tr>\n",
       "  </tbody>\n",
       "</table>\n",
       "</div>"
      ],
      "text/plain": [
       "        Rated brands  Overall satisfaction  Range of properties  \\\n",
       "0  realestate.com.au                     5                    5   \n",
       "1      domain.com.au                     4                    4   \n",
       "\n",
       "   Ease of site navigation  Quality of information available  Image accuracy  \\\n",
       "0                        5                                 5               4   \n",
       "1                        4                                 4               4   \n",
       "\n",
       "   Tools and calculators  Total Score  \n",
       "0                      5           29  \n",
       "1                      4           24  "
      ]
     },
     "execution_count": 39,
     "metadata": {},
     "output_type": "execute_result"
    }
   ],
   "source": [
    "#2. Compare the Site Overall Ratings from Canstar data\n",
    "\n",
    "df_rating=pd.read_excel(web_url, sheet_name='CANSTAR_rating')\n",
    "df_rating"
   ]
  },
  {
   "cell_type": "code",
   "execution_count": 40,
   "metadata": {},
   "outputs": [
    {
     "ename": "NameError",
     "evalue": "name 'plt' is not defined",
     "output_type": "error",
     "traceback": [
      "\u001b[1;31m---------------------------------------------------------------------------\u001b[0m",
      "\u001b[1;31mNameError\u001b[0m                                 Traceback (most recent call last)",
      "\u001b[1;32m<ipython-input-40-1a76102f9e22>\u001b[0m in \u001b[0;36m<module>\u001b[1;34m\u001b[0m\n\u001b[0;32m      2\u001b[0m \u001b[1;33m\u001b[0m\u001b[0m\n\u001b[0;32m      3\u001b[0m \u001b[0mdf_total_score\u001b[0m\u001b[1;33m=\u001b[0m\u001b[0mdf_rating\u001b[0m\u001b[1;33m.\u001b[0m\u001b[0miloc\u001b[0m\u001b[1;33m[\u001b[0m\u001b[1;33m:\u001b[0m\u001b[1;33m,\u001b[0m\u001b[1;33m-\u001b[0m\u001b[1;36m1\u001b[0m\u001b[1;33m]\u001b[0m\u001b[1;33m\u001b[0m\u001b[1;33m\u001b[0m\u001b[0m\n\u001b[1;32m----> 4\u001b[1;33m \u001b[0mplt\u001b[0m\u001b[1;33m.\u001b[0m\u001b[0mbar\u001b[0m\u001b[1;33m(\u001b[0m\u001b[0mdf_rating\u001b[0m\u001b[1;33m[\u001b[0m\u001b[1;34m'Rated brands'\u001b[0m\u001b[1;33m]\u001b[0m\u001b[1;33m,\u001b[0m\u001b[0mdf_rating\u001b[0m\u001b[1;33m[\u001b[0m\u001b[1;34m'Total Score'\u001b[0m\u001b[1;33m]\u001b[0m\u001b[1;33m,\u001b[0m \u001b[0mcolor\u001b[0m\u001b[1;33m=\u001b[0m\u001b[1;33m[\u001b[0m\u001b[1;34m'#F57D7C'\u001b[0m\u001b[1;33m,\u001b[0m \u001b[1;34m'#6CC2BD'\u001b[0m\u001b[1;33m]\u001b[0m\u001b[1;33m,\u001b[0m\u001b[0mwidth\u001b[0m\u001b[1;33m=\u001b[0m\u001b[1;36m0.4\u001b[0m\u001b[1;33m)\u001b[0m\u001b[1;33m\u001b[0m\u001b[1;33m\u001b[0m\u001b[0m\n\u001b[0m\u001b[0;32m      5\u001b[0m \u001b[0mplt\u001b[0m\u001b[1;33m.\u001b[0m\u001b[0mxlabel\u001b[0m\u001b[1;33m(\u001b[0m\u001b[1;34m\"Sites\"\u001b[0m\u001b[1;33m)\u001b[0m\u001b[1;33m\u001b[0m\u001b[1;33m\u001b[0m\u001b[0m\n\u001b[0;32m      6\u001b[0m \u001b[0mplt\u001b[0m\u001b[1;33m.\u001b[0m\u001b[0mylabel\u001b[0m\u001b[1;33m(\u001b[0m\u001b[1;34m\"Total Score\"\u001b[0m\u001b[1;33m)\u001b[0m\u001b[1;33m\u001b[0m\u001b[1;33m\u001b[0m\u001b[0m\n",
      "\u001b[1;31mNameError\u001b[0m: name 'plt' is not defined"
     ]
    }
   ],
   "source": [
    "#Show the overall rating in colored bar chart\n",
    "\n",
    "df_total_score=df_rating.iloc[:,-1]\n",
    "plt.bar(df_rating['Rated brands'],df_rating['Total Score'], color=['#F57D7C', '#6CC2BD'],width=0.4)\n",
    "plt.xlabel(\"Sites\")\n",
    "plt.ylabel(\"Total Score\")\n",
    "plt.title(\"Total Score - REA vs Domain\")\n",
    "\n",
    "plt.show()"
   ]
  },
  {
   "cell_type": "markdown",
   "metadata": {},
   "source": [
    "**<font color='blue'>Summary<font>**\n",
    "    \n",
    "- By comparing the overall site ratings from Canstar, we can see **REA (realestate.com.au) outranked Domain** by **\"Total Score\"**.\n",
    "- REA - total score : 29\n",
    "- Domain - total score: 24\n",
    "- REA led the rating in 5 out of 6 categories (Overall satisfaction, Overall satisfaction, Range of properties, Ease of site navigation, Quality of information available and Tools and calculators)\n",
    "    \n",
    "<font color='blue'>In summary - REA has a higher overall performance rating than Domain.<font>"
   ]
  },
  {
   "cell_type": "markdown",
   "metadata": {},
   "source": [
    "### **<font color='blue'>Conclusion</font>**\n",
    "- Based on the comparisons from web traffic and overall site performance overview of 2 sites,<br>\n",
    "it's clear that **REA** is the site that we would go for more detailed property data analysis. \n",
    "\n",
    "Next Step\n",
    "- Scrap the property listing of the 10 suburbs from REA site"
   ]
  },
  {
   "cell_type": "markdown",
   "metadata": {},
   "source": [
    "# <font color='#0366d6'> REA Property Data Analysis </font>"
   ]
  },
  {
   "cell_type": "markdown",
   "metadata": {},
   "source": [
    "Note:\n",
    "- I used a web scraping tool to obtain the property listing data from the 10 suburbs to speed up the process.<br>\n",
    "- Let's import the data from domain.com.au and have a preview."
   ]
  },
  {
   "cell_type": "markdown",
   "metadata": {},
   "source": [
    "## Combine files and create a dataframe for all suburbs\n",
    "\n",
    "Import the scraped 10 suburbs property listings data from RAE with a loop and combine the files into a single dataframe\n",
    "\n",
    "We will take the following steps to read in multiple files\n",
    "1. Get a list of filenames (or sheets)\n",
    "2. Turn those into a list of dataframes\n",
    "3. Add the filename as a column to each dataframe\n",
    "4. Combine the dataframes into one big dataframe\n"
   ]
  },
  {
   "cell_type": "code",
   "execution_count": 41,
   "metadata": {},
   "outputs": [
    {
     "data": {
      "text/plain": [
       "['Data\\\\realestate.com.au_SOLD_Algester.csv',\n",
       " 'Data\\\\realestate.com.au_SOLD_Calamvale.csv',\n",
       " 'Data\\\\realestate.com.au_SOLD_Coopers_Plains.csv',\n",
       " 'Data\\\\realestate.com.au_SOLD_Eight_Mile_Plains.csv',\n",
       " 'Data\\\\realestate.com.au_SOLD_Kuraby.csv',\n",
       " 'Data\\\\realestate.com.au_SOLD_Runcorn.csv',\n",
       " 'Data\\\\realestate.com.au_SOLD_Sunnybank.csv',\n",
       " 'Data\\\\realestate.com.au_SOLD_Sunnybank_Hills.csv',\n",
       " 'Data\\\\realestate.com.au_SOLD_Upper_Mt_Gravatt.csv',\n",
       " 'Data\\\\realestate.com.au_SOLD_Wishart.csv']"
      ]
     },
     "execution_count": 41,
     "metadata": {},
     "output_type": "execute_result"
    }
   ],
   "source": [
    "#Getting a list of filenames\n",
    "\n",
    "filenames=glob.glob('Data\\\\realestate.com.au_SOLD*.csv')\n",
    "filenames"
   ]
  },
  {
   "cell_type": "code",
   "execution_count": 42,
   "metadata": {},
   "outputs": [
    {
     "data": {
      "text/plain": [
       "10"
      ]
     },
     "execution_count": 42,
     "metadata": {},
     "output_type": "execute_result"
    }
   ],
   "source": [
    "#Turn those files into a list of dataframes\n",
    "df_lists=[pd.read_csv(filename, encoding='ISO-8859-1') for filename in filenames]\n",
    "len(df_lists)"
   ]
  },
  {
   "cell_type": "code",
   "execution_count": 43,
   "metadata": {},
   "outputs": [
    {
     "data": {
      "text/plain": [
       "(9993, 14)"
      ]
     },
     "execution_count": 43,
     "metadata": {},
     "output_type": "execute_result"
    }
   ],
   "source": [
    "#Combining multiple dataframes\n",
    "df_all=pd.concat(df_lists, ignore_index=True)\n",
    "df_all.shape #check dataframe shape"
   ]
  },
  {
   "cell_type": "code",
   "execution_count": 44,
   "metadata": {
    "scrolled": true
   },
   "outputs": [
    {
     "data": {
      "text/html": [
       "<div>\n",
       "<style scoped>\n",
       "    .dataframe tbody tr th:only-of-type {\n",
       "        vertical-align: middle;\n",
       "    }\n",
       "\n",
       "    .dataframe tbody tr th {\n",
       "        vertical-align: top;\n",
       "    }\n",
       "\n",
       "    .dataframe thead th {\n",
       "        text-align: right;\n",
       "    }\n",
       "</style>\n",
       "<table border=\"1\" class=\"dataframe\">\n",
       "  <thead>\n",
       "    <tr style=\"text-align: right;\">\n",
       "      <th></th>\n",
       "      <th>Address</th>\n",
       "      <th>Property_Info</th>\n",
       "      <th>Agent_logo</th>\n",
       "      <th>Agent</th>\n",
       "      <th>Agent_photo</th>\n",
       "      <th>Status</th>\n",
       "      <th>Price</th>\n",
       "      <th>Bedrooms</th>\n",
       "      <th>Bathrooms</th>\n",
       "      <th>Car_park</th>\n",
       "      <th>Size</th>\n",
       "      <th>Size_unit</th>\n",
       "      <th>Type</th>\n",
       "      <th>Sold_date</th>\n",
       "    </tr>\n",
       "  </thead>\n",
       "  <tbody>\n",
       "    <tr>\n",
       "      <th>0</th>\n",
       "      <td>58 Dalmeny Street, Algester</td>\n",
       "      <td>https://www.realestate.com.au/sold/property-ho...</td>\n",
       "      <td>https://i2.au.reastatic.net/340x64/d4ded41d266...</td>\n",
       "      <td>Michelle Huston &amp; Mark Kearns</td>\n",
       "      <td>https://i2.au.reastatic.net/150x200/8a5badd53f...</td>\n",
       "      <td>Sold</td>\n",
       "      <td>$700,000</td>\n",
       "      <td>2.0</td>\n",
       "      <td>2.0</td>\n",
       "      <td>2.0</td>\n",
       "      <td>549</td>\n",
       "      <td>m²</td>\n",
       "      <td>House</td>\n",
       "      <td>Sold on 15 Dec 2020</td>\n",
       "    </tr>\n",
       "    <tr>\n",
       "      <th>1</th>\n",
       "      <td>162 Delathin Road, Algester</td>\n",
       "      <td>https://www.realestate.com.au/sold/property-ho...</td>\n",
       "      <td>https://i2.au.reastatic.net/340x64/72065f86a98...</td>\n",
       "      <td>JJ Macalino</td>\n",
       "      <td>https://i2.au.reastatic.net/150x200/ff4dfb2ff3...</td>\n",
       "      <td>Sold</td>\n",
       "      <td>$600,000</td>\n",
       "      <td>4.0</td>\n",
       "      <td>2.0</td>\n",
       "      <td>2.0</td>\n",
       "      <td>570</td>\n",
       "      <td>m²</td>\n",
       "      <td>House</td>\n",
       "      <td>Sold on 11 Dec 2020</td>\n",
       "    </tr>\n",
       "    <tr>\n",
       "      <th>2</th>\n",
       "      <td>20 Springwater Place, Algester</td>\n",
       "      <td>https://www.realestate.com.au/sold/property-ho...</td>\n",
       "      <td>https://i2.au.reastatic.net/340x64/adf93bc0d60...</td>\n",
       "      <td>Andrea Manson</td>\n",
       "      <td>https://i2.au.reastatic.net/150x200/d84dba8712...</td>\n",
       "      <td>Sold</td>\n",
       "      <td>$577,800</td>\n",
       "      <td>4.0</td>\n",
       "      <td>3.0</td>\n",
       "      <td>2.0</td>\n",
       "      <td>604</td>\n",
       "      <td>m²</td>\n",
       "      <td>House</td>\n",
       "      <td>Sold on 11 Dec 2020</td>\n",
       "    </tr>\n",
       "  </tbody>\n",
       "</table>\n",
       "</div>"
      ],
      "text/plain": [
       "                          Address  \\\n",
       "0     58 Dalmeny Street, Algester   \n",
       "1     162 Delathin Road, Algester   \n",
       "2  20 Springwater Place, Algester   \n",
       "\n",
       "                                       Property_Info  \\\n",
       "0  https://www.realestate.com.au/sold/property-ho...   \n",
       "1  https://www.realestate.com.au/sold/property-ho...   \n",
       "2  https://www.realestate.com.au/sold/property-ho...   \n",
       "\n",
       "                                          Agent_logo  \\\n",
       "0  https://i2.au.reastatic.net/340x64/d4ded41d266...   \n",
       "1  https://i2.au.reastatic.net/340x64/72065f86a98...   \n",
       "2  https://i2.au.reastatic.net/340x64/adf93bc0d60...   \n",
       "\n",
       "                           Agent  \\\n",
       "0  Michelle Huston & Mark Kearns   \n",
       "1                    JJ Macalino   \n",
       "2                  Andrea Manson   \n",
       "\n",
       "                                         Agent_photo Status      Price  \\\n",
       "0  https://i2.au.reastatic.net/150x200/8a5badd53f...   Sold  $700,000    \n",
       "1  https://i2.au.reastatic.net/150x200/ff4dfb2ff3...   Sold  $600,000    \n",
       "2  https://i2.au.reastatic.net/150x200/d84dba8712...   Sold  $577,800    \n",
       "\n",
       "   Bedrooms  Bathrooms  Car_park  Size Size_unit   Type            Sold_date  \n",
       "0       2.0        2.0       2.0   549        m²  House  Sold on 15 Dec 2020  \n",
       "1       4.0        2.0       2.0   570        m²  House  Sold on 11 Dec 2020  \n",
       "2       4.0        3.0       2.0   604        m²  House  Sold on 11 Dec 2020  "
      ]
     },
     "execution_count": 44,
     "metadata": {},
     "output_type": "execute_result"
    }
   ],
   "source": [
    "#preview the dataframe\n",
    "df_all.head(3)"
   ]
  },
  {
   "cell_type": "code",
   "execution_count": 45,
   "metadata": {},
   "outputs": [],
   "source": [
    "# there are 4 addresses contain \",,\", \n",
    "#which will break the split function to be used to extract Suburb name, let's replace them with \",\".\n",
    "\n",
    "df_all['Address']=df_all['Address'].str.strip().str.replace(\",,\", \",\") "
   ]
  },
  {
   "cell_type": "code",
   "execution_count": 46,
   "metadata": {},
   "outputs": [],
   "source": [
    "#extract the Suburb name from the df_all, and add a new column as \"Surburb\"\n",
    "\n",
    "df_all['Suburb']=df_all['Address'].str.split(',', expand=True)[1].str.strip() "
   ]
  },
  {
   "cell_type": "code",
   "execution_count": 47,
   "metadata": {},
   "outputs": [],
   "source": [
    "#Split the Suburb string and to extract the last item as the Suburb name\n",
    "df_all['Suburb']=[row[-1] for row in df_all['Address'].str.split(',')]"
   ]
  },
  {
   "cell_type": "code",
   "execution_count": 48,
   "metadata": {
    "scrolled": true
   },
   "outputs": [
    {
     "data": {
      "text/plain": [
       " Sunnybank              1500\n",
       " Sunnybank Hills        1250\n",
       " Algester               1250\n",
       " Eight Mile Plains      1250\n",
       " Kuraby                 1075\n",
       " Wishart                1026\n",
       " Upper Mount Gravatt    1000\n",
       " Coopers Plains          696\n",
       " Calamvale               550\n",
       " Runcorn                 396\n",
       "Name: Suburb, dtype: int64"
      ]
     },
     "execution_count": 48,
     "metadata": {},
     "output_type": "execute_result"
    }
   ],
   "source": [
    "#Check the suburbs names\n",
    "df_all['Suburb'].value_counts()"
   ]
  },
  {
   "cell_type": "markdown",
   "metadata": {},
   "source": [
    "- When checking the data types in the data frame, there are some duplicates and missing values across multiple columns.\n",
    "- We can also see the Price, Size are of the string type (instead of numeric values)\n",
    "- Furthermore, the Sold_date is string type instead of datetime type. \n",
    "- So the tasks to perform next are to remove duplicates, fill the missing values, convert Price and Size dtypes to float64 and turn Sold_date to datetime type."
   ]
  },
  {
   "cell_type": "code",
   "execution_count": 49,
   "metadata": {},
   "outputs": [
    {
     "data": {
      "text/plain": [
       "Address           object\n",
       "Property_Info     object\n",
       "Agent_logo        object\n",
       "Agent             object\n",
       "Agent_photo       object\n",
       "Status            object\n",
       "Price             object\n",
       "Bedrooms         float64\n",
       "Bathrooms        float64\n",
       "Car_park         float64\n",
       "Size              object\n",
       "Size_unit         object\n",
       "Type              object\n",
       "Sold_date         object\n",
       "Suburb            object\n",
       "dtype: object"
      ]
     },
     "execution_count": 49,
     "metadata": {},
     "output_type": "execute_result"
    }
   ],
   "source": [
    "#check the data types\n",
    "df_all.dtypes"
   ]
  },
  {
   "cell_type": "code",
   "execution_count": 50,
   "metadata": {
    "scrolled": true
   },
   "outputs": [
    {
     "data": {
      "text/plain": [
       "Address           0.000000\n",
       "Property_Info     0.000000\n",
       "Agent_logo       10.387271\n",
       "Agent            46.922846\n",
       "Agent_photo      64.535175\n",
       "Status            0.000000\n",
       "Price             0.000000\n",
       "Bedrooms          2.952066\n",
       "Bathrooms         2.952066\n",
       "Car_park          5.273692\n",
       "Size             21.985390\n",
       "Size_unit        20.074052\n",
       "Type              0.000000\n",
       "Sold_date         0.060042\n",
       "Suburb            0.000000\n",
       "dtype: float64"
      ]
     },
     "execution_count": 50,
     "metadata": {},
     "output_type": "execute_result"
    }
   ],
   "source": [
    "df_all.isna().sum()/len(df_all)*100 #check the missing values in each column by %"
   ]
  },
  {
   "cell_type": "code",
   "execution_count": 51,
   "metadata": {},
   "outputs": [
    {
     "data": {
      "text/plain": [
       "(9993, 15)"
      ]
     },
     "execution_count": 51,
     "metadata": {},
     "output_type": "execute_result"
    }
   ],
   "source": [
    "#check the df shape\n",
    "df_all.shape"
   ]
  },
  {
   "cell_type": "markdown",
   "metadata": {},
   "source": [
    "## Data cleansing first"
   ]
  },
  {
   "cell_type": "markdown",
   "metadata": {},
   "source": [
    "### Drop duplicates"
   ]
  },
  {
   "cell_type": "code",
   "execution_count": 52,
   "metadata": {
    "scrolled": true
   },
   "outputs": [
    {
     "data": {
      "text/plain": [
       "87"
      ]
     },
     "execution_count": 52,
     "metadata": {},
     "output_type": "execute_result"
    }
   ],
   "source": [
    "df_all.duplicated().sum()"
   ]
  },
  {
   "cell_type": "code",
   "execution_count": 53,
   "metadata": {},
   "outputs": [
    {
     "data": {
      "text/plain": [
       "(9906, 15)"
      ]
     },
     "execution_count": 53,
     "metadata": {},
     "output_type": "execute_result"
    }
   ],
   "source": [
    "df_all.drop_duplicates(keep='first', inplace=True)\n",
    "df_all.shape"
   ]
  },
  {
   "cell_type": "code",
   "execution_count": 54,
   "metadata": {
    "scrolled": true
   },
   "outputs": [
    {
     "data": {
      "text/plain": [
       "(8588, 15)"
      ]
     },
     "execution_count": 54,
     "metadata": {},
     "output_type": "execute_result"
    }
   ],
   "source": [
    "df_all.drop_duplicates(subset=['Address'], keep='first', inplace=True)\n",
    "df_all.shape"
   ]
  },
  {
   "cell_type": "markdown",
   "metadata": {},
   "source": [
    "### Convert \" Price, Size\" columns to numeric datatype"
   ]
  },
  {
   "cell_type": "code",
   "execution_count": 55,
   "metadata": {
    "scrolled": true
   },
   "outputs": [
    {
     "data": {
      "text/plain": [
       "Contact agent    0.052632\n",
       "$650,000         0.006754\n",
       "$550,000         0.006404\n",
       "$400,000         0.006055\n",
       "$750,000         0.005589\n",
       "                   ...   \n",
       "$703,500         0.000116\n",
       "$1,285,000       0.000116\n",
       "$316,500         0.000116\n",
       "$910,000         0.000116\n",
       "$870,600         0.000116\n",
       "Name: Price, Length: 2059, dtype: float64"
      ]
     },
     "execution_count": 55,
     "metadata": {},
     "output_type": "execute_result"
    }
   ],
   "source": [
    "# Check the Price column and we can see 2 issues:\n",
    "# - there are 5% of total rows showing \"Contact agent\", so we can't evaluate the house price in this case\n",
    "# - there's a dollar sign in the price column\n",
    "    \n",
    "df_all['Price'].value_counts(normalize=True)"
   ]
  },
  {
   "cell_type": "code",
   "execution_count": 56,
   "metadata": {},
   "outputs": [
    {
     "data": {
      "text/plain": [
       "(8136, 15)"
      ]
     },
     "execution_count": 56,
     "metadata": {},
     "output_type": "execute_result"
    }
   ],
   "source": [
    "#drop the rows where Price shown as \"Contact agent\"\n",
    "\n",
    "df_all=df_all[df_all['Price']!='Contact agent']\n",
    "df_all.shape  #we have dropped 452 rows"
   ]
  },
  {
   "cell_type": "code",
   "execution_count": 57,
   "metadata": {},
   "outputs": [
    {
     "data": {
      "text/plain": [
       "1784"
      ]
     },
     "execution_count": 57,
     "metadata": {},
     "output_type": "execute_result"
    }
   ],
   "source": [
    "df_all['Size'].isna().sum() #Size column has~1.8K rows has no value"
   ]
  },
  {
   "cell_type": "code",
   "execution_count": 58,
   "metadata": {},
   "outputs": [
    {
     "data": {
      "text/plain": [
       "0"
      ]
     },
     "execution_count": 58,
     "metadata": {},
     "output_type": "execute_result"
    }
   ],
   "source": [
    "df_all['Size']=df_all['Size'].fillna(0) #Fill the null value with 0 \n",
    "df_all['Size'].isna().sum()  #Now, the Size column doesn't have any null value"
   ]
  },
  {
   "cell_type": "code",
   "execution_count": 59,
   "metadata": {},
   "outputs": [],
   "source": [
    "#Remove the dollar $ from Price, so we can convert Price and Size into numeric values using the \"remove_puncs function\"\n",
    "\n",
    "str_cols=['Price', 'Size']\n",
    "num_cols=defaultdict(pd.Series)\n",
    "\n",
    "for c in str_cols:\n",
    "    num_cols[c]=df_all[c].apply(lambda i:pd.to_numeric(remove_puncs(i), 'coerce')).astype(np.float64)"
   ]
  },
  {
   "cell_type": "code",
   "execution_count": 60,
   "metadata": {
    "scrolled": true
   },
   "outputs": [
    {
     "data": {
      "text/plain": [
       "dict_keys(['Price', 'Size'])"
      ]
     },
     "execution_count": 60,
     "metadata": {},
     "output_type": "execute_result"
    }
   ],
   "source": [
    "num_cols.keys()"
   ]
  },
  {
   "cell_type": "code",
   "execution_count": 61,
   "metadata": {
    "scrolled": true
   },
   "outputs": [
    {
     "data": {
      "text/html": [
       "<div>\n",
       "<style scoped>\n",
       "    .dataframe tbody tr th:only-of-type {\n",
       "        vertical-align: middle;\n",
       "    }\n",
       "\n",
       "    .dataframe tbody tr th {\n",
       "        vertical-align: top;\n",
       "    }\n",
       "\n",
       "    .dataframe thead th {\n",
       "        text-align: right;\n",
       "    }\n",
       "</style>\n",
       "<table border=\"1\" class=\"dataframe\">\n",
       "  <thead>\n",
       "    <tr style=\"text-align: right;\">\n",
       "      <th></th>\n",
       "      <th>Address</th>\n",
       "      <th>Property_Info</th>\n",
       "      <th>Agent_logo</th>\n",
       "      <th>Agent</th>\n",
       "      <th>Agent_photo</th>\n",
       "      <th>Status</th>\n",
       "      <th>Bedrooms</th>\n",
       "      <th>Bathrooms</th>\n",
       "      <th>Car_park</th>\n",
       "      <th>Size_unit</th>\n",
       "      <th>Type</th>\n",
       "      <th>Sold_date</th>\n",
       "      <th>Suburb</th>\n",
       "    </tr>\n",
       "  </thead>\n",
       "  <tbody>\n",
       "    <tr>\n",
       "      <th>0</th>\n",
       "      <td>58 Dalmeny Street, Algester</td>\n",
       "      <td>https://www.realestate.com.au/sold/property-ho...</td>\n",
       "      <td>https://i2.au.reastatic.net/340x64/d4ded41d266...</td>\n",
       "      <td>Michelle Huston &amp; Mark Kearns</td>\n",
       "      <td>https://i2.au.reastatic.net/150x200/8a5badd53f...</td>\n",
       "      <td>Sold</td>\n",
       "      <td>2.0</td>\n",
       "      <td>2.0</td>\n",
       "      <td>2.0</td>\n",
       "      <td>m²</td>\n",
       "      <td>House</td>\n",
       "      <td>Sold on 15 Dec 2020</td>\n",
       "      <td>Algester</td>\n",
       "    </tr>\n",
       "    <tr>\n",
       "      <th>1</th>\n",
       "      <td>162 Delathin Road, Algester</td>\n",
       "      <td>https://www.realestate.com.au/sold/property-ho...</td>\n",
       "      <td>https://i2.au.reastatic.net/340x64/72065f86a98...</td>\n",
       "      <td>JJ Macalino</td>\n",
       "      <td>https://i2.au.reastatic.net/150x200/ff4dfb2ff3...</td>\n",
       "      <td>Sold</td>\n",
       "      <td>4.0</td>\n",
       "      <td>2.0</td>\n",
       "      <td>2.0</td>\n",
       "      <td>m²</td>\n",
       "      <td>House</td>\n",
       "      <td>Sold on 11 Dec 2020</td>\n",
       "      <td>Algester</td>\n",
       "    </tr>\n",
       "    <tr>\n",
       "      <th>2</th>\n",
       "      <td>20 Springwater Place, Algester</td>\n",
       "      <td>https://www.realestate.com.au/sold/property-ho...</td>\n",
       "      <td>https://i2.au.reastatic.net/340x64/adf93bc0d60...</td>\n",
       "      <td>Andrea Manson</td>\n",
       "      <td>https://i2.au.reastatic.net/150x200/d84dba8712...</td>\n",
       "      <td>Sold</td>\n",
       "      <td>4.0</td>\n",
       "      <td>3.0</td>\n",
       "      <td>2.0</td>\n",
       "      <td>m²</td>\n",
       "      <td>House</td>\n",
       "      <td>Sold on 11 Dec 2020</td>\n",
       "      <td>Algester</td>\n",
       "    </tr>\n",
       "    <tr>\n",
       "      <th>3</th>\n",
       "      <td>8 Limewood Place, Algester</td>\n",
       "      <td>https://www.realestate.com.au/sold/property-ho...</td>\n",
       "      <td>https://i2.au.reastatic.net/340x64/72065f86a98...</td>\n",
       "      <td>Gonnie Nahar</td>\n",
       "      <td>https://i2.au.reastatic.net/150x200/4b77daff58...</td>\n",
       "      <td>Sold</td>\n",
       "      <td>3.0</td>\n",
       "      <td>1.0</td>\n",
       "      <td>3.0</td>\n",
       "      <td>m²</td>\n",
       "      <td>House</td>\n",
       "      <td>Sold on 08 Dec 2020</td>\n",
       "      <td>Algester</td>\n",
       "    </tr>\n",
       "    <tr>\n",
       "      <th>4</th>\n",
       "      <td>27 Owenia Street, Algester</td>\n",
       "      <td>https://www.realestate.com.au/sold/property-ho...</td>\n",
       "      <td>https://i2.au.reastatic.net/340x64/adf93bc0d60...</td>\n",
       "      <td>Andrea Manson</td>\n",
       "      <td>https://i2.au.reastatic.net/150x200/d84dba8712...</td>\n",
       "      <td>Sold</td>\n",
       "      <td>4.0</td>\n",
       "      <td>2.0</td>\n",
       "      <td>2.0</td>\n",
       "      <td>m²</td>\n",
       "      <td>House</td>\n",
       "      <td>Sold on 04 Dec 2020</td>\n",
       "      <td>Algester</td>\n",
       "    </tr>\n",
       "  </tbody>\n",
       "</table>\n",
       "</div>"
      ],
      "text/plain": [
       "                          Address  \\\n",
       "0     58 Dalmeny Street, Algester   \n",
       "1     162 Delathin Road, Algester   \n",
       "2  20 Springwater Place, Algester   \n",
       "3      8 Limewood Place, Algester   \n",
       "4      27 Owenia Street, Algester   \n",
       "\n",
       "                                       Property_Info  \\\n",
       "0  https://www.realestate.com.au/sold/property-ho...   \n",
       "1  https://www.realestate.com.au/sold/property-ho...   \n",
       "2  https://www.realestate.com.au/sold/property-ho...   \n",
       "3  https://www.realestate.com.au/sold/property-ho...   \n",
       "4  https://www.realestate.com.au/sold/property-ho...   \n",
       "\n",
       "                                          Agent_logo  \\\n",
       "0  https://i2.au.reastatic.net/340x64/d4ded41d266...   \n",
       "1  https://i2.au.reastatic.net/340x64/72065f86a98...   \n",
       "2  https://i2.au.reastatic.net/340x64/adf93bc0d60...   \n",
       "3  https://i2.au.reastatic.net/340x64/72065f86a98...   \n",
       "4  https://i2.au.reastatic.net/340x64/adf93bc0d60...   \n",
       "\n",
       "                           Agent  \\\n",
       "0  Michelle Huston & Mark Kearns   \n",
       "1                    JJ Macalino   \n",
       "2                  Andrea Manson   \n",
       "3                   Gonnie Nahar   \n",
       "4                  Andrea Manson   \n",
       "\n",
       "                                         Agent_photo Status  Bedrooms  \\\n",
       "0  https://i2.au.reastatic.net/150x200/8a5badd53f...   Sold       2.0   \n",
       "1  https://i2.au.reastatic.net/150x200/ff4dfb2ff3...   Sold       4.0   \n",
       "2  https://i2.au.reastatic.net/150x200/d84dba8712...   Sold       4.0   \n",
       "3  https://i2.au.reastatic.net/150x200/4b77daff58...   Sold       3.0   \n",
       "4  https://i2.au.reastatic.net/150x200/d84dba8712...   Sold       4.0   \n",
       "\n",
       "   Bathrooms  Car_park Size_unit   Type            Sold_date     Suburb  \n",
       "0        2.0       2.0        m²  House  Sold on 15 Dec 2020   Algester  \n",
       "1        2.0       2.0        m²  House  Sold on 11 Dec 2020   Algester  \n",
       "2        3.0       2.0        m²  House  Sold on 11 Dec 2020   Algester  \n",
       "3        1.0       3.0        m²  House  Sold on 08 Dec 2020   Algester  \n",
       "4        2.0       2.0        m²  House  Sold on 04 Dec 2020   Algester  "
      ]
     },
     "execution_count": 61,
     "metadata": {},
     "output_type": "execute_result"
    }
   ],
   "source": [
    "df_all=df_all.drop(list(num_cols.keys()), axis=1) #drop the 2 original columns - Price and Size\n",
    "df_all.head()"
   ]
  },
  {
   "cell_type": "code",
   "execution_count": 62,
   "metadata": {
    "scrolled": true
   },
   "outputs": [
    {
     "data": {
      "text/html": [
       "<div>\n",
       "<style scoped>\n",
       "    .dataframe tbody tr th:only-of-type {\n",
       "        vertical-align: middle;\n",
       "    }\n",
       "\n",
       "    .dataframe tbody tr th {\n",
       "        vertical-align: top;\n",
       "    }\n",
       "\n",
       "    .dataframe thead th {\n",
       "        text-align: right;\n",
       "    }\n",
       "</style>\n",
       "<table border=\"1\" class=\"dataframe\">\n",
       "  <thead>\n",
       "    <tr style=\"text-align: right;\">\n",
       "      <th></th>\n",
       "      <th>Address</th>\n",
       "      <th>Property_Info</th>\n",
       "      <th>Agent_logo</th>\n",
       "      <th>Agent</th>\n",
       "      <th>Agent_photo</th>\n",
       "      <th>Status</th>\n",
       "      <th>Bedrooms</th>\n",
       "      <th>Bathrooms</th>\n",
       "      <th>Car_park</th>\n",
       "      <th>Size_unit</th>\n",
       "      <th>Type</th>\n",
       "      <th>Sold_date</th>\n",
       "      <th>Suburb</th>\n",
       "      <th>Price</th>\n",
       "      <th>Size</th>\n",
       "    </tr>\n",
       "  </thead>\n",
       "  <tbody>\n",
       "    <tr>\n",
       "      <th>0</th>\n",
       "      <td>58 Dalmeny Street, Algester</td>\n",
       "      <td>https://www.realestate.com.au/sold/property-ho...</td>\n",
       "      <td>https://i2.au.reastatic.net/340x64/d4ded41d266...</td>\n",
       "      <td>Michelle Huston &amp; Mark Kearns</td>\n",
       "      <td>https://i2.au.reastatic.net/150x200/8a5badd53f...</td>\n",
       "      <td>Sold</td>\n",
       "      <td>2.0</td>\n",
       "      <td>2.0</td>\n",
       "      <td>2.0</td>\n",
       "      <td>m²</td>\n",
       "      <td>House</td>\n",
       "      <td>Sold on 15 Dec 2020</td>\n",
       "      <td>Algester</td>\n",
       "      <td>700000.0</td>\n",
       "      <td>549.0</td>\n",
       "    </tr>\n",
       "    <tr>\n",
       "      <th>1</th>\n",
       "      <td>162 Delathin Road, Algester</td>\n",
       "      <td>https://www.realestate.com.au/sold/property-ho...</td>\n",
       "      <td>https://i2.au.reastatic.net/340x64/72065f86a98...</td>\n",
       "      <td>JJ Macalino</td>\n",
       "      <td>https://i2.au.reastatic.net/150x200/ff4dfb2ff3...</td>\n",
       "      <td>Sold</td>\n",
       "      <td>4.0</td>\n",
       "      <td>2.0</td>\n",
       "      <td>2.0</td>\n",
       "      <td>m²</td>\n",
       "      <td>House</td>\n",
       "      <td>Sold on 11 Dec 2020</td>\n",
       "      <td>Algester</td>\n",
       "      <td>600000.0</td>\n",
       "      <td>570.0</td>\n",
       "    </tr>\n",
       "    <tr>\n",
       "      <th>2</th>\n",
       "      <td>20 Springwater Place, Algester</td>\n",
       "      <td>https://www.realestate.com.au/sold/property-ho...</td>\n",
       "      <td>https://i2.au.reastatic.net/340x64/adf93bc0d60...</td>\n",
       "      <td>Andrea Manson</td>\n",
       "      <td>https://i2.au.reastatic.net/150x200/d84dba8712...</td>\n",
       "      <td>Sold</td>\n",
       "      <td>4.0</td>\n",
       "      <td>3.0</td>\n",
       "      <td>2.0</td>\n",
       "      <td>m²</td>\n",
       "      <td>House</td>\n",
       "      <td>Sold on 11 Dec 2020</td>\n",
       "      <td>Algester</td>\n",
       "      <td>577800.0</td>\n",
       "      <td>604.0</td>\n",
       "    </tr>\n",
       "    <tr>\n",
       "      <th>3</th>\n",
       "      <td>8 Limewood Place, Algester</td>\n",
       "      <td>https://www.realestate.com.au/sold/property-ho...</td>\n",
       "      <td>https://i2.au.reastatic.net/340x64/72065f86a98...</td>\n",
       "      <td>Gonnie Nahar</td>\n",
       "      <td>https://i2.au.reastatic.net/150x200/4b77daff58...</td>\n",
       "      <td>Sold</td>\n",
       "      <td>3.0</td>\n",
       "      <td>1.0</td>\n",
       "      <td>3.0</td>\n",
       "      <td>m²</td>\n",
       "      <td>House</td>\n",
       "      <td>Sold on 08 Dec 2020</td>\n",
       "      <td>Algester</td>\n",
       "      <td>515100.0</td>\n",
       "      <td>597.0</td>\n",
       "    </tr>\n",
       "    <tr>\n",
       "      <th>4</th>\n",
       "      <td>27 Owenia Street, Algester</td>\n",
       "      <td>https://www.realestate.com.au/sold/property-ho...</td>\n",
       "      <td>https://i2.au.reastatic.net/340x64/adf93bc0d60...</td>\n",
       "      <td>Andrea Manson</td>\n",
       "      <td>https://i2.au.reastatic.net/150x200/d84dba8712...</td>\n",
       "      <td>Sold</td>\n",
       "      <td>4.0</td>\n",
       "      <td>2.0</td>\n",
       "      <td>2.0</td>\n",
       "      <td>m²</td>\n",
       "      <td>House</td>\n",
       "      <td>Sold on 04 Dec 2020</td>\n",
       "      <td>Algester</td>\n",
       "      <td>546500.0</td>\n",
       "      <td>639.0</td>\n",
       "    </tr>\n",
       "  </tbody>\n",
       "</table>\n",
       "</div>"
      ],
      "text/plain": [
       "                          Address  \\\n",
       "0     58 Dalmeny Street, Algester   \n",
       "1     162 Delathin Road, Algester   \n",
       "2  20 Springwater Place, Algester   \n",
       "3      8 Limewood Place, Algester   \n",
       "4      27 Owenia Street, Algester   \n",
       "\n",
       "                                       Property_Info  \\\n",
       "0  https://www.realestate.com.au/sold/property-ho...   \n",
       "1  https://www.realestate.com.au/sold/property-ho...   \n",
       "2  https://www.realestate.com.au/sold/property-ho...   \n",
       "3  https://www.realestate.com.au/sold/property-ho...   \n",
       "4  https://www.realestate.com.au/sold/property-ho...   \n",
       "\n",
       "                                          Agent_logo  \\\n",
       "0  https://i2.au.reastatic.net/340x64/d4ded41d266...   \n",
       "1  https://i2.au.reastatic.net/340x64/72065f86a98...   \n",
       "2  https://i2.au.reastatic.net/340x64/adf93bc0d60...   \n",
       "3  https://i2.au.reastatic.net/340x64/72065f86a98...   \n",
       "4  https://i2.au.reastatic.net/340x64/adf93bc0d60...   \n",
       "\n",
       "                           Agent  \\\n",
       "0  Michelle Huston & Mark Kearns   \n",
       "1                    JJ Macalino   \n",
       "2                  Andrea Manson   \n",
       "3                   Gonnie Nahar   \n",
       "4                  Andrea Manson   \n",
       "\n",
       "                                         Agent_photo Status  Bedrooms  \\\n",
       "0  https://i2.au.reastatic.net/150x200/8a5badd53f...   Sold       2.0   \n",
       "1  https://i2.au.reastatic.net/150x200/ff4dfb2ff3...   Sold       4.0   \n",
       "2  https://i2.au.reastatic.net/150x200/d84dba8712...   Sold       4.0   \n",
       "3  https://i2.au.reastatic.net/150x200/4b77daff58...   Sold       3.0   \n",
       "4  https://i2.au.reastatic.net/150x200/d84dba8712...   Sold       4.0   \n",
       "\n",
       "   Bathrooms  Car_park Size_unit   Type            Sold_date     Suburb  \\\n",
       "0        2.0       2.0        m²  House  Sold on 15 Dec 2020   Algester   \n",
       "1        2.0       2.0        m²  House  Sold on 11 Dec 2020   Algester   \n",
       "2        3.0       2.0        m²  House  Sold on 11 Dec 2020   Algester   \n",
       "3        1.0       3.0        m²  House  Sold on 08 Dec 2020   Algester   \n",
       "4        2.0       2.0        m²  House  Sold on 04 Dec 2020   Algester   \n",
       "\n",
       "      Price   Size  \n",
       "0  700000.0  549.0  \n",
       "1  600000.0  570.0  \n",
       "2  577800.0  604.0  \n",
       "3  515100.0  597.0  \n",
       "4  546500.0  639.0  "
      ]
     },
     "execution_count": 62,
     "metadata": {},
     "output_type": "execute_result"
    }
   ],
   "source": [
    "df_all=df_all.assign(**num_cols) #reassign processed columns back to the dataframe\n",
    "df_all.head()"
   ]
  },
  {
   "cell_type": "code",
   "execution_count": 63,
   "metadata": {},
   "outputs": [],
   "source": [
    "#Fix the remained price and size issues\n",
    "\n",
    "# For example, the Price value low (407) or too high.\n",
    "# Some of the house size was under 2 mm2, because they were measured in HA.\n",
    "# Some of the property listed as House but the size showed and address info showed they are actually Townhouses."
   ]
  },
  {
   "cell_type": "code",
   "execution_count": 64,
   "metadata": {
    "scrolled": true
   },
   "outputs": [
    {
     "data": {
      "text/html": [
       "<div>\n",
       "<style scoped>\n",
       "    .dataframe tbody tr th:only-of-type {\n",
       "        vertical-align: middle;\n",
       "    }\n",
       "\n",
       "    .dataframe tbody tr th {\n",
       "        vertical-align: top;\n",
       "    }\n",
       "\n",
       "    .dataframe thead th {\n",
       "        text-align: right;\n",
       "    }\n",
       "</style>\n",
       "<table border=\"1\" class=\"dataframe\">\n",
       "  <thead>\n",
       "    <tr style=\"text-align: right;\">\n",
       "      <th></th>\n",
       "      <th>Address</th>\n",
       "      <th>Property_Info</th>\n",
       "      <th>Agent_logo</th>\n",
       "      <th>Agent</th>\n",
       "      <th>Agent_photo</th>\n",
       "      <th>Status</th>\n",
       "      <th>Bedrooms</th>\n",
       "      <th>Bathrooms</th>\n",
       "      <th>Car_park</th>\n",
       "      <th>Size_unit</th>\n",
       "      <th>Type</th>\n",
       "      <th>Sold_date</th>\n",
       "      <th>Suburb</th>\n",
       "      <th>Price</th>\n",
       "      <th>Size</th>\n",
       "    </tr>\n",
       "  </thead>\n",
       "  <tbody>\n",
       "    <tr>\n",
       "      <th>9783</th>\n",
       "      <td>10 Winthrop, Wishart</td>\n",
       "      <td>https://www.realestate.com.au/sold/property-ho...</td>\n",
       "      <td>https://i2.au.reastatic.net/340x64/6771cd17f45...</td>\n",
       "      <td>Agent: William Hooper</td>\n",
       "      <td>NaN</td>\n",
       "      <td>Sold</td>\n",
       "      <td>4.0</td>\n",
       "      <td>1.0</td>\n",
       "      <td>2.0</td>\n",
       "      <td>NaN</td>\n",
       "      <td>House</td>\n",
       "      <td>Sold on 20 Mar 2013</td>\n",
       "      <td>Wishart</td>\n",
       "      <td>407.0</td>\n",
       "      <td>NaN</td>\n",
       "    </tr>\n",
       "  </tbody>\n",
       "</table>\n",
       "</div>"
      ],
      "text/plain": [
       "                   Address                                      Property_Info  \\\n",
       "9783  10 Winthrop, Wishart  https://www.realestate.com.au/sold/property-ho...   \n",
       "\n",
       "                                             Agent_logo  \\\n",
       "9783  https://i2.au.reastatic.net/340x64/6771cd17f45...   \n",
       "\n",
       "                      Agent Agent_photo Status  Bedrooms  Bathrooms  Car_park  \\\n",
       "9783  Agent: William Hooper         NaN   Sold       4.0        1.0       2.0   \n",
       "\n",
       "     Size_unit   Type            Sold_date    Suburb  Price  Size  \n",
       "9783       NaN  House  Sold on 20 Mar 2013   Wishart  407.0   NaN  "
      ]
     },
     "execution_count": 64,
     "metadata": {},
     "output_type": "execute_result"
    }
   ],
   "source": [
    "sorted(df_all.Price.value_counts().index)\n",
    "#check the lowest price 407\n",
    "df_all[df_all.Price==407]"
   ]
  },
  {
   "cell_type": "code",
   "execution_count": 65,
   "metadata": {},
   "outputs": [],
   "source": [
    "#Update the crazy price value/size value to the correct data\n",
    "df_all.at[9783,'Price']=515000\n",
    "\n",
    "df_all.at[4772,'Price']=640000\n",
    "\n",
    "df_all.at[2471,'Price']=332000\n",
    "\n",
    "df_all.at[2495,'Price']=546000\n",
    "\n",
    "df_all.at[4642,'Price']=640000\n",
    "\n",
    "df_all.at[4684,'Price']=580000\n",
    "\n",
    "df_all.at[4689,'Price']=415000\n",
    "\n",
    "df_all.at[4710,'Price']=526000\n",
    "\n",
    "df_all.at[4772,'Price']=640000\n",
    "\n",
    "df_all.at[4684,'Size']=451"
   ]
  },
  {
   "cell_type": "code",
   "execution_count": 66,
   "metadata": {},
   "outputs": [
    {
     "data": {
      "text/plain": [
       "Address           object\n",
       "Property_Info     object\n",
       "Agent_logo        object\n",
       "Agent             object\n",
       "Agent_photo       object\n",
       "Status            object\n",
       "Bedrooms         float64\n",
       "Bathrooms        float64\n",
       "Car_park         float64\n",
       "Size_unit         object\n",
       "Type              object\n",
       "Sold_date         object\n",
       "Suburb            object\n",
       "Price            float64\n",
       "Size             float64\n",
       "dtype: object"
      ]
     },
     "execution_count": 66,
     "metadata": {},
     "output_type": "execute_result"
    }
   ],
   "source": [
    "df_all.dtypes"
   ]
  },
  {
   "cell_type": "code",
   "execution_count": 67,
   "metadata": {
    "scrolled": true
   },
   "outputs": [],
   "source": [
    "#Updated the size to mm2\n",
    "\n",
    "df_all.Size=[x*10000 if x <=2 else x+0 for x in df_all.Size]"
   ]
  },
  {
   "cell_type": "code",
   "execution_count": 68,
   "metadata": {},
   "outputs": [
    {
     "data": {
      "text/html": [
       "<div>\n",
       "<style scoped>\n",
       "    .dataframe tbody tr th:only-of-type {\n",
       "        vertical-align: middle;\n",
       "    }\n",
       "\n",
       "    .dataframe tbody tr th {\n",
       "        vertical-align: top;\n",
       "    }\n",
       "\n",
       "    .dataframe thead th {\n",
       "        text-align: right;\n",
       "    }\n",
       "</style>\n",
       "<table border=\"1\" class=\"dataframe\">\n",
       "  <thead>\n",
       "    <tr style=\"text-align: right;\">\n",
       "      <th></th>\n",
       "      <th>Address</th>\n",
       "      <th>Property_Info</th>\n",
       "      <th>Agent_logo</th>\n",
       "      <th>Agent</th>\n",
       "      <th>Agent_photo</th>\n",
       "      <th>Status</th>\n",
       "      <th>Bedrooms</th>\n",
       "      <th>Bathrooms</th>\n",
       "      <th>Car_park</th>\n",
       "      <th>Size_unit</th>\n",
       "      <th>Type</th>\n",
       "      <th>Sold_date</th>\n",
       "      <th>Suburb</th>\n",
       "      <th>Price</th>\n",
       "      <th>Size</th>\n",
       "    </tr>\n",
       "  </thead>\n",
       "  <tbody>\n",
       "    <tr>\n",
       "      <th>323</th>\n",
       "      <td>4/157 Dalmeny Street, Algester</td>\n",
       "      <td>https://www.realestate.com.au/sold/property-ho...</td>\n",
       "      <td>https://i2.au.reastatic.net/340x64/91a8160f9d1...</td>\n",
       "      <td>EMMA WALTER</td>\n",
       "      <td>https://i2.au.reastatic.net/150x200/e4191f782b...</td>\n",
       "      <td>Sold</td>\n",
       "      <td>3.0</td>\n",
       "      <td>2.0</td>\n",
       "      <td>1.0</td>\n",
       "      <td>m²</td>\n",
       "      <td>House</td>\n",
       "      <td>Sold on 05 Jun 2017</td>\n",
       "      <td>Algester</td>\n",
       "      <td>316000.0</td>\n",
       "      <td>163.0</td>\n",
       "    </tr>\n",
       "    <tr>\n",
       "      <th>344</th>\n",
       "      <td>8/72 Learoyd Road, Algester</td>\n",
       "      <td>https://www.realestate.com.au/sold/property-ho...</td>\n",
       "      <td>https://i2.au.reastatic.net/340x64/3fbb0a1151f...</td>\n",
       "      <td>NaN</td>\n",
       "      <td>NaN</td>\n",
       "      <td>Sold</td>\n",
       "      <td>4.0</td>\n",
       "      <td>2.0</td>\n",
       "      <td>2.0</td>\n",
       "      <td>m²</td>\n",
       "      <td>House</td>\n",
       "      <td>Sold on 15 Feb 2017</td>\n",
       "      <td>Algester</td>\n",
       "      <td>315000.0</td>\n",
       "      <td>94.0</td>\n",
       "    </tr>\n",
       "    <tr>\n",
       "      <th>390</th>\n",
       "      <td>24/18 Ackama Street, Algester</td>\n",
       "      <td>https://www.realestate.com.au/sold/property-ho...</td>\n",
       "      <td>https://i2.au.reastatic.net/340x64/3fbb0a1151f...</td>\n",
       "      <td>NaN</td>\n",
       "      <td>NaN</td>\n",
       "      <td>Sold</td>\n",
       "      <td>3.0</td>\n",
       "      <td>2.0</td>\n",
       "      <td>1.0</td>\n",
       "      <td>m²</td>\n",
       "      <td>House</td>\n",
       "      <td>Sold on 11 Jul 2016</td>\n",
       "      <td>Algester</td>\n",
       "      <td>307000.0</td>\n",
       "      <td>173.0</td>\n",
       "    </tr>\n",
       "  </tbody>\n",
       "</table>\n",
       "</div>"
      ],
      "text/plain": [
       "                            Address  \\\n",
       "323  4/157 Dalmeny Street, Algester   \n",
       "344     8/72 Learoyd Road, Algester   \n",
       "390   24/18 Ackama Street, Algester   \n",
       "\n",
       "                                         Property_Info  \\\n",
       "323  https://www.realestate.com.au/sold/property-ho...   \n",
       "344  https://www.realestate.com.au/sold/property-ho...   \n",
       "390  https://www.realestate.com.au/sold/property-ho...   \n",
       "\n",
       "                                            Agent_logo        Agent  \\\n",
       "323  https://i2.au.reastatic.net/340x64/91a8160f9d1...  EMMA WALTER   \n",
       "344  https://i2.au.reastatic.net/340x64/3fbb0a1151f...          NaN   \n",
       "390  https://i2.au.reastatic.net/340x64/3fbb0a1151f...          NaN   \n",
       "\n",
       "                                           Agent_photo Status  Bedrooms  \\\n",
       "323  https://i2.au.reastatic.net/150x200/e4191f782b...   Sold       3.0   \n",
       "344                                                NaN   Sold       4.0   \n",
       "390                                                NaN   Sold       3.0   \n",
       "\n",
       "     Bathrooms  Car_park Size_unit   Type            Sold_date     Suburb  \\\n",
       "323        2.0       1.0        m²  House  Sold on 05 Jun 2017   Algester   \n",
       "344        2.0       2.0        m²  House  Sold on 15 Feb 2017   Algester   \n",
       "390        2.0       1.0        m²  House  Sold on 11 Jul 2016   Algester   \n",
       "\n",
       "        Price   Size  \n",
       "323  316000.0  163.0  \n",
       "344  315000.0   94.0  \n",
       "390  307000.0  173.0  "
      ]
     },
     "execution_count": 68,
     "metadata": {},
     "output_type": "execute_result"
    }
   ],
   "source": [
    "#Now we see from the address that some of the houses with land size under 200 are actually Townhouses.\n",
    "#So let's update them to the correct property type.\n",
    "\n",
    "df_townhouse=df_all[(df_all.Size<=200)&(df_all['Type']=='House')]\n",
    "df_townhouse[:3]"
   ]
  },
  {
   "cell_type": "code",
   "execution_count": 69,
   "metadata": {},
   "outputs": [],
   "source": [
    "#We will update the property type to Townhouse if the type = House, and the size is <= 200, also the address contains \"/\"\n",
    "\n",
    "th_index=df_all[(df_all.Size<=200)&(df_all['Type']=='House')].Address.str.contains('/').index\n",
    "th_index\n",
    "\n",
    "for ind in th_index:\n",
    "    df_all.at[ind,'Type']='Townhouse'"
   ]
  },
  {
   "cell_type": "markdown",
   "metadata": {},
   "source": [
    "### Convert column \"Sold_date\" to datetime type"
   ]
  },
  {
   "cell_type": "code",
   "execution_count": 70,
   "metadata": {},
   "outputs": [
    {
     "data": {
      "text/html": [
       "<div>\n",
       "<style scoped>\n",
       "    .dataframe tbody tr th:only-of-type {\n",
       "        vertical-align: middle;\n",
       "    }\n",
       "\n",
       "    .dataframe tbody tr th {\n",
       "        vertical-align: top;\n",
       "    }\n",
       "\n",
       "    .dataframe thead th {\n",
       "        text-align: right;\n",
       "    }\n",
       "</style>\n",
       "<table border=\"1\" class=\"dataframe\">\n",
       "  <thead>\n",
       "    <tr style=\"text-align: right;\">\n",
       "      <th></th>\n",
       "      <th>Address</th>\n",
       "      <th>Property_Info</th>\n",
       "      <th>Agent_logo</th>\n",
       "      <th>Agent</th>\n",
       "      <th>Agent_photo</th>\n",
       "      <th>Status</th>\n",
       "      <th>Bedrooms</th>\n",
       "      <th>Bathrooms</th>\n",
       "      <th>Car_park</th>\n",
       "      <th>Size_unit</th>\n",
       "      <th>Type</th>\n",
       "      <th>Sold_date</th>\n",
       "      <th>Suburb</th>\n",
       "      <th>Price</th>\n",
       "      <th>Size</th>\n",
       "    </tr>\n",
       "  </thead>\n",
       "  <tbody>\n",
       "    <tr>\n",
       "      <th>0</th>\n",
       "      <td>58 Dalmeny Street, Algester</td>\n",
       "      <td>https://www.realestate.com.au/sold/property-ho...</td>\n",
       "      <td>https://i2.au.reastatic.net/340x64/d4ded41d266...</td>\n",
       "      <td>Michelle Huston &amp; Mark Kearns</td>\n",
       "      <td>https://i2.au.reastatic.net/150x200/8a5badd53f...</td>\n",
       "      <td>Sold</td>\n",
       "      <td>2.0</td>\n",
       "      <td>2.0</td>\n",
       "      <td>2.0</td>\n",
       "      <td>m²</td>\n",
       "      <td>House</td>\n",
       "      <td>Sold on 15 Dec 2020</td>\n",
       "      <td>Algester</td>\n",
       "      <td>700000.0</td>\n",
       "      <td>549.0</td>\n",
       "    </tr>\n",
       "    <tr>\n",
       "      <th>1</th>\n",
       "      <td>162 Delathin Road, Algester</td>\n",
       "      <td>https://www.realestate.com.au/sold/property-ho...</td>\n",
       "      <td>https://i2.au.reastatic.net/340x64/72065f86a98...</td>\n",
       "      <td>JJ Macalino</td>\n",
       "      <td>https://i2.au.reastatic.net/150x200/ff4dfb2ff3...</td>\n",
       "      <td>Sold</td>\n",
       "      <td>4.0</td>\n",
       "      <td>2.0</td>\n",
       "      <td>2.0</td>\n",
       "      <td>m²</td>\n",
       "      <td>House</td>\n",
       "      <td>Sold on 11 Dec 2020</td>\n",
       "      <td>Algester</td>\n",
       "      <td>600000.0</td>\n",
       "      <td>570.0</td>\n",
       "    </tr>\n",
       "    <tr>\n",
       "      <th>2</th>\n",
       "      <td>20 Springwater Place, Algester</td>\n",
       "      <td>https://www.realestate.com.au/sold/property-ho...</td>\n",
       "      <td>https://i2.au.reastatic.net/340x64/adf93bc0d60...</td>\n",
       "      <td>Andrea Manson</td>\n",
       "      <td>https://i2.au.reastatic.net/150x200/d84dba8712...</td>\n",
       "      <td>Sold</td>\n",
       "      <td>4.0</td>\n",
       "      <td>3.0</td>\n",
       "      <td>2.0</td>\n",
       "      <td>m²</td>\n",
       "      <td>House</td>\n",
       "      <td>Sold on 11 Dec 2020</td>\n",
       "      <td>Algester</td>\n",
       "      <td>577800.0</td>\n",
       "      <td>604.0</td>\n",
       "    </tr>\n",
       "    <tr>\n",
       "      <th>3</th>\n",
       "      <td>8 Limewood Place, Algester</td>\n",
       "      <td>https://www.realestate.com.au/sold/property-ho...</td>\n",
       "      <td>https://i2.au.reastatic.net/340x64/72065f86a98...</td>\n",
       "      <td>Gonnie Nahar</td>\n",
       "      <td>https://i2.au.reastatic.net/150x200/4b77daff58...</td>\n",
       "      <td>Sold</td>\n",
       "      <td>3.0</td>\n",
       "      <td>1.0</td>\n",
       "      <td>3.0</td>\n",
       "      <td>m²</td>\n",
       "      <td>House</td>\n",
       "      <td>Sold on 08 Dec 2020</td>\n",
       "      <td>Algester</td>\n",
       "      <td>515100.0</td>\n",
       "      <td>597.0</td>\n",
       "    </tr>\n",
       "    <tr>\n",
       "      <th>4</th>\n",
       "      <td>27 Owenia Street, Algester</td>\n",
       "      <td>https://www.realestate.com.au/sold/property-ho...</td>\n",
       "      <td>https://i2.au.reastatic.net/340x64/adf93bc0d60...</td>\n",
       "      <td>Andrea Manson</td>\n",
       "      <td>https://i2.au.reastatic.net/150x200/d84dba8712...</td>\n",
       "      <td>Sold</td>\n",
       "      <td>4.0</td>\n",
       "      <td>2.0</td>\n",
       "      <td>2.0</td>\n",
       "      <td>m²</td>\n",
       "      <td>House</td>\n",
       "      <td>Sold on 04 Dec 2020</td>\n",
       "      <td>Algester</td>\n",
       "      <td>546500.0</td>\n",
       "      <td>639.0</td>\n",
       "    </tr>\n",
       "  </tbody>\n",
       "</table>\n",
       "</div>"
      ],
      "text/plain": [
       "                          Address  \\\n",
       "0     58 Dalmeny Street, Algester   \n",
       "1     162 Delathin Road, Algester   \n",
       "2  20 Springwater Place, Algester   \n",
       "3      8 Limewood Place, Algester   \n",
       "4      27 Owenia Street, Algester   \n",
       "\n",
       "                                       Property_Info  \\\n",
       "0  https://www.realestate.com.au/sold/property-ho...   \n",
       "1  https://www.realestate.com.au/sold/property-ho...   \n",
       "2  https://www.realestate.com.au/sold/property-ho...   \n",
       "3  https://www.realestate.com.au/sold/property-ho...   \n",
       "4  https://www.realestate.com.au/sold/property-ho...   \n",
       "\n",
       "                                          Agent_logo  \\\n",
       "0  https://i2.au.reastatic.net/340x64/d4ded41d266...   \n",
       "1  https://i2.au.reastatic.net/340x64/72065f86a98...   \n",
       "2  https://i2.au.reastatic.net/340x64/adf93bc0d60...   \n",
       "3  https://i2.au.reastatic.net/340x64/72065f86a98...   \n",
       "4  https://i2.au.reastatic.net/340x64/adf93bc0d60...   \n",
       "\n",
       "                           Agent  \\\n",
       "0  Michelle Huston & Mark Kearns   \n",
       "1                    JJ Macalino   \n",
       "2                  Andrea Manson   \n",
       "3                   Gonnie Nahar   \n",
       "4                  Andrea Manson   \n",
       "\n",
       "                                         Agent_photo Status  Bedrooms  \\\n",
       "0  https://i2.au.reastatic.net/150x200/8a5badd53f...   Sold       2.0   \n",
       "1  https://i2.au.reastatic.net/150x200/ff4dfb2ff3...   Sold       4.0   \n",
       "2  https://i2.au.reastatic.net/150x200/d84dba8712...   Sold       4.0   \n",
       "3  https://i2.au.reastatic.net/150x200/4b77daff58...   Sold       3.0   \n",
       "4  https://i2.au.reastatic.net/150x200/d84dba8712...   Sold       4.0   \n",
       "\n",
       "   Bathrooms  Car_park Size_unit   Type            Sold_date     Suburb  \\\n",
       "0        2.0       2.0        m²  House  Sold on 15 Dec 2020   Algester   \n",
       "1        2.0       2.0        m²  House  Sold on 11 Dec 2020   Algester   \n",
       "2        3.0       2.0        m²  House  Sold on 11 Dec 2020   Algester   \n",
       "3        1.0       3.0        m²  House  Sold on 08 Dec 2020   Algester   \n",
       "4        2.0       2.0        m²  House  Sold on 04 Dec 2020   Algester   \n",
       "\n",
       "      Price   Size  \n",
       "0  700000.0  549.0  \n",
       "1  600000.0  570.0  \n",
       "2  577800.0  604.0  \n",
       "3  515100.0  597.0  \n",
       "4  546500.0  639.0  "
      ]
     },
     "execution_count": 70,
     "metadata": {},
     "output_type": "execute_result"
    }
   ],
   "source": [
    "#less than 1 % of the Sold_date value are missing, we can drop those rows as well\n",
    "\n",
    "df_all.dropna(axis=0,subset=['Sold_date'], inplace=True) \n",
    "df_all=df_all.reset_index(drop=True)\n",
    "df_all.head()"
   ]
  },
  {
   "cell_type": "code",
   "execution_count": 71,
   "metadata": {},
   "outputs": [],
   "source": [
    "df_all['Sold_date']=df_all['Sold_date'].str.replace('Sold on ', '') #remove the text \"Sold on\"\n",
    "df_all.Sold_date=pd.to_datetime(df_all.Sold_date) #conver the Sold_date into datetime type "
   ]
  },
  {
   "cell_type": "code",
   "execution_count": 72,
   "metadata": {},
   "outputs": [],
   "source": [
    "Sold_year=df_all['Sold_date'].dt.year #extract year from the Sold_date\n",
    "df_all['Sold_year']=Sold_year #assign the new Sold_year column back to df_all"
   ]
  },
  {
   "cell_type": "code",
   "execution_count": 73,
   "metadata": {
    "scrolled": true
   },
   "outputs": [
    {
     "data": {
      "text/plain": [
       "0       2020\n",
       "1       2020\n",
       "2       2020\n",
       "3       2020\n",
       "4       2020\n",
       "        ... \n",
       "8126    2015\n",
       "8127    2015\n",
       "8128    2015\n",
       "8129    2015\n",
       "8130    2014\n",
       "Name: Sold_year, Length: 8131, dtype: int64"
      ]
     },
     "execution_count": 73,
     "metadata": {},
     "output_type": "execute_result"
    }
   ],
   "source": [
    "df_all['Sold_year'].astype(np.int64) #convert year datatype to integer"
   ]
  },
  {
   "cell_type": "markdown",
   "metadata": {},
   "source": [
    "### Fill the missing values in any other columns "
   ]
  },
  {
   "cell_type": "code",
   "execution_count": 74,
   "metadata": {},
   "outputs": [],
   "source": [
    "#3 columns - 'Agent_logo', 'Agent', 'Agent_photo', we can simply fill the cell with \"unknown\"\n",
    "\n",
    "agent_cols=['Agent_logo', 'Agent', 'Agent_photo']\n",
    "for agent in agent_cols:\n",
    "    df_all[agent]=df_all[agent].fillna('unknown')"
   ]
  },
  {
   "cell_type": "code",
   "execution_count": 75,
   "metadata": {},
   "outputs": [],
   "source": [
    "#Column - \"Size_unit\" , we know all the landsize was measured by m², so we can fill all missing values with m²\n",
    "\n",
    "df_all['Size_unit']='m²'"
   ]
  },
  {
   "cell_type": "code",
   "execution_count": 76,
   "metadata": {},
   "outputs": [
    {
     "data": {
      "text/plain": [
       "(7932, 16)"
      ]
     },
     "execution_count": 76,
     "metadata": {},
     "output_type": "execute_result"
    }
   ],
   "source": [
    "# 2 Columns - \"Bedrooms\" and \"Bathrooms\" has ~3% missing values each, as we need the Bedroom num to compare the price, and the missing value means\n",
    "#these rows of data may not be useful for us. So we can drop them.\n",
    "\n",
    "df_all.dropna(axis=0, subset=['Bedrooms', 'Bathrooms'], inplace=True)\n",
    "df_all.shape"
   ]
  },
  {
   "cell_type": "code",
   "execution_count": 77,
   "metadata": {},
   "outputs": [],
   "source": [
    "# Column - \"Car_park\", we can fill the missing value with 0, as this is not so important in this case\n",
    "\n",
    "df_all['Car_park'].fillna(0, inplace=True)"
   ]
  },
  {
   "cell_type": "code",
   "execution_count": 78,
   "metadata": {},
   "outputs": [
    {
     "data": {
      "text/plain": [
       "House                   6317\n",
       "Townhouse               1232\n",
       "Apartment                143\n",
       "Unit                     136\n",
       "Villa                     78\n",
       "Block Of Units             7\n",
       "Duplex/Semi-Detached       5\n",
       "Other                      5\n",
       "Retirement Living          4\n",
       "Acreage                    3\n",
       "Terrace                    1\n",
       "Warehouse                  1\n",
       "Name: Type, dtype: int64"
      ]
     },
     "execution_count": 78,
     "metadata": {},
     "output_type": "execute_result"
    }
   ],
   "source": [
    "#Column - \"Type\" - we see \"Apartment\", \"Unit\" are listed seperatedly. As we are more interested in House type, let's combined these 2 types into \"Unit\"\n",
    "df_all['Type'].value_counts()"
   ]
  },
  {
   "cell_type": "code",
   "execution_count": 79,
   "metadata": {},
   "outputs": [
    {
     "data": {
      "text/plain": [
       "House                   6317\n",
       "Townhouse               1232\n",
       "Apartment                143\n",
       "Unit                     136\n",
       "Villa                     78\n",
       "Block Of Units             7\n",
       "Duplex/Semi-Detached       5\n",
       "Other                      5\n",
       "Retirement Living          4\n",
       "Acreage                    3\n",
       "Terrace                    1\n",
       "Warehouse                  1\n",
       "Name: Type, dtype: int64"
      ]
     },
     "execution_count": 79,
     "metadata": {},
     "output_type": "execute_result"
    }
   ],
   "source": [
    "apt=df_all['Type']=='Apartment'\n",
    "df_all['Type'].copy()[apt]='Unit'\n",
    "df_all['Type'].value_counts()"
   ]
  },
  {
   "cell_type": "code",
   "execution_count": 80,
   "metadata": {},
   "outputs": [
    {
     "data": {
      "text/plain": [
       "Address          0\n",
       "Property_Info    0\n",
       "Agent_logo       0\n",
       "Agent            0\n",
       "Agent_photo      0\n",
       "Status           0\n",
       "Bedrooms         0\n",
       "Bathrooms        0\n",
       "Car_park         0\n",
       "Size_unit        0\n",
       "Type             0\n",
       "Sold_date        0\n",
       "Suburb           0\n",
       "Price            0\n",
       "Size             0\n",
       "Sold_year        0\n",
       "dtype: int64"
      ]
     },
     "execution_count": 80,
     "metadata": {},
     "output_type": "execute_result"
    }
   ],
   "source": [
    "#check if there are any other columns still have missing values\n",
    "df_all['Size']=df_all['Size'].fillna(0)\n",
    "df_all.isnull().sum()"
   ]
  },
  {
   "cell_type": "code",
   "execution_count": 81,
   "metadata": {
    "scrolled": true
   },
   "outputs": [
    {
     "data": {
      "text/plain": [
       " Eight Mile Plains      1139\n",
       " Sunnybank Hills        1125\n",
       " Algester               1011\n",
       " Upper Mount Gravatt     894\n",
       " Wishart                 878\n",
       " Sunnybank               738\n",
       " Kuraby                  717\n",
       " Calamvale               535\n",
       " Coopers Plains          502\n",
       " Runcorn                 393\n",
       "Name: Suburb, dtype: int64"
      ]
     },
     "execution_count": 81,
     "metadata": {},
     "output_type": "execute_result"
    }
   ],
   "source": [
    "#fix the suburb\n",
    "df_all.Suburb.value_counts()"
   ]
  },
  {
   "cell_type": "code",
   "execution_count": 82,
   "metadata": {},
   "outputs": [
    {
     "data": {
      "text/plain": [
       "(7932, 16)"
      ]
     },
     "execution_count": 82,
     "metadata": {},
     "output_type": "execute_result"
    }
   ],
   "source": [
    "df_all.to_csv(\"df_all_10.csv\", index=False)\n",
    "df_all.shape"
   ]
  },
  {
   "cell_type": "code",
   "execution_count": 83,
   "metadata": {},
   "outputs": [
    {
     "data": {
      "text/html": [
       "<div>\n",
       "<style scoped>\n",
       "    .dataframe tbody tr th:only-of-type {\n",
       "        vertical-align: middle;\n",
       "    }\n",
       "\n",
       "    .dataframe tbody tr th {\n",
       "        vertical-align: top;\n",
       "    }\n",
       "\n",
       "    .dataframe thead th {\n",
       "        text-align: right;\n",
       "    }\n",
       "</style>\n",
       "<table border=\"1\" class=\"dataframe\">\n",
       "  <thead>\n",
       "    <tr style=\"text-align: right;\">\n",
       "      <th></th>\n",
       "      <th>Address</th>\n",
       "      <th>Property_Info</th>\n",
       "      <th>Agent_logo</th>\n",
       "      <th>Agent</th>\n",
       "      <th>Agent_photo</th>\n",
       "      <th>Status</th>\n",
       "      <th>Bedrooms</th>\n",
       "      <th>Bathrooms</th>\n",
       "      <th>Car_park</th>\n",
       "      <th>Size_unit</th>\n",
       "      <th>Type</th>\n",
       "      <th>Sold_date</th>\n",
       "      <th>Suburb</th>\n",
       "      <th>Price</th>\n",
       "      <th>Size</th>\n",
       "      <th>Sold_year</th>\n",
       "    </tr>\n",
       "  </thead>\n",
       "  <tbody>\n",
       "    <tr>\n",
       "      <th>0</th>\n",
       "      <td>58 Dalmeny Street, Algester</td>\n",
       "      <td>https://www.realestate.com.au/sold/property-ho...</td>\n",
       "      <td>https://i2.au.reastatic.net/340x64/d4ded41d266...</td>\n",
       "      <td>Michelle Huston &amp; Mark Kearns</td>\n",
       "      <td>https://i2.au.reastatic.net/150x200/8a5badd53f...</td>\n",
       "      <td>Sold</td>\n",
       "      <td>2.0</td>\n",
       "      <td>2.0</td>\n",
       "      <td>2.0</td>\n",
       "      <td>m²</td>\n",
       "      <td>House</td>\n",
       "      <td>2020-12-15</td>\n",
       "      <td>Algester</td>\n",
       "      <td>700000.0</td>\n",
       "      <td>549.0</td>\n",
       "      <td>2020</td>\n",
       "    </tr>\n",
       "    <tr>\n",
       "      <th>1</th>\n",
       "      <td>162 Delathin Road, Algester</td>\n",
       "      <td>https://www.realestate.com.au/sold/property-ho...</td>\n",
       "      <td>https://i2.au.reastatic.net/340x64/72065f86a98...</td>\n",
       "      <td>JJ Macalino</td>\n",
       "      <td>https://i2.au.reastatic.net/150x200/ff4dfb2ff3...</td>\n",
       "      <td>Sold</td>\n",
       "      <td>4.0</td>\n",
       "      <td>2.0</td>\n",
       "      <td>2.0</td>\n",
       "      <td>m²</td>\n",
       "      <td>House</td>\n",
       "      <td>2020-12-11</td>\n",
       "      <td>Algester</td>\n",
       "      <td>600000.0</td>\n",
       "      <td>570.0</td>\n",
       "      <td>2020</td>\n",
       "    </tr>\n",
       "    <tr>\n",
       "      <th>2</th>\n",
       "      <td>20 Springwater Place, Algester</td>\n",
       "      <td>https://www.realestate.com.au/sold/property-ho...</td>\n",
       "      <td>https://i2.au.reastatic.net/340x64/adf93bc0d60...</td>\n",
       "      <td>Andrea Manson</td>\n",
       "      <td>https://i2.au.reastatic.net/150x200/d84dba8712...</td>\n",
       "      <td>Sold</td>\n",
       "      <td>4.0</td>\n",
       "      <td>3.0</td>\n",
       "      <td>2.0</td>\n",
       "      <td>m²</td>\n",
       "      <td>House</td>\n",
       "      <td>2020-12-11</td>\n",
       "      <td>Algester</td>\n",
       "      <td>577800.0</td>\n",
       "      <td>604.0</td>\n",
       "      <td>2020</td>\n",
       "    </tr>\n",
       "    <tr>\n",
       "      <th>3</th>\n",
       "      <td>8 Limewood Place, Algester</td>\n",
       "      <td>https://www.realestate.com.au/sold/property-ho...</td>\n",
       "      <td>https://i2.au.reastatic.net/340x64/72065f86a98...</td>\n",
       "      <td>Gonnie Nahar</td>\n",
       "      <td>https://i2.au.reastatic.net/150x200/4b77daff58...</td>\n",
       "      <td>Sold</td>\n",
       "      <td>3.0</td>\n",
       "      <td>1.0</td>\n",
       "      <td>3.0</td>\n",
       "      <td>m²</td>\n",
       "      <td>House</td>\n",
       "      <td>2020-12-08</td>\n",
       "      <td>Algester</td>\n",
       "      <td>515100.0</td>\n",
       "      <td>597.0</td>\n",
       "      <td>2020</td>\n",
       "    </tr>\n",
       "    <tr>\n",
       "      <th>4</th>\n",
       "      <td>27 Owenia Street, Algester</td>\n",
       "      <td>https://www.realestate.com.au/sold/property-ho...</td>\n",
       "      <td>https://i2.au.reastatic.net/340x64/adf93bc0d60...</td>\n",
       "      <td>Andrea Manson</td>\n",
       "      <td>https://i2.au.reastatic.net/150x200/d84dba8712...</td>\n",
       "      <td>Sold</td>\n",
       "      <td>4.0</td>\n",
       "      <td>2.0</td>\n",
       "      <td>2.0</td>\n",
       "      <td>m²</td>\n",
       "      <td>House</td>\n",
       "      <td>2020-12-04</td>\n",
       "      <td>Algester</td>\n",
       "      <td>546500.0</td>\n",
       "      <td>639.0</td>\n",
       "      <td>2020</td>\n",
       "    </tr>\n",
       "  </tbody>\n",
       "</table>\n",
       "</div>"
      ],
      "text/plain": [
       "                          Address  \\\n",
       "0     58 Dalmeny Street, Algester   \n",
       "1     162 Delathin Road, Algester   \n",
       "2  20 Springwater Place, Algester   \n",
       "3      8 Limewood Place, Algester   \n",
       "4      27 Owenia Street, Algester   \n",
       "\n",
       "                                       Property_Info  \\\n",
       "0  https://www.realestate.com.au/sold/property-ho...   \n",
       "1  https://www.realestate.com.au/sold/property-ho...   \n",
       "2  https://www.realestate.com.au/sold/property-ho...   \n",
       "3  https://www.realestate.com.au/sold/property-ho...   \n",
       "4  https://www.realestate.com.au/sold/property-ho...   \n",
       "\n",
       "                                          Agent_logo  \\\n",
       "0  https://i2.au.reastatic.net/340x64/d4ded41d266...   \n",
       "1  https://i2.au.reastatic.net/340x64/72065f86a98...   \n",
       "2  https://i2.au.reastatic.net/340x64/adf93bc0d60...   \n",
       "3  https://i2.au.reastatic.net/340x64/72065f86a98...   \n",
       "4  https://i2.au.reastatic.net/340x64/adf93bc0d60...   \n",
       "\n",
       "                           Agent  \\\n",
       "0  Michelle Huston & Mark Kearns   \n",
       "1                    JJ Macalino   \n",
       "2                  Andrea Manson   \n",
       "3                   Gonnie Nahar   \n",
       "4                  Andrea Manson   \n",
       "\n",
       "                                         Agent_photo Status  Bedrooms  \\\n",
       "0  https://i2.au.reastatic.net/150x200/8a5badd53f...   Sold       2.0   \n",
       "1  https://i2.au.reastatic.net/150x200/ff4dfb2ff3...   Sold       4.0   \n",
       "2  https://i2.au.reastatic.net/150x200/d84dba8712...   Sold       4.0   \n",
       "3  https://i2.au.reastatic.net/150x200/4b77daff58...   Sold       3.0   \n",
       "4  https://i2.au.reastatic.net/150x200/d84dba8712...   Sold       4.0   \n",
       "\n",
       "   Bathrooms  Car_park Size_unit   Type  Sold_date     Suburb     Price  \\\n",
       "0        2.0       2.0        m²  House 2020-12-15   Algester  700000.0   \n",
       "1        2.0       2.0        m²  House 2020-12-11   Algester  600000.0   \n",
       "2        3.0       2.0        m²  House 2020-12-11   Algester  577800.0   \n",
       "3        1.0       3.0        m²  House 2020-12-08   Algester  515100.0   \n",
       "4        2.0       2.0        m²  House 2020-12-04   Algester  546500.0   \n",
       "\n",
       "    Size  Sold_year  \n",
       "0  549.0       2020  \n",
       "1  570.0       2020  \n",
       "2  604.0       2020  \n",
       "3  597.0       2020  \n",
       "4  639.0       2020  "
      ]
     },
     "execution_count": 83,
     "metadata": {},
     "output_type": "execute_result"
    }
   ],
   "source": [
    "df_all.head()"
   ]
  },
  {
   "cell_type": "markdown",
   "metadata": {},
   "source": [
    "The final cleaned data is stored in the df_all_10.csv file, which can be accessed through [this link](https://docs.google.com/spreadsheets/d/1iIhILDvN8bh42oT4sKpx7B-9ATjbD1CF0CAeOTHci94/edit?usp=sharing)"
   ]
  },
  {
   "cell_type": "code",
   "execution_count": null,
   "metadata": {},
   "outputs": [],
   "source": []
  }
 ],
 "metadata": {
  "hide_input": false,
  "kernelspec": {
   "display_name": "Python 3",
   "language": "python",
   "name": "python3"
  },
  "language_info": {
   "codemirror_mode": {
    "name": "ipython",
    "version": 3
   },
   "file_extension": ".py",
   "mimetype": "text/x-python",
   "name": "python",
   "nbconvert_exporter": "python",
   "pygments_lexer": "ipython3",
   "version": "3.7.3"
  },
  "toc": {
   "base_numbering": 1,
   "nav_menu": {},
   "number_sections": true,
   "sideBar": true,
   "skip_h1_title": false,
   "title_cell": "Table of Contents",
   "title_sidebar": "Contents",
   "toc_cell": false,
   "toc_position": {},
   "toc_section_display": true,
   "toc_window_display": false
  },
  "varInspector": {
   "cols": {
    "lenName": 16,
    "lenType": 16,
    "lenVar": 40
   },
   "kernels_config": {
    "python": {
     "delete_cmd_postfix": "",
     "delete_cmd_prefix": "del ",
     "library": "var_list.py",
     "varRefreshCmd": "print(var_dic_list())"
    },
    "r": {
     "delete_cmd_postfix": ") ",
     "delete_cmd_prefix": "rm(",
     "library": "var_list.r",
     "varRefreshCmd": "cat(var_dic_list()) "
    }
   },
   "types_to_exclude": [
    "module",
    "function",
    "builtin_function_or_method",
    "instance",
    "_Feature"
   ],
   "window_display": false
  }
 },
 "nbformat": 4,
 "nbformat_minor": 4
}
