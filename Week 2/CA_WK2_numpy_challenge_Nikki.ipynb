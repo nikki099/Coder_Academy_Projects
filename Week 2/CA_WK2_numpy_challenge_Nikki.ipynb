{
 "cells": [
  {
   "cell_type": "markdown",
   "metadata": {},
   "source": [
    "# Week 2 - Mini Assessment"
   ]
  },
  {
   "cell_type": "markdown",
   "metadata": {},
   "source": [
    "Welcome to your mini assessment for week two. A set of exercises using NumPy to make sure you get accustomed to one of the most widely used libraries in the data analytics/science community.\n",
    "\n",
    "Once you are done with the notebook, you should try to put it on GitHub under your respective folder for everything related to module 2. In addition let your instructor know that you have submitted this mini-assessment."
   ]
  },
  {
   "cell_type": "markdown",
   "metadata": {},
   "source": [
    "1. Import the numpy package and check its version."
   ]
  },
  {
   "cell_type": "code",
   "execution_count": 1,
   "metadata": {},
   "outputs": [],
   "source": [
    "#1\n",
    "import numpy as np"
   ]
  },
  {
   "cell_type": "code",
   "execution_count": null,
   "metadata": {},
   "outputs": [],
   "source": []
  },
  {
   "cell_type": "markdown",
   "metadata": {},
   "source": [
    "2. Create an numpy range of values from 0 to 49 and name it `mynums`. Print its output."
   ]
  },
  {
   "cell_type": "code",
   "execution_count": 2,
   "metadata": {},
   "outputs": [
    {
     "data": {
      "text/plain": [
       "array([ 0,  1,  2,  3,  4,  5,  6,  7,  8,  9, 10, 11, 12, 13, 14, 15, 16,\n",
       "       17, 18, 19, 20, 21, 22, 23, 24, 25, 26, 27, 28, 29, 30, 31, 32, 33,\n",
       "       34, 35, 36, 37, 38, 39, 40, 41, 42, 43, 44, 45, 46, 47, 48, 49])"
      ]
     },
     "execution_count": 2,
     "metadata": {},
     "output_type": "execute_result"
    }
   ],
   "source": [
    "#2\n",
    "mynums=np.arange(50)\n",
    "mynums"
   ]
  },
  {
   "cell_type": "code",
   "execution_count": null,
   "metadata": {},
   "outputs": [],
   "source": []
  },
  {
   "cell_type": "markdown",
   "metadata": {},
   "source": [
    "3. Reshape the array you created in step 2 into a matrix with the shape below and assign a copy of it to a variable called `my_matrix`. Print the matrix."
   ]
  },
  {
   "cell_type": "code",
   "execution_count": 33,
   "metadata": {},
   "outputs": [
    {
     "name": "stdout",
     "output_type": "stream",
     "text": [
      "[[ 0  1  2  3  4  5  6  7  8  9]\n",
      " [10 11 12 13 14 15 16 17 18 19]\n",
      " [20 21 22 23 24 25 26 27 28 29]\n",
      " [30 31 32 33 34 35 36 37 38 39]\n",
      " [40 41 42 43 44 45 46 47 48 49]] \n",
      "\n",
      "My_matrix shape is: (5, 10)\n"
     ]
    }
   ],
   "source": [
    "#3\n",
    "my_matrix=mynums.reshape(5,10)\n",
    "print(my_matrix, '\\n')\n",
    "print('My_matrix shape is:',my_matrix.shape)"
   ]
  },
  {
   "cell_type": "code",
   "execution_count": null,
   "metadata": {},
   "outputs": [],
   "source": []
  },
  {
   "cell_type": "markdown",
   "metadata": {},
   "source": [
    "4. Create a linearly-spaced array of size 100 between the numbers 20 to 100, assign it to the variable, `num_increases` and print it."
   ]
  },
  {
   "cell_type": "code",
   "execution_count": 4,
   "metadata": {},
   "outputs": [
    {
     "data": {
      "text/plain": [
       "array([ 20.        ,  20.80808081,  21.61616162,  22.42424242,\n",
       "        23.23232323,  24.04040404,  24.84848485,  25.65656566,\n",
       "        26.46464646,  27.27272727,  28.08080808,  28.88888889,\n",
       "        29.6969697 ,  30.50505051,  31.31313131,  32.12121212,\n",
       "        32.92929293,  33.73737374,  34.54545455,  35.35353535,\n",
       "        36.16161616,  36.96969697,  37.77777778,  38.58585859,\n",
       "        39.39393939,  40.2020202 ,  41.01010101,  41.81818182,\n",
       "        42.62626263,  43.43434343,  44.24242424,  45.05050505,\n",
       "        45.85858586,  46.66666667,  47.47474747,  48.28282828,\n",
       "        49.09090909,  49.8989899 ,  50.70707071,  51.51515152,\n",
       "        52.32323232,  53.13131313,  53.93939394,  54.74747475,\n",
       "        55.55555556,  56.36363636,  57.17171717,  57.97979798,\n",
       "        58.78787879,  59.5959596 ,  60.4040404 ,  61.21212121,\n",
       "        62.02020202,  62.82828283,  63.63636364,  64.44444444,\n",
       "        65.25252525,  66.06060606,  66.86868687,  67.67676768,\n",
       "        68.48484848,  69.29292929,  70.1010101 ,  70.90909091,\n",
       "        71.71717172,  72.52525253,  73.33333333,  74.14141414,\n",
       "        74.94949495,  75.75757576,  76.56565657,  77.37373737,\n",
       "        78.18181818,  78.98989899,  79.7979798 ,  80.60606061,\n",
       "        81.41414141,  82.22222222,  83.03030303,  83.83838384,\n",
       "        84.64646465,  85.45454545,  86.26262626,  87.07070707,\n",
       "        87.87878788,  88.68686869,  89.49494949,  90.3030303 ,\n",
       "        91.11111111,  91.91919192,  92.72727273,  93.53535354,\n",
       "        94.34343434,  95.15151515,  95.95959596,  96.76767677,\n",
       "        97.57575758,  98.38383838,  99.19191919, 100.        ])"
      ]
     },
     "execution_count": 4,
     "metadata": {},
     "output_type": "execute_result"
    }
   ],
   "source": [
    "#4\n",
    "num_increase=np.linspace(20,100,100)\n",
    "num_increase"
   ]
  },
  {
   "cell_type": "code",
   "execution_count": null,
   "metadata": {
    "scrolled": false
   },
   "outputs": [],
   "source": []
  },
  {
   "cell_type": "markdown",
   "metadata": {},
   "source": [
    "5. Create an numpy array with 20 zeros, assign it to the variable `zeroes`."
   ]
  },
  {
   "cell_type": "code",
   "execution_count": 34,
   "metadata": {},
   "outputs": [
    {
     "data": {
      "text/plain": [
       "array([0, 0, 0, 0, 0, 0, 0, 0, 0, 0, 0, 0, 0, 0, 0, 0, 0, 0, 0, 0],\n",
       "      dtype=int8)"
      ]
     },
     "execution_count": 34,
     "metadata": {},
     "output_type": "execute_result"
    }
   ],
   "source": [
    "#5\n",
    "zeroes=np.zeros(20, dtype=\"int8\")\n",
    "zeroes"
   ]
  },
  {
   "cell_type": "code",
   "execution_count": null,
   "metadata": {},
   "outputs": [],
   "source": []
  },
  {
   "cell_type": "markdown",
   "metadata": {},
   "source": [
    "6. Create a two dimensional array of size 7 by 8 filled with 1s and do the following:\n",
    "<br>-6.1 mulptiply the first rows by 2\n",
    "<br>-6.2 add 3, and raise to the power of two the odd columns starting from the beginning\n",
    "<br>-6.3 subtract 10 and multiply by 15 the elements in the even rows and odd columns"
   ]
  },
  {
   "cell_type": "code",
   "execution_count": 70,
   "metadata": {
    "scrolled": false
   },
   "outputs": [
    {
     "name": "stdout",
     "output_type": "stream",
     "text": [
      "[[1 1 1 1 1 1 1 1]\n",
      " [1 1 1 1 1 1 1 1]\n",
      " [1 1 1 1 1 1 1 1]\n",
      " [1 1 1 1 1 1 1 1]\n",
      " [1 1 1 1 1 1 1 1]\n",
      " [1 1 1 1 1 1 1 1]\n",
      " [1 1 1 1 1 1 1 1]]\n",
      "\n",
      "The array dimension is: 2\n"
     ]
    }
   ],
   "source": [
    "#6.Create a two dimensional array of size 7 by 8 filled with 1s and do the following:\n",
    "ones=np.ones((7,8), dtype='int8')\n",
    "print(ones)\n",
    "print()\n",
    "print('The array dimension is:', ones.ndim )"
   ]
  },
  {
   "cell_type": "code",
   "execution_count": 71,
   "metadata": {
    "scrolled": true
   },
   "outputs": [
    {
     "data": {
      "text/plain": [
       "array([2, 2, 2, 2, 2, 2, 2, 2], dtype=int8)"
      ]
     },
     "execution_count": 71,
     "metadata": {},
     "output_type": "execute_result"
    }
   ],
   "source": [
    "#6.1. mulptiply the first rows by 2\n",
    "\n",
    "ones[0]=ones[0]*2\n",
    "ones[0]"
   ]
  },
  {
   "cell_type": "code",
   "execution_count": 73,
   "metadata": {
    "scrolled": true
   },
   "outputs": [
    {
     "data": {
      "text/plain": [
       "array([[25, 25, 25, 25],\n",
       "       [16, 16, 16, 16],\n",
       "       [16, 16, 16, 16],\n",
       "       [16, 16, 16, 16],\n",
       "       [16, 16, 16, 16],\n",
       "       [16, 16, 16, 16],\n",
       "       [16, 16, 16, 16]], dtype=int8)"
      ]
     },
     "execution_count": 73,
     "metadata": {},
     "output_type": "execute_result"
    }
   ],
   "source": [
    "#6.2. add 3, and raise to the power of two the odd columns starting from the beginning\n",
    "odd_col_index=[1,3,5,7]\n",
    "\n",
    "ones[:,1::2]=(ones[:,1::2]+3)**2\n",
    "ones[:,1::2]"
   ]
  },
  {
   "cell_type": "code",
   "execution_count": 74,
   "metadata": {
    "scrolled": true
   },
   "outputs": [
    {
     "name": "stdout",
     "output_type": "stream",
     "text": [
      "(7, 8)\n"
     ]
    },
    {
     "data": {
      "text/plain": [
       "array([[-31, -31, -31, -31],\n",
       "       [ 90,  90,  90,  90],\n",
       "       [ 90,  90,  90,  90],\n",
       "       [ 90,  90,  90,  90]], dtype=int8)"
      ]
     },
     "execution_count": 74,
     "metadata": {},
     "output_type": "execute_result"
    }
   ],
   "source": [
    "#6.3. subtract 10 and multiply by 15 the elements in the even rows and odd columns\n",
    "ones[::2,1::2]=(ones[::2,1::2]-10)*15\n",
    "ones[::2,1::2]"
   ]
  },
  {
   "cell_type": "code",
   "execution_count": null,
   "metadata": {
    "scrolled": true
   },
   "outputs": [],
   "source": []
  },
  {
   "cell_type": "markdown",
   "metadata": {},
   "source": [
    "7. Create a numpy array starting at 20 and ending at 40 with 10 equally spaced values. Print your result."
   ]
  },
  {
   "cell_type": "code",
   "execution_count": 12,
   "metadata": {},
   "outputs": [
    {
     "data": {
      "text/plain": [
       "array([20.        , 22.22222222, 24.44444444, 26.66666667, 28.88888889,\n",
       "       31.11111111, 33.33333333, 35.55555556, 37.77777778, 40.        ])"
      ]
     },
     "execution_count": 12,
     "metadata": {},
     "output_type": "execute_result"
    }
   ],
   "source": [
    "np.linspace(20,40,10)"
   ]
  },
  {
   "cell_type": "code",
   "execution_count": null,
   "metadata": {},
   "outputs": [],
   "source": []
  },
  {
   "cell_type": "markdown",
   "metadata": {},
   "source": [
    "8. Create a 9 by 9 matrix with random integers from 100 to 500 and use the dtype \"int32\"."
   ]
  },
  {
   "cell_type": "code",
   "execution_count": 89,
   "metadata": {},
   "outputs": [
    {
     "name": "stdout",
     "output_type": "stream",
     "text": [
      "\n",
      "Below is the initial matrix:\n",
      "\n",
      "[365 131 444 138 239 400 271 363 212 196 449 460 252 399 279 366 194 149\n",
      " 374 224 238 161 490 235 307 496 471 228 359 151 499 295 181 415 422 499\n",
      " 417 119 272 443 161 121 476 484 419 194 229 440 334 288 304 122 242 274\n",
      " 336 204 388 308 298 410 252 317 263 157 259 350 395 370 469 210 369 119\n",
      " 243 453 269 263 125 481 279 134 250]\n",
      "\n",
      "Below is the reshaped matrix\n"
     ]
    },
    {
     "data": {
      "text/plain": [
       "array([[365, 131, 444, 138, 239, 400, 271, 363, 212],\n",
       "       [196, 449, 460, 252, 399, 279, 366, 194, 149],\n",
       "       [374, 224, 238, 161, 490, 235, 307, 496, 471],\n",
       "       [228, 359, 151, 499, 295, 181, 415, 422, 499],\n",
       "       [417, 119, 272, 443, 161, 121, 476, 484, 419],\n",
       "       [194, 229, 440, 334, 288, 304, 122, 242, 274],\n",
       "       [336, 204, 388, 308, 298, 410, 252, 317, 263],\n",
       "       [157, 259, 350, 395, 370, 469, 210, 369, 119],\n",
       "       [243, 453, 269, 263, 125, 481, 279, 134, 250]])"
      ]
     },
     "execution_count": 89,
     "metadata": {},
     "output_type": "execute_result"
    }
   ],
   "source": [
    "print(\"\\nBelow is the initial matrix:\\n\")\n",
    "matrix=np.random.randint(100,500, size=(9*9),dtype='int32')\n",
    "\n",
    "print(matrix)\n",
    "print(\"\\nBelow is the reshaped matrix\")\n",
    "matrix.reshape(9,9)\n"
   ]
  },
  {
   "cell_type": "code",
   "execution_count": null,
   "metadata": {},
   "outputs": [],
   "source": []
  },
  {
   "cell_type": "markdown",
   "metadata": {},
   "source": [
    "9. Create an empty array of 20 elements with shape 2 by 10, dtype 'float32' and add a different number to each row."
   ]
  },
  {
   "cell_type": "code",
   "execution_count": 113,
   "metadata": {
    "scrolled": true
   },
   "outputs": [
    {
     "name": "stdout",
     "output_type": "stream",
     "text": [
      "[[11.404966  10.327561  10.290468  11.166316  11.088625  10.032078\n",
      "  10.95538   10.621864  10.336212  11.894518 ]\n",
      " [10.57457   11.014786  10.55241   10.389251  10.497087  10.685261\n",
      "  11.269937  11.156866  10.155604  11.3226385]]\n"
     ]
    },
    {
     "data": {
      "text/plain": [
       "array([[16.404966, 15.327561, 15.290468, 16.166317, 16.088625, 15.032078,\n",
       "        15.95538 , 15.621864, 15.336212, 16.894518],\n",
       "       [15.57457 , 16.014786, 15.55241 , 15.389251, 15.497087, 15.685261,\n",
       "        16.269936, 16.156866, 15.155604, 16.32264 ]], dtype=float32)"
      ]
     },
     "execution_count": 113,
     "metadata": {},
     "output_type": "execute_result"
    }
   ],
   "source": [
    "empty_array=np.empty((2, 10),dtype='float32')\n",
    "print(empty_array)\n",
    "\n",
    "empty_array+5"
   ]
  },
  {
   "cell_type": "code",
   "execution_count": null,
   "metadata": {},
   "outputs": [],
   "source": []
  },
  {
   "cell_type": "markdown",
   "metadata": {},
   "source": [
    "10. Create an array with 15 random numbers between 100 and 200 and print the maximum value of the array."
   ]
  },
  {
   "cell_type": "code",
   "execution_count": 15,
   "metadata": {},
   "outputs": [
    {
     "name": "stdout",
     "output_type": "stream",
     "text": [
      "[137 112 172 109 175 105 179 164 116 101 176 171 106 125 150]\n",
      "The max value of the array is: 179\n"
     ]
    }
   ],
   "source": [
    "np.random.seed(1)\n",
    "a=np.random.randint(100,200,15)\n",
    "print(a)\n",
    "print(\"The max value of the array is:\",max(a))\n",
    "#double check if this is the correct answer for Q10."
   ]
  },
  {
   "cell_type": "code",
   "execution_count": null,
   "metadata": {},
   "outputs": [],
   "source": []
  },
  {
   "cell_type": "markdown",
   "metadata": {},
   "source": [
    "11. Create an array with the following numbers [40, 41, 26, 14, 15, 47, 43, 33, 44, 22], and assign it to a variable\n",
    "<br>- 11.1 create a slice from the 5th to 10th element, and assign it to a variable </b>\n",
    "<br>- 11.2 change the value of both arrays with any operation you'd like (add, subtract, multiply, etc.), and </b>\n",
    "<br>- 11.3 then print all 3 (the first array and your next two variables).</b>"
   ]
  },
  {
   "cell_type": "code",
   "execution_count": 114,
   "metadata": {},
   "outputs": [
    {
     "data": {
      "text/plain": [
       "array([40, 41, 26, 14, 15, 47, 43, 33, 44, 22])"
      ]
     },
     "execution_count": 114,
     "metadata": {},
     "output_type": "execute_result"
    }
   ],
   "source": [
    "#11.Create an array with the following numbers [40, 41, 26, 14, 15, 47, 43, 33, 44, 22], and assign it to a variable\n",
    "var1=np.array([40, 41, 26, 14, 15, 47, 43, 33, 44, 22])\n",
    "var1"
   ]
  },
  {
   "cell_type": "code",
   "execution_count": 115,
   "metadata": {},
   "outputs": [
    {
     "data": {
      "text/plain": [
       "array([15, 47, 43, 33, 44, 22])"
      ]
     },
     "execution_count": 115,
     "metadata": {},
     "output_type": "execute_result"
    }
   ],
   "source": [
    "#11.1 create a slice from the 5th to 10th element, and assign it to a variable\n",
    "var2=var[4:10]\n",
    "var2"
   ]
  },
  {
   "cell_type": "code",
   "execution_count": 116,
   "metadata": {},
   "outputs": [],
   "source": [
    "#11.2 change the value of both arrays with any operation you'd like (add, subtract, multiply, etc.), and\n",
    "var2_new=var2*10\n",
    "var1_new=var1-3"
   ]
  },
  {
   "cell_type": "code",
   "execution_count": 117,
   "metadata": {},
   "outputs": [
    {
     "name": "stdout",
     "output_type": "stream",
     "text": [
      "var1_new [37 38 23 11 12 44 40 30 41 19]\n",
      "var2_new [150 470 430 330 440 220]\n"
     ]
    }
   ],
   "source": [
    "print('var1_new',var1_new)\n",
    "print('var2_new',var2_new)\n"
   ]
  },
  {
   "cell_type": "code",
   "execution_count": null,
   "metadata": {},
   "outputs": [],
   "source": []
  },
  {
   "cell_type": "markdown",
   "metadata": {},
   "source": [
    "12. Create an array of 360 random numbers from -10 to 50 (to resemble the weather) and find the min, max, 25th percentile, 75 percentile, average, and the median."
   ]
  },
  {
   "cell_type": "code",
   "execution_count": 219,
   "metadata": {
    "scrolled": false
   },
   "outputs": [
    {
     "data": {
      "text/plain": [
       "array([ 30,   5,  35,  -2,  12,  33,   8,   1,  30,  -3,  24,  39,  21,\n",
       "         1,  11,  37,  21,  16,  10,  42,  27,  29,  -7,  28,  -6,  32,\n",
       "        33,  41,  29,  28,  32,  23,  48,  -7,  -5,  14,  -6,  36,  -4,\n",
       "        21,   9,  47,  21,  -8,   6,  42,  36,   2,  40,  -6,  16,   5,\n",
       "        39,  29,  36,  -2,  40,  35,  48,   5,  31,  35,  -2,  45,   7,\n",
       "        12,  46,  48,  43,  -1,  47,  31,  36,  16,   9,  22,  33,  22,\n",
       "        16,  40,  -2,   2,   0,  30,  24,  -1,  44,  27,  -4,  12,  -4,\n",
       "         9,  46,   8,  -9,  -6,  30,   7,  -4,  47,  27,  23,   8,  10,\n",
       "        16,  13,  12,  33,  42,  27,   0,  -2,  16,  25,  17,  22,   6,\n",
       "        43,  45,  49,  11,  33,  19,   6,  30,  -4,   0,  27,  49,   7,\n",
       "         5,  20,   3,  16,  29,  33,  37,  10,  41,  12,  49,  39,  26,\n",
       "        48,  17, -10,  30,  48,  43,  18,  26,   1,  36,  40,  -1,  -3,\n",
       "        39,  47,   8,  -9,   5,  17,  36,  22,  29,  39,  30,  34,  36,\n",
       "        49,  -1,  33,   4,  20,  36,  21,  22,  45,   6,  11,  33,  48,\n",
       "        24,  11,  32,  39,   9,  18,  41,  23,  -2,  33,  12,  14,  37,\n",
       "         1,  -9,  33,  -5,  49,  -3,   6,  31,  18,   5,  48,   7,  27,\n",
       "        47,  21,  24,   6,  32,  38,  26,  12,   9,  21,   7,  35,  -2,\n",
       "        27,  -1,  11,  26,  40,  29,  30,  29,   9,  49,  16,  26,  30,\n",
       "        28,   9,  46,  -2,   4,  43,  39,  41,  41,  17,  -7,   5,  -8,\n",
       "        12,  -5,  -5,   8,  27,  19,   2,  18,  -4,  39,  34,  -5,   6,\n",
       "        -5,  42,  46,  16,   9,  29,  27,  15,  26,   5,  11,   8,  12,\n",
       "        19,   4, -10,  -5,  13,  23,  28,  -3,  22,  39,   8,  19,   5,\n",
       "        35,  18,  10,  16,   6,  -4,  28,  14,  -4,  33,  47,  11,  39,\n",
       "        11,  31,  26,  31,  30,   9,  -6,  44,  24,  48,   2,  49,   5,\n",
       "        37,  42,  29,  11,  -9,  41,  35,  18,  13,  26,  43,   7,   8,\n",
       "        18,  17,  41,  32,  28,   0,  16,  35,  23,  -8,  49,  47,  28,\n",
       "        22,  11,   2,   9,  43,   8,  48,  -2,   1,  31,  48,  13,  17,\n",
       "        48,  41,   6,  -6,  37,   2,  44,  24,  13])"
      ]
     },
     "execution_count": 219,
     "metadata": {},
     "output_type": "execute_result"
    }
   ],
   "source": [
    "np.random.seed(2)\n",
    "temp=np.random.randint(-10,50,360)\n",
    "temp1=temp.reshape(1,360)\n",
    "temp"
   ]
  },
  {
   "cell_type": "code",
   "execution_count": 231,
   "metadata": {
    "scrolled": true
   },
   "outputs": [
    {
     "name": "stdout",
     "output_type": "stream",
     "text": [
      "Temp Min: -10\n",
      "Temp Max: 49\n",
      "Temp 25th percentile: 7.0\n",
      "Temp 75th percentile: 35.0\n",
      "Temp avg: 20.6\n",
      "Temp median: 21.0\n"
     ]
    }
   ],
   "source": [
    "#find the min, max, 25th percentile, 75 percentile, average, and the median.\n",
    "def temp_stats(temp):\n",
    "    print(\"Temp Min:\", np.min(temp))\n",
    "    print(\"Temp Max:\", np.max(temp))\n",
    "    print(\"Temp 25th percentile:\", np.percentile(temp,25))\n",
    "    print(\"Temp 75th percentile:\", np.percentile(temp,75))\n",
    "    print(\"Temp avg:\", round(np.mean(temp),1))\n",
    "    print(\"Temp median:\", np.median(temp))\n",
    "    \n",
    "    \n",
    "temp_stats(temp=temp)"
   ]
  },
  {
   "cell_type": "markdown",
   "metadata": {},
   "source": [
    "13. Reshape the array you created in step 12 into a matrix of 300 by 12 and get the same values but only for the months this time."
   ]
  },
  {
   "cell_type": "code",
   "execution_count": 232,
   "metadata": {
    "scrolled": true
   },
   "outputs": [
    {
     "name": "stdout",
     "output_type": "stream",
     "text": [
      "new shape is: (12, 30)\n"
     ]
    }
   ],
   "source": [
    "temp2=temp1.reshape((12,30))\n",
    "print(\"new shape is:\",temp2.shape)"
   ]
  },
  {
   "cell_type": "code",
   "execution_count": 236,
   "metadata": {
    "scrolled": false
   },
   "outputs": [
    {
     "name": "stdout",
     "output_type": "stream",
     "text": [
      "Temp Stats - Jan:\n",
      "Temp Min: -7\n",
      "Temp Max: 42\n",
      "Temp 25th percentile: 8.5\n",
      "Temp 75th percentile: 31.5\n",
      "Temp avg: 20.2\n",
      "Temp median: 25.5\n",
      "\n",
      "Temp Stats - Feb:\n",
      "Temp Min: -8\n",
      "Temp Max: 48\n",
      "Temp 25th percentile: 2.75\n",
      "Temp 75th percentile: 36.0\n",
      "Temp avg: 19.7\n",
      "Temp median: 21.0\n",
      "\n",
      "Temp Stats - Mar:\n",
      "Temp Min: -4\n",
      "Temp Max: 48\n",
      "Temp 25th percentile: 7.5\n",
      "Temp 75th percentile: 35.75\n",
      "Temp avg: 22.3\n",
      "Temp median: 23.0\n",
      "\n",
      "Temp Stats - Apr:\n",
      "Temp Min: -9\n",
      "Temp Max: 49\n",
      "Temp 25th percentile: 7.25\n",
      "Temp 75th percentile: 29.25\n",
      "Temp avg: 18.5\n",
      "Temp median: 16.0\n",
      "\n",
      "Temp Stats - May:\n",
      "Temp Min: -10\n",
      "Temp Max: 49\n",
      "Temp 25th percentile: 10.25\n",
      "Temp 75th percentile: 36.0\n",
      "Temp avg: 23.1\n",
      "Temp median: 23.0\n",
      "\n",
      "Temp Stats - Jun:\n",
      "Temp Min: -9\n",
      "Temp Max: 49\n",
      "Temp 25th percentile: 6.5\n",
      "Temp 75th percentile: 36.0\n",
      "Temp avg: 22.6\n",
      "Temp median: 24.0\n",
      "\n",
      "Temp Stats - Jul:\n",
      "Temp Min: -9\n",
      "Temp Max: 49\n",
      "Temp 25th percentile: 7.5\n",
      "Temp 75th percentile: 33.0\n",
      "Temp avg: 21.6\n",
      "Temp median: 22.0\n",
      "\n",
      "Temp Stats - Aug:\n",
      "Temp Min: -2\n",
      "Temp Max: 49\n",
      "Temp 25th percentile: 9.0\n",
      "Temp 75th percentile: 30.0\n",
      "Temp avg: 21.9\n",
      "Temp median: 26.0\n",
      "\n",
      "Temp Stats - Sep:\n",
      "Temp Min: -8\n",
      "Temp Max: 46\n",
      "Temp 25th percentile: 2.75\n",
      "Temp 75th percentile: 28.5\n",
      "Temp avg: 16.1\n",
      "Temp median: 15.5\n",
      "\n",
      "Temp Stats - Oct:\n",
      "Temp Min: -10\n",
      "Temp Max: 47\n",
      "Temp 25th percentile: 6.5\n",
      "Temp 75th percentile: 22.75\n",
      "Temp avg: 15.1\n",
      "Temp median: 12.5\n",
      "\n",
      "Temp Stats - Nov:\n",
      "Temp Min: -9\n",
      "Temp Max: 49\n",
      "Temp 25th percentile: 11.5\n",
      "Temp 75th percentile: 36.5\n",
      "Temp avg: 24.3\n",
      "Temp median: 27.0\n",
      "\n",
      "Temp Stats - Dec:\n",
      "Temp Min: -8\n",
      "Temp Max: 49\n",
      "Temp 25th percentile: 6.5\n",
      "Temp 75th percentile: 40.0\n",
      "Temp avg: 21.7\n",
      "Temp median: 19.5\n",
      "\n"
     ]
    }
   ],
   "source": [
    "months=[\"Jan\", \"Feb\", \"Mar\", \"Apr\", \"May\", \"Jun\", \"Jul\", \"Aug\", \"Sep\", \"Oct\", \"Nov\", \"Dec\"]\n",
    "\n",
    "for x in range(len(temp2)):\n",
    "    month_num=months[x]\n",
    "    month_temp=temp2[x]\n",
    "    \n",
    "    print(f\"Temp Stats - {month_num}:\")\n",
    "    temp_stats(temp=month_temp)\n",
    "    print()    "
   ]
  },
  {
   "cell_type": "code",
   "execution_count": null,
   "metadata": {},
   "outputs": [],
   "source": []
  },
  {
   "cell_type": "markdown",
   "metadata": {},
   "source": [
    "14. Create a mask for your data, and filter out and print:\n",
    "<br>-14.1 the average temperature of the days where the temperature was below 10\n",
    "<br>-14.2 the average temperature of the days where the temperature was greater than 30"
   ]
  },
  {
   "cell_type": "code",
   "execution_count": 164,
   "metadata": {},
   "outputs": [
    {
     "name": "stdout",
     "output_type": "stream",
     "text": [
      "Avg temp is:  -0.28\n",
      "\n",
      "All temps that is under 10: [  2  -2  -1   1  -5   5 -10   6  -9   2  -3  -4   8   1   4  -6   3  -1\n",
      "  -3  -9 -10   7  -2   3  -2  -3  -7  -4  -7  -6   2   6   8   5 -10  -6\n",
      "  -3  -1  -7   9  -2   0   5  -3   0  -9   3  -7 -10   3  -4  -4  -8   2\n",
      "   1  -3   3  -2   1   2  -3  -6   8   3   0   7  -3   0   2  -9   8  -8\n",
      "   0   8  -4  -8  -3   5  -5   7   3   0   9   4   3  -4   3   5  -1  -8\n",
      "  -3  -5   3   3   4   6  -7  -8   4 -10   1  -8   9   8   0  -2  -2   3\n",
      "   5 -10   9   5   4   9  -3   9  -7   9  -5   5   0  -8   7  -6 -10   4\n",
      "   7   7   0   3  -4 -10   6   9  -1]\n"
     ]
    }
   ],
   "source": [
    "#14.1 the average temperature of the days where the temperature was below 10\n",
    "# temp2[temp2<10]\n",
    "temp_under_10=temp2[temp2<10]\n",
    "avg_temp=round(np.mean(temp_under_10),2)\n",
    "print('Avg temp is: ',avg_temp)\n",
    "print('\\nAll temps that is under 10:', temp_under_10)"
   ]
  },
  {
   "cell_type": "code",
   "execution_count": 238,
   "metadata": {
    "scrolled": true
   },
   "outputs": [
    {
     "name": "stdout",
     "output_type": "stream",
     "text": [
      "Avg temp is:  40.17\n",
      "\n",
      "All temps that is above 30: [35 33 39 37 42 32 33 41 32 48 36 47 42 36 40 39 36 40 35 48 31 35 45 46\n",
      " 48 43 47 31 36 33 40 44 46 47 33 42 43 45 49 33 49 33 37 41 49 39 48 48\n",
      " 43 36 40 39 47 36 39 34 36 49 33 36 45 33 48 32 39 41 33 37 33 49 31 48\n",
      " 47 32 38 35 40 49 46 43 39 41 41 39 34 42 46 39 35 33 47 39 31 31 44 48\n",
      " 49 37 42 41 35 43 41 32 35 49 47 43 48 31 48 48 41 37 44]\n"
     ]
    }
   ],
   "source": [
    "#14.2  the average temperature of the days where the temperature was greater than 30\n",
    "temp_above_30=temp2[temp2>30]\n",
    "avg_temp=round(np.mean(temp_above_30),2)\n",
    "print('Avg temp is: ',avg_temp)\n",
    "print('\\nAll temps that is above 30:', temp_above_30)"
   ]
  },
  {
   "cell_type": "code",
   "execution_count": null,
   "metadata": {},
   "outputs": [],
   "source": []
  },
  {
   "cell_type": "markdown",
   "metadata": {},
   "source": [
    "15. Create a full 10 by 10 matrix with a number of your choosing and assign it to a variable. After printing that variables, unravel the matrix and assign the array to a new number."
   ]
  },
  {
   "cell_type": "code",
   "execution_count": 166,
   "metadata": {},
   "outputs": [
    {
     "data": {
      "text/plain": [
       "array([[ 56, 116,  15,  73,  28,  19,  68,  26,  51,   8],\n",
       "       [ 61,  93,  85,  51,  59,  84,  76,  19,  82,  20],\n",
       "       [ 30,  58,  89,  63,  90, 119, 115,  34,  49,  42],\n",
       "       [ 27,  96,  59,  81,  17,  64,  31,  81,  76,  92],\n",
       "       [ 44,  48,  81, 119,  43,  96, 117,  74, 103,  38],\n",
       "       [ 48,  31,  61,  74,  78,  57,  94,  32,  48,   6],\n",
       "       [ 87,  99, 101,  31,  89,  35, 108,  69,  27, 103],\n",
       "       [ 57,   8,  75,  17,  44, 107,  88, 116,  53,  66],\n",
       "       [ 75,  18,  41,  28,  27,  71,  97, 111, 100,  58],\n",
       "       [ 14,  46,  62,  93, 114, 123,  98, 121,  81,  87]])"
      ]
     },
     "execution_count": 166,
     "metadata": {},
     "output_type": "execute_result"
    }
   ],
   "source": [
    "#create the matrix\n",
    "maxtrix= np.random.randint(5,125,(10,10))\n",
    "maxtrix"
   ]
  },
  {
   "cell_type": "code",
   "execution_count": 167,
   "metadata": {},
   "outputs": [
    {
     "data": {
      "text/plain": [
       "array([ 56, 116,  15,  73,  28,  19,  68,  26,  51,   8,  61,  93,  85,\n",
       "        51,  59,  84,  76,  19,  82,  20,  30,  58,  89,  63,  90, 119,\n",
       "       115,  34,  49,  42,  27,  96,  59,  81,  17,  64,  31,  81,  76,\n",
       "        92,  44,  48,  81, 119,  43,  96, 117,  74, 103,  38,  48,  31,\n",
       "        61,  74,  78,  57,  94,  32,  48,   6,  87,  99, 101,  31,  89,\n",
       "        35, 108,  69,  27, 103,  57,   8,  75,  17,  44, 107,  88, 116,\n",
       "        53,  66,  75,  18,  41,  28,  27,  71,  97, 111, 100,  58,  14,\n",
       "        46,  62,  93, 114, 123,  98, 121,  81,  87])"
      ]
     },
     "execution_count": 167,
     "metadata": {},
     "output_type": "execute_result"
    }
   ],
   "source": [
    "#unravel the matrix\n",
    "unravelled_maxtrix=maxtrix.ravel()\n",
    "unravelled_maxtrix"
   ]
  },
  {
   "cell_type": "code",
   "execution_count": 168,
   "metadata": {},
   "outputs": [
    {
     "data": {
      "text/plain": [
       "array([148, 328,  25, 199,  64,  37, 184,  58, 133,   4, 163, 259, 235,\n",
       "       133, 157, 232, 208,  37, 226,  40,  70, 154, 247, 169, 250, 337,\n",
       "       325,  82, 127, 106,  61, 268, 157, 223,  31, 172,  73, 223, 208,\n",
       "       256, 112, 124, 223, 337, 109, 268, 331, 202, 289,  94, 124,  73,\n",
       "       163, 202, 214, 151, 262,  76, 124,  -2, 241, 277, 283,  73, 247,\n",
       "        85, 304, 187,  61, 289, 151,   4, 205,  31, 112, 301, 244, 328,\n",
       "       139, 178, 205,  34, 103,  64,  61, 193, 271, 313, 280, 154,  22,\n",
       "       118, 166, 259, 322, 349, 274, 343, 223, 241])"
      ]
     },
     "execution_count": 168,
     "metadata": {},
     "output_type": "execute_result"
    }
   ],
   "source": [
    "#assign the array to the new value\n",
    "new_array_value=(unravelled_maxtrix)*3-20\n",
    "new_array_value"
   ]
  },
  {
   "cell_type": "code",
   "execution_count": null,
   "metadata": {},
   "outputs": [],
   "source": []
  }
 ],
 "metadata": {
  "hide_input": false,
  "kernelspec": {
   "display_name": "Python 3",
   "language": "python",
   "name": "python3"
  },
  "language_info": {
   "codemirror_mode": {
    "name": "ipython",
    "version": 3
   },
   "file_extension": ".py",
   "mimetype": "text/x-python",
   "name": "python",
   "nbconvert_exporter": "python",
   "pygments_lexer": "ipython3",
   "version": "3.7.3"
  },
  "toc": {
   "base_numbering": 1,
   "nav_menu": {},
   "number_sections": true,
   "sideBar": true,
   "skip_h1_title": false,
   "title_cell": "Table of Contents",
   "title_sidebar": "Contents",
   "toc_cell": false,
   "toc_position": {},
   "toc_section_display": true,
   "toc_window_display": false
  },
  "varInspector": {
   "cols": {
    "lenName": 16,
    "lenType": 16,
    "lenVar": 40
   },
   "kernels_config": {
    "python": {
     "delete_cmd_postfix": "",
     "delete_cmd_prefix": "del ",
     "library": "var_list.py",
     "varRefreshCmd": "print(var_dic_list())"
    },
    "r": {
     "delete_cmd_postfix": ") ",
     "delete_cmd_prefix": "rm(",
     "library": "var_list.r",
     "varRefreshCmd": "cat(var_dic_list()) "
    }
   },
   "types_to_exclude": [
    "module",
    "function",
    "builtin_function_or_method",
    "instance",
    "_Feature"
   ],
   "window_display": false
  }
 },
 "nbformat": 4,
 "nbformat_minor": 4
}
